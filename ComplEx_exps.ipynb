{
 "cells": [
  {
   "cell_type": "code",
   "execution_count": 1,
   "id": "usual-wonder",
   "metadata": {},
   "outputs": [],
   "source": [
    "# Baseline results:\n",
    "\n",
    "\n",
    "# FB237 - ComplEx\n",
    "# TEST :  ({'rhs': 0.43725693225860596, 'lhs': 0.24350158870220184}, {'rhs': tensor([0.3430, 0.4798, 0.6232]), 'lhs': tensor([0.1607, 0.2649, 0.4099])})\n",
    "#\n",
    "#\n",
    "# FB237 - ComplEx_NNE\n",
    "# TEST :  ({'rhs': 0.4425685703754425, 'lhs': 0.2489389330148697}, {'rhs': tensor([0.3447, 0.4868, 0.6340]), 'lhs': tensor([0.1619, 0.2741, 0.4254])})\n",
    "# mu=100\n",
    "# parameter settings: Namespace(batch_size=1000, dataset='FB237', decay1=0.9, decay2=0.999, init=0.001, learning_rate=0.1, max_epochs=100, model='ComplEx_NNE', optimizer='Adagrad', rank=500, reg=0.01, regularizer='N3', valid=5.0)\n",
    "#\n",
    "#\n",
    "#\n",
    "# May 10 - TEST :  ({'rhs': 0.4451044201850891, 'lhs': 0.24951453506946564}, {'rhs': tensor([0.3483, 0.4881, 0.6378]), 'lhs': tensor([0.1628, 0.2727, 0.4277])})\n",
    "\n",
    "\n",
    "\n",
    "\n",
    "\n",
    "\n",
    "\n",
    "\n",
    "#\n",
    "#\n",
    "#TEST :  ({'rhs': 0.4440726935863495, 'lhs': 0.250210702419281}, {'rhs': tensor([0.3471, 0.4878, 0.6369]), 'lhs': tensor([0.1639, 0.2743, 0.4269])})\n",
    "#\n",
    "#TEST :  ({'rhs': 0.4438616931438446, 'lhs': 0.25086915493011475}, {'rhs': tensor([0.3466, 0.4883, 0.6363]), 'lhs': tensor([0.1631, 0.2757, 0.4283])})"
   ]
  },
  {
   "cell_type": "markdown",
   "id": "expected-space",
   "metadata": {
    "tags": [],
    "toc-hr-collapsed": true
   },
   "source": [
    "# Initial run"
   ]
  },
  {
   "cell_type": "code",
   "execution_count": 57,
   "id": "canadian-accommodation",
   "metadata": {},
   "outputs": [],
   "source": [
    "import pickle\n",
    "with open('model_data.pkl', 'rb') as handle:\n",
    "    m = pickle.load(handle)"
   ]
  },
  {
   "cell_type": "code",
   "execution_count": 58,
   "id": "geological-personal",
   "metadata": {},
   "outputs": [
    {
     "data": {
      "text/plain": [
       "tensor([[ 0.4135, -0.2375,  0.1665,  ..., -0.3173, -0.1253, -0.3187],\n",
       "        [-0.0872,  0.1159,  0.2083,  ..., -0.4141, -0.2557, -0.0050]],\n",
       "       device='cuda:0')"
      ]
     },
     "execution_count": 58,
     "metadata": {},
     "output_type": "execute_result"
    }
   ],
   "source": [
    "dir(m.embeddings)\n",
    "# print(m.embeddings[0].weight)\n",
    "# with torch.no_grad():\n",
    "#     for param in m.parameters():\n",
    "#         print((param))\n",
    "#         param.clamp_(1e-3, 1)\n",
    "#         print(param)\n",
    "#         break\n",
    "# m.parameters()[0]\n",
    "all_idx = [i for i in range(m.embeddings[0].num_embeddings)]\n",
    "all_idx = torch.LongTensor(all_idx).cuda()\n",
    "tmp = m.embeddings[0](all_idx)\n",
    "# m.embeddings[0].weight.data = m.embeddings[0].weight.data.clamp_(0.01, 1)\n",
    "# m.embeddings[0].num_embeddings \n",
    "m.embeddings[0].weight.data[[0, 1]]"
   ]
  },
  {
   "cell_type": "code",
   "execution_count": 3,
   "id": "fatal-final",
   "metadata": {},
   "outputs": [
    {
     "name": "stdout",
     "output_type": "stream",
     "text": [
      "\n",
      "======> Parameter settings: Namespace(batch_size=1000, dataset='FB237', decay1=0.9, decay2=0.999, init=0.001, learning_rate=0.1, max_epochs=1, model='ComplEx', optimizer='Adagrad', rank=500, reg=0.01, regularizer='N3', valid=5.0)\n",
      "original training number: 272115\n",
      "sample training number: 272115\n",
      "\n",
      "======> Number of relations: 237\n",
      "(14541, 474, 14541)\n"
     ]
    },
    {
     "name": "stderr",
     "output_type": "stream",
     "text": [
      "train loss:   0%|          | 0/272115 [00:00<?, ?ex/s]"
     ]
    },
    {
     "name": "stdout",
     "output_type": "stream",
     "text": [
      "======> Checking model type\n"
     ]
    },
    {
     "name": "stderr",
     "output_type": "stream",
     "text": [
      "train loss:   2%|▏         | 6000/272115 [00:04<03:11, 1392.69ex/s, loss=27]\n"
     ]
    },
    {
     "ename": "KeyboardInterrupt",
     "evalue": "",
     "output_type": "error",
     "traceback": [
      "\u001b[0;31m---------------------------------------------------------------------------\u001b[0m",
      "\u001b[0;31mKeyboardInterrupt\u001b[0m                         Traceback (most recent call last)",
      "\u001b[0;32m/home/ComplEx-Inject/kbc/learn.py\u001b[0m in \u001b[0;36m<module>\u001b[0;34m\u001b[0m\n\u001b[1;32m    180\u001b[0m             \u001b[0mmodel\u001b[0m\u001b[0;34m.\u001b[0m\u001b[0mmu\u001b[0m \u001b[0;34m=\u001b[0m \u001b[0;36m2\u001b[0m \u001b[0;34m*\u001b[0m \u001b[0mmodel\u001b[0m\u001b[0;34m.\u001b[0m\u001b[0mmu\u001b[0m\u001b[0;34m\u001b[0m\u001b[0;34m\u001b[0m\u001b[0m\n\u001b[1;32m    181\u001b[0m     \u001b[0;31m# cur_loss = optimizer.epoch(examples)\u001b[0m\u001b[0;34m\u001b[0m\u001b[0;34m\u001b[0m\u001b[0;34m\u001b[0m\u001b[0m\n\u001b[0;32m--> 182\u001b[0;31m     \u001b[0mcur_loss\u001b[0m \u001b[0;34m=\u001b[0m \u001b[0moptimizer\u001b[0m\u001b[0;34m.\u001b[0m\u001b[0mepoch_2\u001b[0m\u001b[0;34m(\u001b[0m\u001b[0mexamples\u001b[0m\u001b[0;34m,\u001b[0m \u001b[0mdataset\u001b[0m\u001b[0;34m)\u001b[0m\u001b[0;34m\u001b[0m\u001b[0;34m\u001b[0m\u001b[0m\n\u001b[0m\u001b[1;32m    183\u001b[0m \u001b[0;34m\u001b[0m\u001b[0m\n\u001b[1;32m    184\u001b[0m     \u001b[0;32mif\u001b[0m \u001b[0;34m(\u001b[0m\u001b[0me\u001b[0m \u001b[0;34m+\u001b[0m \u001b[0;36m1\u001b[0m\u001b[0;34m)\u001b[0m \u001b[0;34m%\u001b[0m \u001b[0margs\u001b[0m\u001b[0;34m.\u001b[0m\u001b[0mvalid\u001b[0m \u001b[0;34m==\u001b[0m \u001b[0;36m0\u001b[0m\u001b[0;34m:\u001b[0m\u001b[0;34m\u001b[0m\u001b[0;34m\u001b[0m\u001b[0m\n",
      "\u001b[0;32m/home/ComplEx-Inject/kbc/optimizers.py\u001b[0m in \u001b[0;36mepoch_2\u001b[0;34m(self, examples, dataset)\u001b[0m\n\u001b[1;32m    152\u001b[0m                 \u001b[0mneg_tail_set\u001b[0m \u001b[0;34m=\u001b[0m \u001b[0mset\u001b[0m\u001b[0;34m(\u001b[0m\u001b[0;34m)\u001b[0m\u001b[0;34m\u001b[0m\u001b[0;34m\u001b[0m\u001b[0m\n\u001b[1;32m    153\u001b[0m                 \u001b[0;32mfor\u001b[0m \u001b[0mtriple\u001b[0m \u001b[0;32min\u001b[0m \u001b[0minput_batch\u001b[0m\u001b[0;34m:\u001b[0m\u001b[0;34m\u001b[0m\u001b[0;34m\u001b[0m\u001b[0m\n\u001b[0;32m--> 154\u001b[0;31m                     \u001b[0mtmp_head_set\u001b[0m \u001b[0;34m=\u001b[0m \u001b[0mdataset\u001b[0m\u001b[0;34m.\u001b[0m\u001b[0mgenerateHeadNegTriple\u001b[0m\u001b[0;34m(\u001b[0m\u001b[0mself\u001b[0m\u001b[0;34m.\u001b[0m\u001b[0mm_NumNeg\u001b[0m \u001b[0;34m//\u001b[0m \u001b[0;36m2\u001b[0m\u001b[0;34m,\u001b[0m \u001b[0mtriple\u001b[0m\u001b[0;34m)\u001b[0m\u001b[0;34m\u001b[0m\u001b[0;34m\u001b[0m\u001b[0m\n\u001b[0m\u001b[1;32m    155\u001b[0m                     \u001b[0mneg_head_set\u001b[0m \u001b[0;34m=\u001b[0m \u001b[0mtmp_head_set\u001b[0m\u001b[0;34m.\u001b[0m\u001b[0munion\u001b[0m\u001b[0;34m(\u001b[0m\u001b[0mneg_head_set\u001b[0m\u001b[0;34m)\u001b[0m\u001b[0;34m\u001b[0m\u001b[0;34m\u001b[0m\u001b[0m\n\u001b[1;32m    156\u001b[0m                     \u001b[0mneg_tail_set\u001b[0m \u001b[0;34m=\u001b[0m \u001b[0mneg_tail_set\u001b[0m\u001b[0;34m.\u001b[0m\u001b[0munion\u001b[0m\u001b[0;34m(\u001b[0m\u001b[0mdataset\u001b[0m\u001b[0;34m.\u001b[0m\u001b[0mgenerateTailNegTriple\u001b[0m\u001b[0;34m(\u001b[0m\u001b[0mself\u001b[0m\u001b[0;34m.\u001b[0m\u001b[0mm_NumNeg\u001b[0m \u001b[0;34m//\u001b[0m \u001b[0;36m2\u001b[0m\u001b[0;34m,\u001b[0m \u001b[0mtriple\u001b[0m\u001b[0;34m)\u001b[0m\u001b[0;34m)\u001b[0m\u001b[0;34m\u001b[0m\u001b[0;34m\u001b[0m\u001b[0m\n",
      "\u001b[0;32m/home/ComplEx-Inject/kbc/datasets.py\u001b[0m in \u001b[0;36mgenerateHeadNegTriple\u001b[0;34m(self, m_NumNeg, triple)\u001b[0m\n\u001b[1;32m    131\u001b[0m             \u001b[0mNegativeTriple\u001b[0m \u001b[0;34m=\u001b[0m \u001b[0;34m(\u001b[0m\u001b[0miNegHead\u001b[0m\u001b[0;34m,\u001b[0m \u001b[0miPosRelation\u001b[0m\u001b[0;34m.\u001b[0m\u001b[0mdata\u001b[0m\u001b[0;34m,\u001b[0m \u001b[0miPosTail\u001b[0m\u001b[0;34m.\u001b[0m\u001b[0mdata\u001b[0m\u001b[0;34m)\u001b[0m\u001b[0;34m\u001b[0m\u001b[0;34m\u001b[0m\u001b[0m\n\u001b[1;32m    132\u001b[0m             \u001b[0;32mwhile\u001b[0m \u001b[0;34m(\u001b[0m\u001b[0miNegHead\u001b[0m \u001b[0;34m==\u001b[0m \u001b[0miPosHead\u001b[0m\u001b[0;34m)\u001b[0m\u001b[0;34m:\u001b[0m\u001b[0;34m\u001b[0m\u001b[0;34m\u001b[0m\u001b[0m\n\u001b[0;32m--> 133\u001b[0;31m                 \u001b[0miNegHead\u001b[0m \u001b[0;34m=\u001b[0m \u001b[0mnp\u001b[0m\u001b[0;34m.\u001b[0m\u001b[0mrandom\u001b[0m\u001b[0;34m.\u001b[0m\u001b[0mrandint\u001b[0m\u001b[0;34m(\u001b[0m\u001b[0miNumberOfEntities\u001b[0m\u001b[0;34m)\u001b[0m\u001b[0;34m\u001b[0m\u001b[0;34m\u001b[0m\u001b[0m\n\u001b[0m\u001b[1;32m    134\u001b[0m                 \u001b[0mNegativeTriple\u001b[0m \u001b[0;34m=\u001b[0m \u001b[0;34m(\u001b[0m\u001b[0miNegHead\u001b[0m\u001b[0;34m,\u001b[0m \u001b[0mint\u001b[0m\u001b[0;34m(\u001b[0m\u001b[0miPosRelation\u001b[0m\u001b[0;34m.\u001b[0m\u001b[0mdata\u001b[0m\u001b[0;34m)\u001b[0m\u001b[0;34m,\u001b[0m \u001b[0mint\u001b[0m\u001b[0;34m(\u001b[0m\u001b[0miPosTail\u001b[0m\u001b[0;34m.\u001b[0m\u001b[0mdata\u001b[0m\u001b[0;34m)\u001b[0m\u001b[0;34m)\u001b[0m\u001b[0;34m\u001b[0m\u001b[0;34m\u001b[0m\u001b[0m\n\u001b[1;32m    135\u001b[0m                 \u001b[0;31m# print('new triple generated: ' + str(NegativeTriple))\u001b[0m\u001b[0;34m\u001b[0m\u001b[0;34m\u001b[0m\u001b[0;34m\u001b[0m\u001b[0m\n",
      "\u001b[0;32mmtrand.pyx\u001b[0m in \u001b[0;36mnumpy.random.mtrand.RandomState.randint\u001b[0;34m()\u001b[0m\n",
      "\u001b[0;32m/opt/conda/lib/python3.7/site-packages/numpy/core/_dtype.py\u001b[0m in \u001b[0;36m_name_get\u001b[0;34m(dtype)\u001b[0m\n\u001b[1;32m    331\u001b[0m \u001b[0;34m\u001b[0m\u001b[0m\n\u001b[1;32m    332\u001b[0m \u001b[0;34m\u001b[0m\u001b[0m\n\u001b[0;32m--> 333\u001b[0;31m \u001b[0;32mdef\u001b[0m \u001b[0m_name_get\u001b[0m\u001b[0;34m(\u001b[0m\u001b[0mdtype\u001b[0m\u001b[0;34m)\u001b[0m\u001b[0;34m:\u001b[0m\u001b[0;34m\u001b[0m\u001b[0;34m\u001b[0m\u001b[0m\n\u001b[0m\u001b[1;32m    334\u001b[0m     \u001b[0;31m# provides dtype.name.__get__, documented as returning a \"bit name\"\u001b[0m\u001b[0;34m\u001b[0m\u001b[0;34m\u001b[0m\u001b[0;34m\u001b[0m\u001b[0m\n\u001b[1;32m    335\u001b[0m \u001b[0;34m\u001b[0m\u001b[0m\n",
      "\u001b[0;31mKeyboardInterrupt\u001b[0m: "
     ]
    }
   ],
   "source": [
    "%run kbc/learn.py --dataset FB237 --model ComplEx --rank 500 --optimizer Adagrad --learning_rate 1e-1 --batch_size 1000 --regularizer N3 --reg 1e-2 --max_epochs 1 --valid 5"
   ]
  },
  {
   "cell_type": "code",
   "execution_count": 20,
   "id": "viral-mattress",
   "metadata": {},
   "outputs": [
    {
     "name": "stdout",
     "output_type": "stream",
     "text": [
      "# packages in environment at /opt/conda:\n",
      "#\n",
      "# Name                    Version                   Build  Channel\n",
      "_libgcc_mutex             0.1                        main  \n",
      "anyio                     2.2.0            py37h89c1867_0    conda-forge\n",
      "argon2-cffi               20.1.0           py37h4abf009_2    conda-forge\n",
      "asn1crypto                1.3.0                    py37_0  \n",
      "async_generator           1.10                       py_0    conda-forge\n",
      "attrs                     21.2.0             pyhd8ed1ab_0    conda-forge\n",
      "babel                     2.9.1              pyh44b312d_0    conda-forge\n",
      "backcall                  0.1.0                    py37_0  \n",
      "beautifulsoup4            4.9.0                    py37_0  \n",
      "blas                      1.0                         mkl  \n",
      "bleach                    3.3.0              pyh44b312d_0    conda-forge\n",
      "bzip2                     1.0.8                h7b6447c_0  \n",
      "ca-certificates           2020.12.5            ha878542_0    conda-forge\n",
      "certifi                   2020.12.5        py37h89c1867_1    conda-forge\n",
      "cffi                      1.14.0           py37h2e261b9_0  \n",
      "chardet                   3.0.4                 py37_1003  \n",
      "conda                     4.10.1           py37h89c1867_0    conda-forge\n",
      "conda-build               3.18.11                  py37_0  \n",
      "conda-package-handling    1.6.0            py37h7b6447c_0  \n",
      "cryptography              2.8              py37h1ba5d50_0  \n",
      "cudatoolkit               10.1.243             h6bb024c_0  \n",
      "cycler                    0.10.0                     py_2    conda-forge\n",
      "decorator                 4.4.2                      py_0  \n",
      "defusedxml                0.7.1              pyhd8ed1ab_0    conda-forge\n",
      "entrypoints               0.3             pyhd8ed1ab_1003    conda-forge\n",
      "filelock                  3.0.12                     py_0  \n",
      "freetype                  2.9.1                h8a8886c_1  \n",
      "glob2                     0.7                        py_0  \n",
      "icu                       67.1                 he1b5a44_0    conda-forge\n",
      "idna                      2.8                      py37_0  \n",
      "importlib-metadata        4.0.1            py37h89c1867_0    conda-forge\n",
      "intel-openmp              2020.0                      166  \n",
      "ipykernel                 5.5.4            py37h085eea5_0    conda-forge\n",
      "ipython                   7.13.0           py37h5ca1d4c_0  \n",
      "ipython_genutils          0.2.0                    py37_0  \n",
      "jedi                      0.16.0                   py37_1  \n",
      "jinja2                    2.11.1                     py_0  \n",
      "jpeg                      9b                   h024ee3a_2  \n",
      "json5                     0.9.5              pyh9f0ad1d_0    conda-forge\n",
      "jsonschema                3.2.0              pyhd8ed1ab_3    conda-forge\n",
      "jupyter-packaging         0.7.12             pyhd3eb1b0_0  \n",
      "jupyter_client            6.1.12             pyhd8ed1ab_0    conda-forge\n",
      "jupyter_core              4.7.1            py37h89c1867_0    conda-forge\n",
      "jupyter_server            1.4.1            py37h06a4308_0  \n",
      "jupyterlab                3.0.14             pyhd8ed1ab_0    conda-forge\n",
      "jupyterlab_pygments       0.1.2              pyh9f0ad1d_0    conda-forge\n",
      "jupyterlab_server         2.4.0              pyhd3eb1b0_0  \n",
      "kiwisolver                1.3.1            py37hc928c03_0    conda-forge\n",
      "ld_impl_linux-64          2.33.1               h53a641e_7  \n",
      "libarchive                3.3.3                h5d8350f_5  \n",
      "libedit                   3.1.20181209         hc058e9b_0  \n",
      "libffi                    3.2.1                hd88cf55_4  \n",
      "libgcc-ng                 9.1.0                hdf63c60_0  \n",
      "libgfortran-ng            7.3.0                hdf63c60_0  \n",
      "liblief                   0.9.0                h7725739_2  \n",
      "libpng                    1.6.37               hbc83047_0  \n",
      "libsodium                 1.0.18               h36c2ea0_1    conda-forge\n",
      "libstdcxx-ng              9.1.0                hdf63c60_0  \n",
      "libtiff                   4.1.0                h2733197_0  \n",
      "libxml2                   2.9.9                hea5a465_1  \n",
      "lz4-c                     1.8.1.2              h14c3975_0  \n",
      "lzo                       2.10                 h7b6447c_2  \n",
      "markupsafe                1.1.1            py37h7b6447c_0  \n",
      "matplotlib                3.2.2                         1    conda-forge\n",
      "matplotlib-base           3.2.2            py37h1d35a4c_1    conda-forge\n",
      "mistune                   0.8.4           py37h4abf009_1002    conda-forge\n",
      "mkl                       2020.0                      166  \n",
      "mkl-service               2.3.0            py37he904b0f_0  \n",
      "mkl_fft                   1.0.15           py37ha843d7b_0  \n",
      "mkl_random                1.1.0            py37hd6b4f25_0  \n",
      "nbclassic                 0.2.6              pyhd3eb1b0_0  \n",
      "nbclient                  0.5.3              pyhd8ed1ab_0    conda-forge\n",
      "nbconvert                 6.0.7            py37h89c1867_3    conda-forge\n",
      "nbformat                  5.1.3              pyhd8ed1ab_0    conda-forge\n",
      "ncurses                   6.2                  he6710b0_0  \n",
      "nest-asyncio              1.5.1              pyhd8ed1ab_0    conda-forge\n",
      "ninja                     1.9.0            py37hfd86e86_0  \n",
      "notebook                  6.3.0              pyha770c72_1    conda-forge\n",
      "numpy                     1.18.1           py37h4f9e942_0  \n",
      "numpy-base                1.18.1           py37hde5b4d6_1  \n",
      "olefile                   0.46                     py37_0  \n",
      "openssl                   1.1.1k               h27cfd23_0  \n",
      "packaging                 20.9               pyh44b312d_0    conda-forge\n",
      "pandoc                    2.12                 h7f98852_0    conda-forge\n",
      "pandocfilters             1.4.2                      py_1    conda-forge\n",
      "parso                     0.6.2                      py_0  \n",
      "patchelf                  0.10                 he6710b0_0  \n",
      "pexpect                   4.8.0                    py37_0  \n",
      "pickleshare               0.7.5                    py37_0  \n",
      "pillow                    7.0.0            py37hb39fc2d_0  \n",
      "pip                       20.0.2                   py37_1  \n",
      "pkginfo                   1.5.0.1                  py37_0  \n",
      "prometheus_client         0.10.1             pyhd8ed1ab_0    conda-forge\n",
      "prompt-toolkit            3.0.4                      py_0  \n",
      "prompt_toolkit            3.0.4                         0  \n",
      "psutil                    5.7.0            py37h7b6447c_0  \n",
      "ptyprocess                0.6.0                    py37_0  \n",
      "py-lief                   0.9.0            py37h7725739_2  \n",
      "pycosat                   0.6.3            py37h7b6447c_0  \n",
      "pycparser                 2.19                     py37_0  \n",
      "pygments                  2.6.1                      py_0  \n",
      "pyopenssl                 19.1.0                   py37_0  \n",
      "pyparsing                 2.4.7              pyh9f0ad1d_0    conda-forge\n",
      "pyrsistent                0.17.3           py37h4abf009_1    conda-forge\n",
      "pysocks                   1.7.1                    py37_0  \n",
      "python                    3.7.7           h191fe78_0_cpython  \n",
      "python-dateutil           2.8.1                      py_0    conda-forge\n",
      "python-libarchive-c       2.9                        py_0  \n",
      "python_abi                3.7                     1_cp37m    conda-forge\n",
      "pytorch                   1.5.0           py3.7_cuda10.1.243_cudnn7.6.3_0    pytorch\n",
      "pytz                      2019.3                     py_0  \n",
      "pyyaml                    5.3.1            py37h7b6447c_0  \n",
      "pyzmq                     19.0.2           py37hac76be4_2    conda-forge\n",
      "readline                  7.0                  h7b6447c_5  \n",
      "requests                  2.22.0                   py37_1  \n",
      "ripgrep                   11.0.2               he32d670_0  \n",
      "ruamel_yaml               0.15.87          py37h7b6447c_0  \n",
      "send2trash                1.5.0                      py_0    conda-forge\n",
      "setuptools                45.2.0                   py37_0  \n",
      "six                       1.14.0                   py37_0  \n",
      "sniffio                   1.2.0            py37h89c1867_1    conda-forge\n",
      "soupsieve                 2.0                        py_0  \n",
      "sqlite                    3.31.1               h7b6447c_0  \n",
      "terminado                 0.9.4            py37h89c1867_0    conda-forge\n",
      "testpath                  0.4.4                      py_0    conda-forge\n",
      "tk                        8.6.10               h21135ba_1    conda-forge\n",
      "torchvision               0.6.0                py37_cu101    pytorch\n",
      "tornado                   6.1              py37h4abf009_0    conda-forge\n",
      "tqdm                      4.42.1                     py_0  \n",
      "traitlets                 4.3.3                    py37_0  \n",
      "typing_extensions         3.7.4.3                    py_0    conda-forge\n",
      "urllib3                   1.25.8                   py37_0  \n",
      "wcwidth                   0.1.9                      py_0  \n",
      "webencodings              0.5.1                      py_1    conda-forge\n",
      "wheel                     0.34.2                   py37_0  \n",
      "xz                        5.2.4                h14c3975_4  \n",
      "yaml                      0.1.7                had09818_2  \n",
      "zeromq                    4.3.4                h2531618_0  \n",
      "zipp                      3.4.1              pyhd8ed1ab_0    conda-forge\n",
      "zlib                      1.2.11               h7b6447c_3  \n",
      "zstd                      1.3.7                h0b5b093_0  \n",
      "\n",
      "Note: you may need to restart the kernel to use updated packages.\n"
     ]
    }
   ],
   "source": [
    "conda list"
   ]
  },
  {
   "cell_type": "markdown",
   "id": "bound-praise",
   "metadata": {},
   "source": [
    "# model parameters"
   ]
  },
  {
   "cell_type": "code",
   "execution_count": 21,
   "id": "coupled-gabriel",
   "metadata": {},
   "outputs": [
    {
     "data": {
      "text/plain": [
       "(500, (14951, 2690, 14951))"
      ]
     },
     "execution_count": 21,
     "metadata": {},
     "output_type": "execute_result"
    }
   ],
   "source": [
    "m.rank , m.sizes"
   ]
  },
  {
   "cell_type": "code",
   "execution_count": 6,
   "id": "active-jumping",
   "metadata": {},
   "outputs": [],
   "source": [
    "emb = m.embeddings"
   ]
  },
  {
   "cell_type": "code",
   "execution_count": 8,
   "id": "adjustable-bailey",
   "metadata": {},
   "outputs": [
    {
     "data": {
      "text/plain": [
       "Embedding(14951, 1000, sparse=True)"
      ]
     },
     "execution_count": 8,
     "metadata": {},
     "output_type": "execute_result"
    }
   ],
   "source": [
    "emb[0]"
   ]
  },
  {
   "cell_type": "code",
   "execution_count": 9,
   "id": "matched-techno",
   "metadata": {},
   "outputs": [
    {
     "data": {
      "text/plain": [
       "Embedding(2690, 1000, sparse=True)"
      ]
     },
     "execution_count": 9,
     "metadata": {},
     "output_type": "execute_result"
    }
   ],
   "source": [
    "emb[1]"
   ]
  },
  {
   "cell_type": "code",
   "execution_count": 10,
   "id": "annual-stick",
   "metadata": {},
   "outputs": [],
   "source": [
    "from kbc.datasets import Dataset\n",
    "\n",
    "dataset = Dataset(\"FB15K\")\n",
    "examples = torch.from_numpy(dataset.get_train().astype('int64'))"
   ]
  },
  {
   "cell_type": "code",
   "execution_count": 60,
   "id": "powerful-scientist",
   "metadata": {},
   "outputs": [
    {
     "data": {
      "text/plain": [
       "967.0"
      ]
     },
     "execution_count": 60,
     "metadata": {},
     "output_type": "execute_result"
    }
   ],
   "source": [
    "np.ceil(examples.shape[0]/ 1000)"
   ]
  },
  {
   "cell_type": "code",
   "execution_count": 31,
   "id": "pending-reminder",
   "metadata": {},
   "outputs": [],
   "source": [
    "examples.shape\n",
    "\n",
    "actual_examples = examples[0:10, :]\n",
    "input_batch = actual_examples.cuda()"
   ]
  },
  {
   "cell_type": "code",
   "execution_count": 32,
   "id": "perfect-dynamics",
   "metadata": {},
   "outputs": [],
   "source": [
    "predictions, factors = m.forward(input_batch)"
   ]
  },
  {
   "cell_type": "code",
   "execution_count": 52,
   "id": "stuck-vision",
   "metadata": {},
   "outputs": [
    {
     "data": {
      "text/plain": [
       "(torch.Size([10, 14951]), 3)"
      ]
     },
     "execution_count": 52,
     "metadata": {},
     "output_type": "execute_result"
    }
   ],
   "source": [
    "predictions.shape , len(factors)"
   ]
  },
  {
   "cell_type": "code",
   "execution_count": 53,
   "id": "aquatic-poland",
   "metadata": {},
   "outputs": [
    {
     "data": {
      "text/plain": [
       "(torch.Size([10, 500]), torch.Size([10, 500]), torch.Size([10, 500]))"
      ]
     },
     "execution_count": 53,
     "metadata": {},
     "output_type": "execute_result"
    }
   ],
   "source": [
    "factors[0].shape , factors[1].shape , factors[2].shape"
   ]
  },
  {
   "cell_type": "code",
   "execution_count": null,
   "id": "dominican-sampling",
   "metadata": {},
   "outputs": [],
   "source": []
  },
  {
   "cell_type": "code",
   "execution_count": 54,
   "id": "executed-acceptance",
   "metadata": {},
   "outputs": [
    {
     "data": {
      "text/plain": [
       "tensor([-3.0956, -1.7274, -3.8236,  ..., -1.7622, -2.6644, -2.7726],\n",
       "       device='cuda:0', grad_fn=<SelectBackward>)"
      ]
     },
     "execution_count": 54,
     "metadata": {},
     "output_type": "execute_result"
    }
   ],
   "source": [
    "predictions[0]"
   ]
  },
  {
   "cell_type": "code",
   "execution_count": null,
   "id": "severe-newsletter",
   "metadata": {},
   "outputs": [],
   "source": []
  },
  {
   "cell_type": "code",
   "execution_count": 55,
   "id": "processed-photographer",
   "metadata": {},
   "outputs": [],
   "source": [
    "truth = input_batch[:, 2]"
   ]
  },
  {
   "cell_type": "code",
   "execution_count": 56,
   "id": "stone-terminal",
   "metadata": {},
   "outputs": [
    {
     "data": {
      "text/plain": [
       "tensor([14087, 14423, 12452, 11884,  9212,  4125, 10917,  6416,  9625,  8263],\n",
       "       device='cuda:0')"
      ]
     },
     "execution_count": 56,
     "metadata": {},
     "output_type": "execute_result"
    }
   ],
   "source": [
    "truth"
   ]
  },
  {
   "cell_type": "code",
   "execution_count": 16,
   "id": "junior-syria",
   "metadata": {},
   "outputs": [],
   "source": [
    "import numpy as np\n",
    "copy = np.copy(dataset.data['train'])\n",
    "\n",
    "#tmp = np.copy(copy[:, 0])\n",
    "#copy[:, 0] = copy[:, 2]\n",
    "#copy[:, 2] = tmp\n",
    "#copy[:, 1] += self.n_predicates // 2  # has been multiplied by two."
   ]
  },
  {
   "cell_type": "code",
   "execution_count": 17,
   "id": "assured-translator",
   "metadata": {},
   "outputs": [
    {
     "data": {
      "text/plain": [
       "array([[ 8198,  1114, 14087],\n",
       "       [13163,   306, 14423],\n",
       "       [  108,  1175, 12452],\n",
       "       ...,\n",
       "       [12920,     3,  4309],\n",
       "       [ 4140,    37, 12866],\n",
       "       [11227,  1181, 11416]], dtype=uint64)"
      ]
     },
     "execution_count": 17,
     "metadata": {},
     "output_type": "execute_result"
    }
   ],
   "source": [
    "copy"
   ]
  },
  {
   "cell_type": "code",
   "execution_count": 28,
   "id": "continued-birmingham",
   "metadata": {},
   "outputs": [
    {
     "name": "stdout",
     "output_type": "stream",
     "text": [
      "483142 kbc/src_data/FB15K/train\n"
     ]
    }
   ],
   "source": [
    "!wc -l \"kbc/src_data/FB15K/train\""
   ]
  },
  {
   "cell_type": "code",
   "execution_count": 23,
   "id": "popular-screw",
   "metadata": {},
   "outputs": [
    {
     "name": "stdout",
     "output_type": "stream",
     "text": [
      "/home/ComplEx-Inject/kbc/data/FB15K/train.pickle\n",
      "/home/ComplEx-Inject/kbc/data/FB15K/test.pickle\n",
      "/home/ComplEx-Inject/kbc/data/FB15K/valid.pickle\n"
     ]
    }
   ],
   "source": [
    "for f in ['train', 'test', 'valid']:\n",
    "            print(str(dataset.root / (f + '.pickle')))\n",
    "            #self.data[f] = pickle.load(in_file)"
   ]
  },
  {
   "cell_type": "code",
   "execution_count": 67,
   "id": "close-melissa",
   "metadata": {},
   "outputs": [
    {
     "data": {
      "text/plain": [
       "torch.Tensor"
      ]
     },
     "execution_count": 67,
     "metadata": {},
     "output_type": "execute_result"
    }
   ],
   "source": [
    "type(m.embeddings[0].weight.data)"
   ]
  },
  {
   "cell_type": "code",
   "execution_count": null,
   "id": "modern-release",
   "metadata": {},
   "outputs": [],
   "source": []
  },
  {
   "cell_type": "code",
   "execution_count": null,
   "id": "northern-arctic",
   "metadata": {},
   "outputs": [],
   "source": []
  },
  {
   "cell_type": "code",
   "execution_count": null,
   "id": "dominican-liquid",
   "metadata": {},
   "outputs": [],
   "source": []
  },
  {
   "cell_type": "markdown",
   "id": "verified-bikini",
   "metadata": {},
   "source": [
    "# Test"
   ]
  },
  {
   "cell_type": "code",
   "execution_count": 69,
   "id": "metallic-there",
   "metadata": {},
   "outputs": [
    {
     "name": "stdout",
     "output_type": "stream",
     "text": [
      "\n",
      "=====> parameter settings: Namespace(batch_size=1000, dataset='FB15K', decay1=0.9, decay2=0.999, init=0.001, learning_rate=0.1, max_epochs=100, model='ComplEx', optimizer='Adagrad', rank=500, reg=0.01, regularizer='N3', valid=5.0)\n"
     ]
    },
    {
     "name": "stderr",
     "output_type": "stream",
     "text": [
      "train loss:   0%|          | 1000/966284 [00:00<00:14, 64408.85ex/s, loss=10]"
     ]
    },
    {
     "name": "stdout",
     "output_type": "stream",
     "text": [
      "2690\n",
      "(14951, 2690, 14951)\n"
     ]
    },
    {
     "name": "stderr",
     "output_type": "stream",
     "text": [
      "train loss: 100%|██████████| 966284/966284 [00:13<00:00, 69131.94ex/s, loss=4]\n",
      "train loss: 100%|██████████| 966284/966284 [00:14<00:00, 67600.26ex/s, loss=4]\n",
      "train loss: 100%|██████████| 966284/966284 [00:14<00:00, 67262.51ex/s, loss=4]\n",
      "train loss: 100%|██████████| 966284/966284 [00:14<00:00, 67297.55ex/s, loss=4]\n",
      "train loss: 100%|██████████| 966284/966284 [00:14<00:00, 67113.29ex/s, loss=4]\n",
      "train loss:   1%|          | 10000/966284 [00:00<00:15, 62669.70ex/s, loss=4]"
     ]
    },
    {
     "name": "stdout",
     "output_type": "stream",
     "text": [
      "\t TRAIN:  {'MRR': 0.969643771648407, 'hits@[1,3,10]': tensor([0.9551, 0.9819, 0.9908])}\n",
      "\t VALID :  {'MRR': 0.7983026802539825, 'hits@[1,3,10]': tensor([0.7445, 0.8348, 0.8893])}\n"
     ]
    },
    {
     "name": "stderr",
     "output_type": "stream",
     "text": [
      "train loss: 100%|██████████| 966284/966284 [00:14<00:00, 67668.54ex/s, loss=4]\n",
      "train loss: 100%|██████████| 966284/966284 [00:14<00:00, 67372.77ex/s, loss=4]\n",
      "train loss: 100%|██████████| 966284/966284 [00:14<00:00, 67076.55ex/s, loss=4]\n",
      "train loss: 100%|██████████| 966284/966284 [00:14<00:00, 67073.07ex/s, loss=4]\n",
      "train loss: 100%|██████████| 966284/966284 [00:14<00:00, 67029.96ex/s, loss=4]\n",
      "train loss:   1%|          | 10000/966284 [00:00<00:15, 62369.23ex/s, loss=3]"
     ]
    },
    {
     "name": "stdout",
     "output_type": "stream",
     "text": [
      "\t TRAIN:  {'MRR': 0.9887363016605377, 'hits@[1,3,10]': tensor([0.9824, 0.9942, 0.9977])}\n",
      "\t VALID :  {'MRR': 0.8275065124034882, 'hits@[1,3,10]': tensor([0.7827, 0.8575, 0.9025])}\n"
     ]
    },
    {
     "name": "stderr",
     "output_type": "stream",
     "text": [
      "train loss: 100%|██████████| 966284/966284 [00:14<00:00, 67639.88ex/s, loss=4]\n",
      "train loss: 100%|██████████| 966284/966284 [00:14<00:00, 67496.18ex/s, loss=4]\n",
      "train loss: 100%|██████████| 966284/966284 [00:14<00:00, 67216.71ex/s, loss=4]\n",
      "train loss: 100%|██████████| 966284/966284 [00:14<00:00, 67127.99ex/s, loss=4]\n",
      "train loss: 100%|██████████| 966284/966284 [00:14<00:00, 67011.82ex/s, loss=4]\n",
      "train loss:   1%|          | 10000/966284 [00:00<00:15, 61282.73ex/s, loss=4]"
     ]
    },
    {
     "name": "stdout",
     "output_type": "stream",
     "text": [
      "\t TRAIN:  {'MRR': 0.9946541488170624, 'hits@[1,3,10]': tensor([0.9918, 0.9971, 0.9988])}\n",
      "\t VALID :  {'MRR': 0.8361159563064575, 'hits@[1,3,10]': tensor([0.7949, 0.8635, 0.9057])}\n"
     ]
    },
    {
     "name": "stderr",
     "output_type": "stream",
     "text": [
      "train loss: 100%|██████████| 966284/966284 [00:14<00:00, 67807.12ex/s, loss=4]\n",
      "train loss: 100%|██████████| 966284/966284 [00:14<00:00, 67487.27ex/s, loss=4]\n",
      "train loss: 100%|██████████| 966284/966284 [00:14<00:00, 67198.14ex/s, loss=4]\n",
      "train loss: 100%|██████████| 966284/966284 [00:14<00:00, 67042.28ex/s, loss=4]\n",
      "train loss: 100%|██████████| 966284/966284 [00:14<00:00, 67083.52ex/s, loss=4]\n",
      "train loss:   1%|          | 10000/966284 [00:00<00:15, 60771.16ex/s, loss=4]"
     ]
    },
    {
     "name": "stdout",
     "output_type": "stream",
     "text": [
      "\t TRAIN:  {'MRR': 0.996328204870224, 'hits@[1,3,10]': tensor([0.9941, 0.9983, 0.9993])}\n",
      "\t VALID :  {'MRR': 0.8389176428318024, 'hits@[1,3,10]': tensor([0.7985, 0.8657, 0.9065])}\n"
     ]
    },
    {
     "name": "stderr",
     "output_type": "stream",
     "text": [
      "train loss: 100%|██████████| 966284/966284 [00:14<00:00, 67648.38ex/s, loss=4]\n",
      "train loss: 100%|██████████| 966284/966284 [00:14<00:00, 67430.00ex/s, loss=4]\n",
      "train loss: 100%|██████████| 966284/966284 [00:14<00:00, 67143.18ex/s, loss=3]\n",
      "train loss: 100%|██████████| 966284/966284 [00:14<00:00, 67056.61ex/s, loss=4]\n",
      "train loss: 100%|██████████| 966284/966284 [00:14<00:00, 66967.46ex/s, loss=4]\n",
      "train loss:   1%|          | 10000/966284 [00:00<00:15, 63404.45ex/s, loss=3]"
     ]
    },
    {
     "name": "stdout",
     "output_type": "stream",
     "text": [
      "\t TRAIN:  {'MRR': 0.9973507225513458, 'hits@[1,3,10]': tensor([0.9957, 0.9988, 0.9996])}\n",
      "\t VALID :  {'MRR': 0.8404399156570435, 'hits@[1,3,10]': tensor([0.8001, 0.8673, 0.9079])}\n"
     ]
    },
    {
     "name": "stderr",
     "output_type": "stream",
     "text": [
      "train loss: 100%|██████████| 966284/966284 [00:14<00:00, 67705.10ex/s, loss=4]\n",
      "train loss: 100%|██████████| 966284/966284 [00:14<00:00, 65401.31ex/s, loss=4]\n",
      "train loss: 100%|██████████| 966284/966284 [00:14<00:00, 67117.52ex/s, loss=4]\n",
      "train loss: 100%|██████████| 966284/966284 [00:14<00:00, 66998.81ex/s, loss=4]\n",
      "train loss: 100%|██████████| 966284/966284 [00:14<00:00, 67028.25ex/s, loss=4]\n",
      "train loss:   1%|          | 10000/966284 [00:00<00:15, 61048.65ex/s, loss=4]"
     ]
    },
    {
     "name": "stdout",
     "output_type": "stream",
     "text": [
      "\t TRAIN:  {'MRR': 0.9978101849555969, 'hits@[1,3,10]': tensor([0.9965, 0.9990, 0.9996])}\n",
      "\t VALID :  {'MRR': 0.8398878872394562, 'hits@[1,3,10]': tensor([0.7996, 0.8665, 0.9076])}\n"
     ]
    },
    {
     "name": "stderr",
     "output_type": "stream",
     "text": [
      "train loss: 100%|██████████| 966284/966284 [00:14<00:00, 67736.53ex/s, loss=4]\n",
      "train loss: 100%|██████████| 966284/966284 [00:14<00:00, 67479.27ex/s, loss=4]\n",
      "train loss: 100%|██████████| 966284/966284 [00:14<00:00, 67056.38ex/s, loss=4]\n",
      "train loss: 100%|██████████| 966284/966284 [00:14<00:00, 67040.89ex/s, loss=4]\n",
      "train loss: 100%|██████████| 966284/966284 [00:14<00:00, 67032.10ex/s, loss=4]\n",
      "train loss:   1%|          | 9000/966284 [00:00<00:15, 60582.31ex/s, loss=3]"
     ]
    },
    {
     "name": "stdout",
     "output_type": "stream",
     "text": [
      "\t TRAIN:  {'MRR': 0.9981466829776764, 'hits@[1,3,10]': tensor([0.9970, 0.9992, 0.9997])}\n",
      "\t VALID :  {'MRR': 0.840079128742218, 'hits@[1,3,10]': tensor([0.7991, 0.8670, 0.9082])}\n"
     ]
    },
    {
     "name": "stderr",
     "output_type": "stream",
     "text": [
      "train loss: 100%|██████████| 966284/966284 [00:14<00:00, 67703.78ex/s, loss=4]\n",
      "train loss: 100%|██████████| 966284/966284 [00:14<00:00, 67394.32ex/s, loss=4]\n",
      "train loss: 100%|██████████| 966284/966284 [00:14<00:00, 67053.05ex/s, loss=3]\n",
      "train loss: 100%|██████████| 966284/966284 [00:14<00:00, 67049.98ex/s, loss=4]\n",
      "train loss: 100%|██████████| 966284/966284 [00:14<00:00, 66968.77ex/s, loss=3]\n",
      "train loss:   1%|          | 9000/966284 [00:00<00:15, 62690.98ex/s, loss=3]"
     ]
    },
    {
     "name": "stdout",
     "output_type": "stream",
     "text": [
      "\t TRAIN:  {'MRR': 0.9986088275909424, 'hits@[1,3,10]': tensor([0.9977, 0.9994, 0.9998])}\n",
      "\t VALID :  {'MRR': 0.8400036692619324, 'hits@[1,3,10]': tensor([0.7991, 0.8673, 0.9081])}\n"
     ]
    },
    {
     "name": "stderr",
     "output_type": "stream",
     "text": [
      "train loss: 100%|██████████| 966284/966284 [00:14<00:00, 67682.28ex/s, loss=4]\n",
      "train loss: 100%|██████████| 966284/966284 [00:14<00:00, 67428.76ex/s, loss=4]\n",
      "train loss: 100%|██████████| 966284/966284 [00:14<00:00, 67139.94ex/s, loss=3]\n",
      "train loss: 100%|██████████| 966284/966284 [00:14<00:00, 66992.97ex/s, loss=3]\n",
      "train loss: 100%|██████████| 966284/966284 [00:14<00:00, 66982.19ex/s, loss=4]\n",
      "train loss:   1%|          | 10000/966284 [00:00<00:15, 61510.37ex/s, loss=3]"
     ]
    },
    {
     "name": "stdout",
     "output_type": "stream",
     "text": [
      "\t TRAIN:  {'MRR': 0.9987562596797943, 'hits@[1,3,10]': tensor([0.9979, 0.9996, 0.9998])}\n",
      "\t VALID :  {'MRR': 0.8399377763271332, 'hits@[1,3,10]': tensor([0.7988, 0.8676, 0.9086])}\n"
     ]
    },
    {
     "name": "stderr",
     "output_type": "stream",
     "text": [
      "train loss: 100%|██████████| 966284/966284 [00:14<00:00, 67768.85ex/s, loss=4]\n",
      "train loss: 100%|██████████| 966284/966284 [00:14<00:00, 67450.54ex/s, loss=4]\n",
      "train loss: 100%|██████████| 966284/966284 [00:14<00:00, 67174.29ex/s, loss=4]\n",
      "train loss: 100%|██████████| 966284/966284 [00:14<00:00, 67045.37ex/s, loss=3]\n",
      "train loss: 100%|██████████| 966284/966284 [00:14<00:00, 66789.81ex/s, loss=4]\n",
      "train loss:   1%|          | 10000/966284 [00:00<00:15, 62688.57ex/s, loss=3]"
     ]
    },
    {
     "name": "stdout",
     "output_type": "stream",
     "text": [
      "\t TRAIN:  {'MRR': 0.998898983001709, 'hits@[1,3,10]': tensor([0.9981, 0.9996, 0.9998])}\n",
      "\t VALID :  {'MRR': 0.8386847376823425, 'hits@[1,3,10]': tensor([0.7969, 0.8662, 0.9085])}\n"
     ]
    },
    {
     "name": "stderr",
     "output_type": "stream",
     "text": [
      "train loss: 100%|██████████| 966284/966284 [00:14<00:00, 67745.30ex/s, loss=3]\n",
      "train loss: 100%|██████████| 966284/966284 [00:14<00:00, 67492.02ex/s, loss=4]\n",
      "train loss: 100%|██████████| 966284/966284 [00:14<00:00, 64875.79ex/s, loss=4]\n",
      "train loss: 100%|██████████| 966284/966284 [00:14<00:00, 67093.53ex/s, loss=4]\n",
      "train loss: 100%|██████████| 966284/966284 [00:14<00:00, 65039.29ex/s, loss=3]\n",
      "train loss:   1%|          | 10000/966284 [00:00<00:15, 62919.91ex/s, loss=3]"
     ]
    },
    {
     "name": "stdout",
     "output_type": "stream",
     "text": [
      "\t TRAIN:  {'MRR': 0.9992030560970306, 'hits@[1,3,10]': tensor([0.9986, 0.9998, 0.9999])}\n",
      "\t VALID :  {'MRR': 0.8391217291355133, 'hits@[1,3,10]': tensor([0.7978, 0.8665, 0.9079])}\n"
     ]
    },
    {
     "name": "stderr",
     "output_type": "stream",
     "text": [
      "train loss: 100%|██████████| 966284/966284 [00:14<00:00, 67680.64ex/s, loss=4]\n",
      "train loss: 100%|██████████| 966284/966284 [00:14<00:00, 67464.44ex/s, loss=4]\n",
      "train loss: 100%|██████████| 966284/966284 [00:14<00:00, 67202.24ex/s, loss=3]\n",
      "train loss: 100%|██████████| 966284/966284 [00:14<00:00, 67127.90ex/s, loss=4]\n",
      "train loss: 100%|██████████| 966284/966284 [00:14<00:00, 66897.86ex/s, loss=4]\n",
      "train loss:   1%|          | 9000/966284 [00:00<00:15, 61280.17ex/s, loss=3]"
     ]
    },
    {
     "name": "stdout",
     "output_type": "stream",
     "text": [
      "\t TRAIN:  {'MRR': 0.9991681277751923, 'hits@[1,3,10]': tensor([0.9986, 0.9997, 0.9999])}\n",
      "\t VALID :  {'MRR': 0.8380947709083557, 'hits@[1,3,10]': tensor([0.7958, 0.8666, 0.9077])}\n"
     ]
    },
    {
     "name": "stderr",
     "output_type": "stream",
     "text": [
      "train loss: 100%|██████████| 966284/966284 [00:14<00:00, 67749.35ex/s, loss=4]\n",
      "train loss: 100%|██████████| 966284/966284 [00:14<00:00, 67436.62ex/s, loss=4]\n",
      "train loss: 100%|██████████| 966284/966284 [00:14<00:00, 67137.57ex/s, loss=3]\n",
      "train loss: 100%|██████████| 966284/966284 [00:14<00:00, 67208.58ex/s, loss=4]\n",
      "train loss: 100%|██████████| 966284/966284 [00:14<00:00, 67085.70ex/s, loss=3]\n",
      "train loss:   1%|          | 9000/966284 [00:00<00:15, 62765.09ex/s, loss=4]"
     ]
    },
    {
     "name": "stdout",
     "output_type": "stream",
     "text": [
      "\t TRAIN:  {'MRR': 0.9993129670619965, 'hits@[1,3,10]': tensor([0.9988, 0.9998, 0.9999])}\n",
      "\t VALID :  {'MRR': 0.8371223509311676, 'hits@[1,3,10]': tensor([0.7946, 0.8656, 0.9082])}\n"
     ]
    },
    {
     "name": "stderr",
     "output_type": "stream",
     "text": [
      "train loss: 100%|██████████| 966284/966284 [00:14<00:00, 67812.29ex/s, loss=3]\n",
      "train loss: 100%|██████████| 966284/966284 [00:14<00:00, 67415.67ex/s, loss=3]\n",
      "train loss: 100%|██████████| 966284/966284 [00:14<00:00, 67202.99ex/s, loss=3]\n",
      "train loss: 100%|██████████| 966284/966284 [00:14<00:00, 67119.65ex/s, loss=3]\n",
      "train loss: 100%|██████████| 966284/966284 [00:14<00:00, 66951.55ex/s, loss=3]\n",
      "train loss:   1%|          | 10000/966284 [00:00<00:15, 60902.51ex/s, loss=3]"
     ]
    },
    {
     "name": "stdout",
     "output_type": "stream",
     "text": [
      "\t TRAIN:  {'MRR': 0.9994375705718994, 'hits@[1,3,10]': tensor([0.9990, 0.9998, 0.9999])}\n",
      "\t VALID :  {'MRR': 0.8365679681301117, 'hits@[1,3,10]': tensor([0.7939, 0.8651, 0.9077])}\n"
     ]
    },
    {
     "name": "stderr",
     "output_type": "stream",
     "text": [
      "train loss: 100%|██████████| 966284/966284 [00:14<00:00, 67290.68ex/s, loss=3]\n",
      "train loss: 100%|██████████| 966284/966284 [00:14<00:00, 67473.04ex/s, loss=4]\n",
      "train loss: 100%|██████████| 966284/966284 [00:14<00:00, 67184.99ex/s, loss=3]\n",
      "train loss: 100%|██████████| 966284/966284 [00:14<00:00, 67042.23ex/s, loss=3]\n",
      "train loss: 100%|██████████| 966284/966284 [00:14<00:00, 67024.23ex/s, loss=4]\n",
      "train loss:   1%|          | 10000/966284 [00:00<00:15, 60120.09ex/s, loss=3]"
     ]
    },
    {
     "name": "stdout",
     "output_type": "stream",
     "text": [
      "\t TRAIN:  {'MRR': 0.9993806779384613, 'hits@[1,3,10]': tensor([0.9989, 0.9998, 0.9999])}\n",
      "\t VALID :  {'MRR': 0.8361540138721466, 'hits@[1,3,10]': tensor([0.7931, 0.8653, 0.9071])}\n"
     ]
    },
    {
     "name": "stderr",
     "output_type": "stream",
     "text": [
      "train loss: 100%|██████████| 966284/966284 [00:14<00:00, 67766.63ex/s, loss=4]\n",
      "train loss: 100%|██████████| 966284/966284 [00:14<00:00, 66941.48ex/s, loss=3]\n",
      "train loss: 100%|██████████| 966284/966284 [00:14<00:00, 67244.05ex/s, loss=3]\n",
      "train loss: 100%|██████████| 966284/966284 [00:14<00:00, 67137.47ex/s, loss=3]\n",
      "train loss: 100%|██████████| 966284/966284 [00:14<00:00, 67038.40ex/s, loss=3]\n",
      "train loss:   1%|          | 9000/966284 [00:00<00:15, 60392.53ex/s, loss=3]"
     ]
    },
    {
     "name": "stdout",
     "output_type": "stream",
     "text": [
      "\t TRAIN:  {'MRR': 0.9994101524353027, 'hits@[1,3,10]': tensor([0.9990, 0.9998, 0.9999])}\n",
      "\t VALID :  {'MRR': 0.8362356424331665, 'hits@[1,3,10]': tensor([0.7932, 0.8656, 0.9069])}\n"
     ]
    },
    {
     "name": "stderr",
     "output_type": "stream",
     "text": [
      "train loss: 100%|██████████| 966284/966284 [00:14<00:00, 67622.19ex/s, loss=3]\n",
      "train loss: 100%|██████████| 966284/966284 [00:14<00:00, 67442.43ex/s, loss=3]\n",
      "train loss: 100%|██████████| 966284/966284 [00:14<00:00, 67144.23ex/s, loss=4]\n",
      "train loss: 100%|██████████| 966284/966284 [00:14<00:00, 67075.17ex/s, loss=4]\n",
      "train loss: 100%|██████████| 966284/966284 [00:14<00:00, 67015.96ex/s, loss=4]\n",
      "train loss:   1%|          | 10000/966284 [00:00<00:15, 62733.17ex/s, loss=3]"
     ]
    },
    {
     "name": "stdout",
     "output_type": "stream",
     "text": [
      "\t TRAIN:  {'MRR': 0.9995589256286621, 'hits@[1,3,10]': tensor([0.9992, 0.9999, 0.9999])}\n",
      "\t VALID :  {'MRR': 0.8351040184497833, 'hits@[1,3,10]': tensor([0.7914, 0.8651, 0.9067])}\n"
     ]
    },
    {
     "name": "stderr",
     "output_type": "stream",
     "text": [
      "train loss: 100%|██████████| 966284/966284 [00:14<00:00, 67806.65ex/s, loss=4]\n",
      "train loss: 100%|██████████| 966284/966284 [00:14<00:00, 67451.26ex/s, loss=4]\n",
      "train loss: 100%|██████████| 966284/966284 [00:14<00:00, 67215.38ex/s, loss=4]\n",
      "train loss: 100%|██████████| 966284/966284 [00:14<00:00, 67114.90ex/s, loss=3]\n",
      "train loss: 100%|██████████| 966284/966284 [00:14<00:00, 66893.09ex/s, loss=4]\n",
      "train loss:   1%|          | 10000/966284 [00:00<00:15, 61965.12ex/s, loss=3]"
     ]
    },
    {
     "name": "stdout",
     "output_type": "stream",
     "text": [
      "\t TRAIN:  {'MRR': 0.9995043277740479, 'hits@[1,3,10]': tensor([0.9991, 0.9999, 0.9999])}\n",
      "\t VALID :  {'MRR': 0.8349964618682861, 'hits@[1,3,10]': tensor([0.7911, 0.8651, 0.9073])}\n"
     ]
    },
    {
     "name": "stderr",
     "output_type": "stream",
     "text": [
      "train loss: 100%|██████████| 966284/966284 [00:14<00:00, 67802.83ex/s, loss=4]\n",
      "train loss: 100%|██████████| 966284/966284 [00:14<00:00, 67436.45ex/s, loss=4]\n",
      "train loss: 100%|██████████| 966284/966284 [00:14<00:00, 67151.71ex/s, loss=4]\n",
      "train loss: 100%|██████████| 966284/966284 [00:14<00:00, 67090.42ex/s, loss=4]\n",
      "train loss: 100%|██████████| 966284/966284 [00:14<00:00, 67074.40ex/s, loss=3]\n",
      "train loss:   1%|          | 10000/966284 [00:00<00:15, 61152.03ex/s, loss=3]"
     ]
    },
    {
     "name": "stdout",
     "output_type": "stream",
     "text": [
      "\t TRAIN:  {'MRR': 0.9995319545269012, 'hits@[1,3,10]': tensor([0.9992, 0.9999, 0.9999])}\n",
      "\t VALID :  {'MRR': 0.8341457843780518, 'hits@[1,3,10]': tensor([0.7900, 0.8644, 0.9068])}\n"
     ]
    },
    {
     "name": "stderr",
     "output_type": "stream",
     "text": [
      "train loss: 100%|██████████| 966284/966284 [00:14<00:00, 67857.38ex/s, loss=3]\n",
      "train loss: 100%|██████████| 966284/966284 [00:14<00:00, 67493.49ex/s, loss=4]\n",
      "train loss: 100%|██████████| 966284/966284 [00:14<00:00, 67076.42ex/s, loss=4]\n",
      "train loss: 100%|██████████| 966284/966284 [00:14<00:00, 67083.62ex/s, loss=4]\n",
      "train loss: 100%|██████████| 966284/966284 [00:14<00:00, 67022.93ex/s, loss=3]\n"
     ]
    },
    {
     "name": "stdout",
     "output_type": "stream",
     "text": [
      "\t TRAIN:  {'MRR': 0.9995270371437073, 'hits@[1,3,10]': tensor([0.9992, 0.9998, 0.9999])}\n",
      "\t VALID :  {'MRR': 0.8339528143405914, 'hits@[1,3,10]': tensor([0.7897, 0.8644, 0.9065])}\n",
      "\n",
      "\n",
      "TEST :  ({'rhs': 0.8559465408325195, 'lhs': 0.8125519752502441}, {'rhs': tensor([0.8110, 0.8888, 0.9299]), 'lhs': tensor([0.7679, 0.8419, 0.8875])})\n"
     ]
    }
   ],
   "source": [
    "%run kbc/learn.py --dataset FB15K --model ComplEx --rank 500 --optimizer Adagrad --learning_rate 1e-1 --batch_size 1000 --regularizer N3 --reg 1e-2 --max_epochs 100 --valid 5\n",
    "\n",
    "\n"
   ]
  },
  {
   "cell_type": "code",
   "execution_count": 70,
   "id": "personal-polymer",
   "metadata": {},
   "outputs": [
    {
     "name": "stdout",
     "output_type": "stream",
     "text": [
      "tensor(414809.5000, device='cuda:0', grad_fn=<MulBackward0>)\n",
      "add rule injection term to loss function\n",
      "tensor(414816., device='cuda:0', grad_fn=<MulBackward0>)\n",
      "add rule injection term to loss function\n",
      "tensor(414805.5000, device='cuda:0', grad_fn=<MulBackward0>)\n",
      "\t TRAIN:  {'MRR': 0.9993033707141876, 'hits@[1,3,10]': tensor([0.9987, 0.9999, 0.9999])}\n",
      "\t VALID :  {'MRR': 0.8349361717700958, 'hits@[1,3,10]': tensor([0.7922, 0.8635, 0.9075])}\n",
      "\n",
      "\n",
      "TEST :  ({'rhs': 0.8571915030479431, 'lhs': 0.8137608170509338}, {'rhs': tensor([0.8135, 0.8878, 0.9297]), 'lhs': tensor([0.7706, 0.8420, 0.8874])})\n"
     ]
    }
   ],
   "source": [
    "!tail -10 ComplEx_NNE_FB15K_mu_10_test.txt"
   ]
  },
  {
   "cell_type": "code",
   "execution_count": 71,
   "id": "sustained-transport",
   "metadata": {},
   "outputs": [
    {
     "name": "stdout",
     "output_type": "stream",
     "text": [
      "tensor(2.4420, device='cuda:0', grad_fn=<MulBackward0>)\n",
      "add rule injection term to loss function\n",
      "tensor(2.4419, device='cuda:0', grad_fn=<MulBackward0>)\n",
      "add rule injection term to loss function\n",
      "tensor(2.4417, device='cuda:0', grad_fn=<MulBackward0>)\n",
      "add rule injection term to loss function\n",
      "tensor(3.0279, device='cuda:0', grad_fn=<MulBackward0>)\n",
      "\n",
      "\n",
      "TEST :  ({'rhs': 0.7420127391815186, 'lhs': 0.6874624490737915}, {'rhs': tensor([0.6615, 0.7978, 0.8793]), 'lhs': tensor([0.6050, 0.7404, 0.8288])})\n"
     ]
    }
   ],
   "source": [
    "!tail -10 ComplEx_NNE_test.txt"
   ]
  },
  {
   "cell_type": "code",
   "execution_count": 1,
   "id": "demanding-removal",
   "metadata": {},
   "outputs": [
    {
     "name": "stdout",
     "output_type": "stream",
     "text": [
      "/home/ComplEx-Injection-history/ComplEx-Inject\n"
     ]
    }
   ],
   "source": [
    "%cd /home/ComplEx-Injection-history/ComplEx-Inject"
   ]
  },
  {
   "cell_type": "code",
   "execution_count": 6,
   "id": "interested-kitchen",
   "metadata": {},
   "outputs": [],
   "source": [
    "%cp -r ComplEx-Inject/kbc/data ComplEx-Injection-history/ComplEx-Inject/kbc/data\n"
   ]
  },
  {
   "cell_type": "code",
   "execution_count": 7,
   "id": "induced-jersey",
   "metadata": {},
   "outputs": [],
   "source": [
    "%cp -r ComplEx-Inject/kbc/src_data ComplEx-Injection-history/ComplEx-Inject/kbc/src_data"
   ]
  },
  {
   "cell_type": "code",
   "execution_count": null,
   "id": "marine-camera",
   "metadata": {},
   "outputs": [
    {
     "name": "stdout",
     "output_type": "stream",
     "text": [
      "\n",
      "=====> parameter settings: Namespace(batch_size=1000, dataset='FB15K', decay1=0.9, decay2=0.999, init=0.001, learning_rate=0.1, max_epochs=100, model='ComplEx_NNE', optimizer='Adagrad', rank=500, reg=0.01, regularizer='N3', valid=5.0)\n"
     ]
    },
    {
     "name": "stderr",
     "output_type": "stream",
     "text": [
      "train loss:   0%|          | 0/966284 [00:00<?, ?ex/s]"
     ]
    },
    {
     "name": "stdout",
     "output_type": "stream",
     "text": [
      "2690\n",
      "(14951, 2690, 14951)\n"
     ]
    },
    {
     "name": "stderr",
     "output_type": "stream",
     "text": [
      "train loss: 100%|██████████| 966284/966284 [03:19<00:00, 4842.52ex/s, loss=5]\n",
      "train loss: 100%|██████████| 966284/966284 [03:16<00:00, 4923.93ex/s, loss=5]\n",
      "train loss: 100%|██████████| 966284/966284 [03:17<00:00, 4880.98ex/s, loss=4]\n",
      "train loss: 100%|██████████| 966284/966284 [03:18<00:00, 4879.29ex/s, loss=4]\n",
      "train loss: 100%|██████████| 966284/966284 [03:26<00:00, 4680.22ex/s, loss=4]\n",
      "train loss:   0%|          | 0/966284 [00:00<?, ?ex/s]"
     ]
    },
    {
     "name": "stdout",
     "output_type": "stream",
     "text": [
      "\t TRAIN:  {'MRR': 0.8837923109531403, 'hits@[1,3,10]': tensor([0.8325, 0.9256, 0.9634])}\n",
      "\t VALID :  {'MRR': 0.6983935534954071, 'hits@[1,3,10]': tensor([0.6122, 0.7570, 0.8453])}\n"
     ]
    },
    {
     "name": "stderr",
     "output_type": "stream",
     "text": [
      "train loss: 100%|██████████| 966284/966284 [03:23<00:00, 4756.48ex/s, loss=4]\n",
      "train loss: 100%|██████████| 966284/966284 [03:21<00:00, 4785.11ex/s, loss=4]\n",
      "train loss: 100%|██████████| 966284/966284 [03:21<00:00, 4798.30ex/s, loss=4]\n",
      "train loss: 100%|██████████| 966284/966284 [03:19<00:00, 4843.14ex/s, loss=4]\n",
      "train loss: 100%|██████████| 966284/966284 [03:20<00:00, 4822.83ex/s, loss=4]\n",
      "train loss:   0%|          | 0/966284 [00:00<?, ?ex/s]"
     ]
    },
    {
     "name": "stdout",
     "output_type": "stream",
     "text": [
      "\t TRAIN:  {'MRR': 0.9334239661693573, 'hits@[1,3,10]': tensor([0.9015, 0.9596, 0.9819])}\n",
      "\t VALID :  {'MRR': 0.7496737241744995, 'hits@[1,3,10]': tensor([0.6761, 0.8009, 0.8728])}\n"
     ]
    },
    {
     "name": "stderr",
     "output_type": "stream",
     "text": [
      "train loss: 100%|██████████| 966284/966284 [03:17<00:00, 4890.14ex/s, loss=4]\n",
      "train loss: 100%|██████████| 966284/966284 [03:19<00:00, 4850.45ex/s, loss=4]\n",
      "train loss: 100%|██████████| 966284/966284 [03:17<00:00, 4890.78ex/s, loss=4]\n",
      "train loss: 100%|██████████| 966284/966284 [03:22<00:00, 4769.17ex/s, loss=4]\n",
      "train loss: 100%|██████████| 966284/966284 [03:20<00:00, 4828.58ex/s, loss=4]\n",
      "train loss:   0%|          | 0/966284 [00:00<?, ?ex/s]"
     ]
    },
    {
     "name": "stdout",
     "output_type": "stream",
     "text": [
      "\t TRAIN:  {'MRR': 0.9493086934089661, 'hits@[1,3,10]': tensor([0.9235, 0.9704, 0.9885])}\n",
      "\t VALID :  {'MRR': 0.7714968025684357, 'hits@[1,3,10]': tensor([0.7056, 0.8178, 0.8820])}\n"
     ]
    },
    {
     "name": "stderr",
     "output_type": "stream",
     "text": [
      "train loss: 100%|██████████| 966284/966284 [03:16<00:00, 4929.75ex/s, loss=4]\n",
      "train loss: 100%|██████████| 966284/966284 [03:17<00:00, 4892.65ex/s, loss=4]\n",
      "train loss: 100%|██████████| 966284/966284 [03:18<00:00, 4875.90ex/s, loss=4]\n",
      "train loss: 100%|██████████| 966284/966284 [03:19<00:00, 4834.69ex/s, loss=4]\n",
      "train loss: 100%|██████████| 966284/966284 [03:25<00:00, 4712.13ex/s, loss=4]\n",
      "train loss:   0%|          | 0/966284 [00:00<?, ?ex/s]"
     ]
    },
    {
     "name": "stdout",
     "output_type": "stream",
     "text": [
      "\t TRAIN:  {'MRR': 0.9568396210670471, 'hits@[1,3,10]': tensor([0.9335, 0.9775, 0.9904])}\n",
      "\t VALID :  {'MRR': 0.7809394598007202, 'hits@[1,3,10]': tensor([0.7172, 0.8259, 0.8857])}\n"
     ]
    },
    {
     "name": "stderr",
     "output_type": "stream",
     "text": [
      "train loss: 100%|██████████| 966284/966284 [03:20<00:00, 4830.70ex/s, loss=4]\n",
      "train loss: 100%|██████████| 966284/966284 [03:17<00:00, 4894.88ex/s, loss=4]\n",
      "train loss: 100%|██████████| 966284/966284 [03:20<00:00, 4818.32ex/s, loss=4]\n",
      "train loss: 100%|██████████| 966284/966284 [03:23<00:00, 4737.06ex/s, loss=4]\n",
      "train loss: 100%|██████████| 966284/966284 [03:21<00:00, 4804.85ex/s, loss=4]\n",
      "train loss:   0%|          | 0/966284 [00:00<?, ?ex/s]"
     ]
    },
    {
     "name": "stdout",
     "output_type": "stream",
     "text": [
      "\t TRAIN:  {'MRR': 0.9631645083427429, 'hits@[1,3,10]': tensor([0.9425, 0.9813, 0.9923])}\n",
      "\t VALID :  {'MRR': 0.7889761626720428, 'hits@[1,3,10]': tensor([0.7283, 0.8319, 0.8891])}\n"
     ]
    },
    {
     "name": "stderr",
     "output_type": "stream",
     "text": [
      "train loss: 100%|██████████| 966284/966284 [03:22<00:00, 4779.11ex/s, loss=4]\n",
      "train loss: 100%|██████████| 966284/966284 [03:28<00:00, 4637.90ex/s, loss=4]\n",
      "train loss: 100%|██████████| 966284/966284 [03:18<00:00, 4863.63ex/s, loss=4]\n",
      "train loss: 100%|██████████| 966284/966284 [03:18<00:00, 4857.18ex/s, loss=4]\n",
      "train loss: 100%|██████████| 966284/966284 [03:21<00:00, 4796.54ex/s, loss=4]\n",
      "train loss:   0%|          | 0/966284 [00:00<?, ?ex/s]"
     ]
    },
    {
     "name": "stdout",
     "output_type": "stream",
     "text": [
      "\t TRAIN:  {'MRR': 0.9660570323467255, 'hits@[1,3,10]': tensor([0.9458, 0.9843, 0.9937])}\n",
      "\t VALID :  {'MRR': 0.7948006987571716, 'hits@[1,3,10]': tensor([0.7363, 0.8361, 0.8925])}\n"
     ]
    },
    {
     "name": "stderr",
     "output_type": "stream",
     "text": [
      "train loss: 100%|██████████| 966284/966284 [03:17<00:00, 4887.26ex/s, loss=4]\n",
      "train loss: 100%|██████████| 966284/966284 [03:20<00:00, 4815.18ex/s, loss=4]\n",
      "train loss: 100%|██████████| 966284/966284 [03:20<00:00, 4821.59ex/s, loss=4]\n",
      "train loss: 100%|██████████| 966284/966284 [03:20<00:00, 4816.89ex/s, loss=4]\n",
      "train loss: 100%|██████████| 966284/966284 [03:17<00:00, 4883.62ex/s, loss=4]\n",
      "train loss:   0%|          | 0/966284 [00:00<?, ?ex/s]"
     ]
    },
    {
     "name": "stdout",
     "output_type": "stream",
     "text": [
      "\t TRAIN:  {'MRR': 0.9683067202568054, 'hits@[1,3,10]': tensor([0.9491, 0.9850, 0.9943])}\n",
      "\t VALID :  {'MRR': 0.7979939579963684, 'hits@[1,3,10]': tensor([0.7409, 0.8380, 0.8928])}\n"
     ]
    },
    {
     "name": "stderr",
     "output_type": "stream",
     "text": [
      "train loss: 100%|██████████| 966284/966284 [03:17<00:00, 4892.49ex/s, loss=4]\n",
      "train loss: 100%|██████████| 966284/966284 [03:28<00:00, 4641.71ex/s, loss=4]\n",
      "train loss: 100%|██████████| 966284/966284 [03:23<00:00, 4743.98ex/s, loss=4]\n",
      "train loss: 100%|██████████| 966284/966284 [03:16<00:00, 4925.02ex/s, loss=4]\n",
      "train loss: 100%|██████████| 966284/966284 [03:20<00:00, 4810.88ex/s, loss=4]\n",
      "train loss:   0%|          | 0/966284 [00:00<?, ?ex/s]"
     ]
    },
    {
     "name": "stdout",
     "output_type": "stream",
     "text": [
      "\t TRAIN:  {'MRR': 0.9705458581447601, 'hits@[1,3,10]': tensor([0.9525, 0.9866, 0.9947])}\n",
      "\t VALID :  {'MRR': 0.800218015909195, 'hits@[1,3,10]': tensor([0.7437, 0.8398, 0.8937])}\n"
     ]
    },
    {
     "name": "stderr",
     "output_type": "stream",
     "text": [
      "train loss: 100%|██████████| 966284/966284 [03:15<00:00, 4932.73ex/s, loss=4]\n",
      "train loss: 100%|██████████| 966284/966284 [03:19<00:00, 4841.86ex/s, loss=4]\n",
      "train loss: 100%|██████████| 966284/966284 [03:19<00:00, 4833.82ex/s, loss=4]\n",
      "train loss: 100%|██████████| 966284/966284 [03:14<00:00, 4977.05ex/s, loss=4]\n",
      "train loss:  69%|██████▉   | 669000/966284 [02:19<00:56, 5217.03ex/s, loss=4]"
     ]
    }
   ],
   "source": [
    "%run kbc/learn.py --dataset FB15K --model ComplEx_NNE --rank 500 --optimizer Adagrad --learning_rate 1e-1 --batch_size 1000 --regularizer N3 --reg 1e-2 --max_epochs 100 --valid 5 \n",
    "\n",
    "\n"
   ]
  },
  {
   "cell_type": "code",
   "execution_count": null,
   "id": "seven-norfolk",
   "metadata": {},
   "outputs": [
    {
     "name": "stdout",
     "output_type": "stream",
     "text": [
      "> \u001b[0;32m/home/ComplEx-Injection-history/ComplEx-Inject/kbc/models.py\u001b[0m(274)\u001b[0;36mget_rules_score\u001b[0;34m()\u001b[0m\n",
      "\u001b[0;32m    272 \u001b[0;31m        \u001b[0mscore\u001b[0m \u001b[0;34m=\u001b[0m \u001b[0;36m0\u001b[0m\u001b[0;34m\u001b[0m\u001b[0;34m\u001b[0m\u001b[0m\n",
      "\u001b[0m\u001b[0;32m    273 \u001b[0;31m        \u001b[0;32mfor\u001b[0m \u001b[0mi\u001b[0m \u001b[0;32min\u001b[0m \u001b[0mrange\u001b[0m\u001b[0;34m(\u001b[0m\u001b[0mlen\u001b[0m\u001b[0;34m(\u001b[0m\u001b[0mr_p_ebds\u001b[0m\u001b[0;34m[\u001b[0m\u001b[0;36m0\u001b[0m\u001b[0;34m]\u001b[0m\u001b[0;34m)\u001b[0m\u001b[0;34m)\u001b[0m\u001b[0;34m:\u001b[0m\u001b[0;34m\u001b[0m\u001b[0;34m\u001b[0m\u001b[0m\n",
      "\u001b[0m\u001b[0;32m--> 274 \u001b[0;31m            \u001b[0mscore\u001b[0m \u001b[0;34m+=\u001b[0m \u001b[0mtorch\u001b[0m\u001b[0;34m.\u001b[0m\u001b[0msum\u001b[0m\u001b[0;34m(\u001b[0m\u001b[0mtorch\u001b[0m\u001b[0;34m.\u001b[0m\u001b[0mmax\u001b[0m\u001b[0;34m(\u001b[0m\u001b[0mtorch\u001b[0m\u001b[0;34m.\u001b[0m\u001b[0mzeros\u001b[0m\u001b[0;34m(\u001b[0m\u001b[0mself\u001b[0m\u001b[0;34m.\u001b[0m\u001b[0mrank\u001b[0m\u001b[0;34m)\u001b[0m\u001b[0;34m.\u001b[0m\u001b[0mcuda\u001b[0m\u001b[0;34m(\u001b[0m\u001b[0;34m)\u001b[0m\u001b[0;34m,\u001b[0m \u001b[0mr_p_ebds\u001b[0m\u001b[0;34m[\u001b[0m\u001b[0;36m0\u001b[0m\u001b[0;34m]\u001b[0m\u001b[0;34m[\u001b[0m\u001b[0mi\u001b[0m\u001b[0;34m]\u001b[0m \u001b[0;34m-\u001b[0m \u001b[0mr_q_ebds\u001b[0m\u001b[0;34m[\u001b[0m\u001b[0;36m0\u001b[0m\u001b[0;34m]\u001b[0m\u001b[0;34m[\u001b[0m\u001b[0mi\u001b[0m\u001b[0;34m]\u001b[0m\u001b[0;34m)\u001b[0m\u001b[0;34m)\u001b[0m \u001b[0;34m*\u001b[0m \u001b[0mself\u001b[0m\u001b[0;34m.\u001b[0m\u001b[0mrule_list\u001b[0m\u001b[0;34m[\u001b[0m\u001b[0;36m2\u001b[0m\u001b[0;34m]\u001b[0m\u001b[0;34m[\u001b[0m\u001b[0mi\u001b[0m\u001b[0;34m]\u001b[0m\u001b[0;34m.\u001b[0m\u001b[0mcuda\u001b[0m\u001b[0;34m(\u001b[0m\u001b[0;34m)\u001b[0m\u001b[0;34m\u001b[0m\u001b[0;34m\u001b[0m\u001b[0m\n",
      "\u001b[0m\u001b[0;32m    275 \u001b[0;31m            \u001b[0mscore\u001b[0m \u001b[0;34m+=\u001b[0m \u001b[0mtorch\u001b[0m\u001b[0;34m.\u001b[0m\u001b[0msum\u001b[0m\u001b[0;34m(\u001b[0m\u001b[0mtorch\u001b[0m\u001b[0;34m.\u001b[0m\u001b[0msquare\u001b[0m\u001b[0;34m(\u001b[0m\u001b[0mr_p_ebds\u001b[0m\u001b[0;34m[\u001b[0m\u001b[0;36m1\u001b[0m\u001b[0;34m]\u001b[0m\u001b[0;34m[\u001b[0m\u001b[0mi\u001b[0m\u001b[0;34m]\u001b[0m \u001b[0;34m-\u001b[0m \u001b[0mr_q_ebds\u001b[0m\u001b[0;34m[\u001b[0m\u001b[0;36m1\u001b[0m\u001b[0;34m]\u001b[0m\u001b[0;34m[\u001b[0m\u001b[0mi\u001b[0m\u001b[0;34m]\u001b[0m\u001b[0;34m)\u001b[0m\u001b[0;34m)\u001b[0m \u001b[0;34m*\u001b[0m \u001b[0mself\u001b[0m\u001b[0;34m.\u001b[0m\u001b[0mrule_list\u001b[0m\u001b[0;34m[\u001b[0m\u001b[0;36m2\u001b[0m\u001b[0;34m]\u001b[0m\u001b[0;34m[\u001b[0m\u001b[0mi\u001b[0m\u001b[0;34m]\u001b[0m\u001b[0;34m.\u001b[0m\u001b[0mcuda\u001b[0m\u001b[0;34m(\u001b[0m\u001b[0;34m)\u001b[0m\u001b[0;34m\u001b[0m\u001b[0;34m\u001b[0m\u001b[0m\n",
      "\u001b[0m\u001b[0;32m    276 \u001b[0;31m\u001b[0;34m\u001b[0m\u001b[0m\n",
      "\u001b[0m\n"
     ]
    },
    {
     "name": "stdin",
     "output_type": "stream",
     "text": [
      "ipdb>  score.device\n"
     ]
    },
    {
     "name": "stdout",
     "output_type": "stream",
     "text": [
      "*** AttributeError: 'int' object has no attribute 'device'\n"
     ]
    },
    {
     "name": "stdin",
     "output_type": "stream",
     "text": [
      "ipdb>  torch.sum(torch.max(torch.zeros(self.rank).cuda(), r_p_ebds[0][i] - r_q_ebds[0][i])).device\n"
     ]
    },
    {
     "name": "stdout",
     "output_type": "stream",
     "text": [
      "*** RuntimeError: CUDA error: an illegal memory access was encountered\n"
     ]
    },
    {
     "name": "stdin",
     "output_type": "stream",
     "text": [
      "ipdb>  r_p_ebds[0][i].device\n"
     ]
    },
    {
     "name": "stdout",
     "output_type": "stream",
     "text": [
      "device(type='cuda', index=0)\n"
     ]
    },
    {
     "name": "stdin",
     "output_type": "stream",
     "text": [
      "ipdb>  r_p_ebds[0][i]\n"
     ]
    },
    {
     "name": "stdout",
     "output_type": "stream",
     "text": [
      "*** RuntimeError: CUDA error: an illegal memory access was encountered\n"
     ]
    },
    {
     "name": "stdin",
     "output_type": "stream",
     "text": [
      "ipdb>  r_p_ebds[0][0]\n"
     ]
    },
    {
     "name": "stdout",
     "output_type": "stream",
     "text": [
      "*** RuntimeError: CUDA error: an illegal memory access was encountered\n"
     ]
    },
    {
     "name": "stdin",
     "output_type": "stream",
     "text": [
      "ipdb>  r_p_ebds\n"
     ]
    },
    {
     "name": "stdout",
     "output_type": "stream",
     "text": [
      "*** RuntimeError: cuda runtime error (700) : an illegal memory access was encountered at /opt/conda/conda-bld/pytorch_1587428398394/work/aten/src/THC/THCCachingHostAllocator.cpp:278\n"
     ]
    },
    {
     "name": "stdin",
     "output_type": "stream",
     "text": [
      "ipdb>  rel\n"
     ]
    },
    {
     "name": "stdout",
     "output_type": "stream",
     "text": [
      "Embedding(2690, 1000, sparse=True)\n"
     ]
    },
    {
     "name": "stdin",
     "output_type": "stream",
     "text": [
      "ipdb>  rel(idx_p)\n"
     ]
    },
    {
     "name": "stdout",
     "output_type": "stream",
     "text": [
      "*** RuntimeError: cuda runtime error (700) : an illegal memory access was encountered at /opt/conda/conda-bld/pytorch_1587428398394/work/aten/src/THC/THCCachingHostAllocator.cpp:278\n"
     ]
    },
    {
     "name": "stdin",
     "output_type": "stream",
     "text": [
      "ipdb>  idx_p\n"
     ]
    },
    {
     "name": "stdout",
     "output_type": "stream",
     "text": [
      "*** RuntimeError: CUDA error: an illegal memory access was encountered\n"
     ]
    },
    {
     "name": "stdin",
     "output_type": "stream",
     "text": [
      "ipdb>  torch.LongTensor(self.rule_list[0])\n"
     ]
    },
    {
     "name": "stdout",
     "output_type": "stream",
     "text": [
      "tensor([ -627,  -409,    -3,  -571,  -193,  -185,  -573,   578,   217,   581,\n",
      "          -14, -1244,  1122,  1121,  1126,  1125,  1153,  1155,  1156,  1152,\n",
      "        -1059, -1088,  -290,  -169,   -57,  -877,  -989,  -110,  -112,  -216,\n",
      "          143,   105,   141,  -214,  -193,   193,  -111,  -217,  -115,  -215,\n",
      "         -856, -1274,  -801, -1033,  1153,  1154,  1152,  1156,   809,  1311,\n",
      "         -243,  -217, -1075,  -173,  -141,  -143,   216,   112,  -105,   214,\n",
      "         -103,  -942,  -928,  -278, -1305,  -929, -1081, -1062, -1266, -1300,\n",
      "         -984, -1256,  -170,  -863, -1334,   -56,  -937,  -300,  -372,  -667,\n",
      "         -900,  -869,  -193,   217,  -189,   115,   215, -1301,   -53, -1090,\n",
      "        -1318,   189,  -215,  -115,  -111,  -217,  -125,  -181,   203,   502,\n",
      "        -1247, -1114,  -408,   -35,  -443, -1290, -1260, -1302,  -670,  -296,\n",
      "         -293,  -302,  -141,  -143,  -103,   112,   110,   214,  -105,  -865,\n",
      "         -875,  -481,  -693,  -862,   -51,  -861, -1103,  -849,   -59,  -305,\n",
      "         -158, -1294,  -807, -1128, -1139, -1131, -1205,  -179,   569,   200,\n",
      "        -1157, -1038,  -855,  -247, -1185, -1124,  -776,  -440,  -193,   115,\n",
      "          215,  -189,   111, -1136,  -622,   661,   659,   -54, -1245, -1310,\n",
      "          348, -1308,  -206,  -217,  -554,  -552,   193,  1120,  1122,  1125,\n",
      "         1121,  -187, -1262,  -494,  -179,   546,   569,  -152, -1108,  -193,\n",
      "          217,   111,   215,  -189,  -114,  1120,  1126,  1122,  1125,  -112,\n",
      "         -110,  -214,   143,   105,   103,  -216, -1134, -1221,  -781,  -112,\n",
      "         -216,  -110,   141,   105,  -214,   103,  -334,   -46,  -933,  -769,\n",
      "         -783,   783, -1222,  -871,  -884, -1107,  1103,  -439,  -876, -1037,\n",
      "         -181, -1168,  -777,   -20, -1227,  -144, -1273,  -885,  -219, -1250,\n",
      "        -1133, -1057,  -773,  -292,  -655,  -105,  -141,   112,  -103,   110,\n",
      "          216,  -143,  -306,  -767, -1341,  -285,  -763, -1104,  -124,  -881,\n",
      "         -947,  -853,  -197,  1120,  1122,  1126,  1121, -1261,  -242, -1146,\n",
      "         -318, -1212, -1034, -1060,  -948, -1105,  -169,   158,  1108, -1104,\n",
      "         -311, -1055,  -192,  -178,   178,  1153,  1155,  1154,  1152, -1113,\n",
      "         -158, -1108,   169,  1104, -1190, -1204,  -341,  -317, -1320,  -486,\n",
      "        -1288,   -80, -1272, -1275,  -289, -1246,  -143,   216,  -103,  -141,\n",
      "          214,   110,  -105,  -319, -1080, -1026,  1144,  1147,  1145,  1142,\n",
      "         -886,  -266,  -698,  -888, -1118, -1279,  -471, -1201,  -893, -1291,\n",
      "           -7,  -859, -1049,  -470,  -676, -1115,   -19,   -28,  1120,  1121,\n",
      "         1126,  1125,   -38,   661,   651, -1117, -1271, -1112,  -852, -1267,\n",
      "         -891,   806,  1311, -1182,  -951, -1176,  -892,  -193,  -573,  -185,\n",
      "          217,  -992, -1106, -1235,  -468, -1130, -1021, -1303,  -952,  -934,\n",
      "         -905,   -47,  -304, -1119,  -904,  1145,  1144,  1143,  1142,  -906,\n",
      "         -193,   217,   111,   115,  -189,   -41,  -112,  -110,  -216, -1129,\n",
      "          143,   141,  -214,   103,   -55,  -459,  -181,   480,   502,  -666,\n",
      "        -1296,  -209,  -581,  -217,   193,  -858,   651,   659,  -787, -1313,\n",
      "         -371, -1207, -1332, -1276,  -674,   806,   809,  -949,  -220,  -240,\n",
      "         -944,   -33, -1078,  -795,  -573,  -193,  -571,  -185,   581,   217,\n",
      "          209, -1179,  -880,  -786,  -919, -1277,  -154,  -303,  -907, -1323,\n",
      "         -474,  -941, -1046, -1270,  -183,  -193,   217,   554,   552, -1107,\n",
      "        -1265,  -460,  -578,  -209,  -217,   193,   185,  -581,   573, -1258,\n",
      "        -1342, -1053,  -192,   192,  -908,  -945,  1144,  1145,  1147,  1143,\n",
      "         -921,  -442,  -179,   546,   200,  -872,  -581,  -217,   571,   185,\n",
      "          -37,   806,  1311,  -854,   -18,  -198,  -669,  -288,  -193,  1075,\n",
      "          212,  1147,  1143,  1144,  1142,  1155,  1156,  1154,  1152, -1079,\n",
      "        -1175,  1143,  1142,  1145,  1147, -1269, -1306,  -922,  -546,  -569,\n",
      "         -200, -1160,   217,  1075,  -940,  -295,  1153,  1156,  1155,  1154,\n",
      "         -899,  -938, -1329,  -939,  -792,  -918,  -441, -1223,  -783,  -769,\n",
      "          769, -1024, -1107,  1103, -1135, -1295,  -348, -1289,   -39,  -241,\n",
      "         -932, -1312, -1255,  -930,   -49])\n"
     ]
    },
    {
     "name": "stdin",
     "output_type": "stream",
     "text": [
      "ipdb>  torch.LongTensor(self.rule_list[0]).cuda()\n"
     ]
    },
    {
     "name": "stdout",
     "output_type": "stream",
     "text": [
      "*** RuntimeError: CUDA error: an illegal memory access was encountered\n"
     ]
    },
    {
     "name": "stdin",
     "output_type": "stream",
     "text": [
      "ipdb>  torch.LongTensor(self.rule_list[0]).device\n"
     ]
    },
    {
     "name": "stdout",
     "output_type": "stream",
     "text": [
      "device(type='cpu')\n"
     ]
    },
    {
     "name": "stdin",
     "output_type": "stream",
     "text": [
      "ipdb>  torch.cuda.is_available()\n"
     ]
    },
    {
     "name": "stdout",
     "output_type": "stream",
     "text": [
      "True\n"
     ]
    },
    {
     "name": "stdin",
     "output_type": "stream",
     "text": [
      "ipdb>  a = torch.Tensor([1])\n"
     ]
    },
    {
     "name": "stdout",
     "output_type": "stream",
     "text": [
      "self = ComplEx_NNE(\n",
      "  (embeddings): ModuleList(\n",
      "    (0): Embedding(14951, 1000, sparse=True)\n",
      "    (1): Embedding(2690, 1000, sparse=True)\n",
      "  )\n",
      ")\n"
     ]
    },
    {
     "name": "stdin",
     "output_type": "stream",
     "text": [
      "ipdb>  print(a)\n"
     ]
    },
    {
     "name": "stdout",
     "output_type": "stream",
     "text": [
      "*** NameError: name 'a' is not defined\n"
     ]
    },
    {
     "name": "stdin",
     "output_type": "stream",
     "text": [
      "ipdb>  new_var = torch.Tensor([1])\n",
      "ipdb>  new_var\n"
     ]
    },
    {
     "name": "stdout",
     "output_type": "stream",
     "text": [
      "tensor([1.])\n"
     ]
    },
    {
     "name": "stdin",
     "output_type": "stream",
     "text": [
      "ipdb>  new_var = new_var.cuda()\n"
     ]
    },
    {
     "name": "stdout",
     "output_type": "stream",
     "text": [
      "*** RuntimeError: CUDA error: an illegal memory access was encountered\n"
     ]
    },
    {
     "name": "stdin",
     "output_type": "stream",
     "text": [
      "ipdb>  torch.cuda.is_available()\n"
     ]
    },
    {
     "name": "stdout",
     "output_type": "stream",
     "text": [
      "True\n"
     ]
    },
    {
     "name": "stdin",
     "output_type": "stream",
     "text": [
      "ipdb>  a = torch.Tensor([1])\n"
     ]
    },
    {
     "name": "stdout",
     "output_type": "stream",
     "text": [
      "self = ComplEx_NNE(\n",
      "  (embeddings): ModuleList(\n",
      "    (0): Embedding(14951, 1000, sparse=True)\n",
      "    (1): Embedding(2690, 1000, sparse=True)\n",
      "  )\n",
      ")\n"
     ]
    },
    {
     "name": "stdin",
     "output_type": "stream",
     "text": [
      "ipdb>  torch.Tensor([1])\n"
     ]
    },
    {
     "name": "stdout",
     "output_type": "stream",
     "text": [
      "tensor([1.])\n"
     ]
    },
    {
     "name": "stdin",
     "output_type": "stream",
     "text": [
      "ipdb>  a\n"
     ]
    },
    {
     "name": "stdout",
     "output_type": "stream",
     "text": [
      "self = ComplEx_NNE(\n",
      "  (embeddings): ModuleList(\n",
      "    (0): Embedding(14951, 1000, sparse=True)\n",
      "    (1): Embedding(2690, 1000, sparse=True)\n",
      "  )\n",
      ")\n"
     ]
    },
    {
     "name": "stdin",
     "output_type": "stream",
     "text": [
      "ipdb>  CUDA_LAUNCH_BLOCKING\n"
     ]
    },
    {
     "name": "stdout",
     "output_type": "stream",
     "text": [
      "*** NameError: name 'CUDA_LAUNCH_BLOCKING' is not defined\n"
     ]
    },
    {
     "name": "stdin",
     "output_type": "stream",
     "text": [
      "ipdb>  torch.cuda.set_device(\"cuda:0\")\n",
      "ipdb>  new_var\n"
     ]
    },
    {
     "name": "stdout",
     "output_type": "stream",
     "text": [
      "tensor([1.])\n"
     ]
    },
    {
     "name": "stdin",
     "output_type": "stream",
     "text": [
      "ipdb>  new_var.device\n"
     ]
    },
    {
     "name": "stdout",
     "output_type": "stream",
     "text": [
      "device(type='cpu')\n"
     ]
    },
    {
     "name": "stdin",
     "output_type": "stream",
     "text": [
      "ipdb>  new_var.cuda()\n"
     ]
    },
    {
     "name": "stdout",
     "output_type": "stream",
     "text": [
      "*** RuntimeError: CUDA error: an illegal memory access was encountered\n"
     ]
    }
   ],
   "source": [
    "%debug"
   ]
  },
  {
   "cell_type": "code",
   "execution_count": 75,
   "id": "oriented-scene",
   "metadata": {},
   "outputs": [],
   "source": [
    "!tail -10 ComplEx_NNE_FB15K_mu_10e3_test.txt"
   ]
  },
  {
   "cell_type": "code",
   "execution_count": 7,
   "id": "designing-clinton",
   "metadata": {},
   "outputs": [
    {
     "name": "stdout",
     "output_type": "stream",
     "text": [
      "tensor(0.)\n"
     ]
    },
    {
     "data": {
      "text/plain": [
       "torch.Size([])"
      ]
     },
     "execution_count": 7,
     "metadata": {},
     "output_type": "execute_result"
    }
   ],
   "source": [
    "import torch\n",
    "b = torch.Tensor([0]).squeeze()\n",
    "print(a)\n",
    "b.shape"
   ]
  },
  {
   "cell_type": "code",
   "execution_count": 2,
   "id": "peaceful-metropolitan",
   "metadata": {},
   "outputs": [
    {
     "data": {
      "text/plain": [
       "device(type='cpu')"
      ]
     },
     "execution_count": 2,
     "metadata": {},
     "output_type": "execute_result"
    }
   ],
   "source": [
    "a.device"
   ]
  },
  {
   "cell_type": "code",
   "execution_count": 7,
   "id": "greater-prompt",
   "metadata": {},
   "outputs": [
    {
     "data": {
      "text/plain": [
       "True"
      ]
     },
     "execution_count": 7,
     "metadata": {},
     "output_type": "execute_result"
    }
   ],
   "source": [
    "torch.cuda.is_available()"
   ]
  },
  {
   "cell_type": "code",
   "execution_count": 8,
   "id": "premium-reconstruction",
   "metadata": {},
   "outputs": [
    {
     "ename": "RuntimeError",
     "evalue": "CUDA error: an illegal memory access was encountered",
     "output_type": "error",
     "traceback": [
      "\u001b[0;31m---------------------------------------------------------------------------\u001b[0m",
      "\u001b[0;31mRuntimeError\u001b[0m                              Traceback (most recent call last)",
      "\u001b[0;32m<ipython-input-8-81a306e8f967>\u001b[0m in \u001b[0;36m<module>\u001b[0;34m\u001b[0m\n\u001b[0;32m----> 1\u001b[0;31m \u001b[0mb\u001b[0m\u001b[0;34m.\u001b[0m\u001b[0mcuda\u001b[0m\u001b[0;34m(\u001b[0m\u001b[0;34m)\u001b[0m\u001b[0;34m\u001b[0m\u001b[0;34m\u001b[0m\u001b[0m\n\u001b[0m",
      "\u001b[0;31mRuntimeError\u001b[0m: CUDA error: an illegal memory access was encountered"
     ]
    }
   ],
   "source": [
    "b.cuda()"
   ]
  },
  {
   "cell_type": "code",
   "execution_count": 10,
   "id": "accurate-packaging",
   "metadata": {},
   "outputs": [
    {
     "data": {
      "text/plain": [
       "device(type='cpu')"
      ]
     },
     "execution_count": 10,
     "metadata": {},
     "output_type": "execute_result"
    }
   ],
   "source": [
    "a.device"
   ]
  },
  {
   "cell_type": "code",
   "execution_count": null,
   "id": "japanese-yahoo",
   "metadata": {},
   "outputs": [],
   "source": []
  },
  {
   "cell_type": "code",
   "execution_count": null,
   "id": "identical-nashville",
   "metadata": {},
   "outputs": [],
   "source": []
  },
  {
   "cell_type": "code",
   "execution_count": null,
   "id": "advised-justice",
   "metadata": {},
   "outputs": [],
   "source": []
  },
  {
   "cell_type": "markdown",
   "id": "impressed-killer",
   "metadata": {},
   "source": [
    "## March 25"
   ]
  },
  {
   "cell_type": "code",
   "execution_count": 11,
   "id": "productive-difference",
   "metadata": {},
   "outputs": [
    {
     "name": "stdout",
     "output_type": "stream",
     "text": [
      "torch.Size([14951, 1000])\n"
     ]
    }
   ],
   "source": [
    "for param in m.parameters():\n",
    "    if ((param.shape[0] == 14951)):\n",
    "        print(param.shape)"
   ]
  },
  {
   "cell_type": "code",
   "execution_count": 1,
   "id": "established-david",
   "metadata": {},
   "outputs": [
    {
     "data": {
      "text/plain": [
       "'/home/ComplEx-Inject'"
      ]
     },
     "execution_count": 1,
     "metadata": {},
     "output_type": "execute_result"
    }
   ],
   "source": [
    "%pwd"
   ]
  },
  {
   "cell_type": "code",
   "execution_count": 1,
   "id": "compound-modeling",
   "metadata": {},
   "outputs": [
    {
     "name": "stdout",
     "output_type": "stream",
     "text": [
      "\n",
      "=====> parameter settings: Namespace(batch_size=1000, dataset='FB237', decay1=0.9, decay2=0.999, init=0.001, learning_rate=0.1, max_epochs=150, model='ComplEx_NNE', optimizer='Adagrad', rank=500, reg=0.01, regularizer='N3', valid=5.0)\n",
      "474\n",
      "(14541, 474, 14541)\n",
      "======> mu value: 100\n"
     ]
    },
    {
     "name": "stderr",
     "output_type": "stream",
     "text": [
      "train loss: 100%|██████████| 544230/544230 [00:21<00:00, 25123.29ex/s, loss=13]\n",
      "train loss: 100%|██████████| 544230/544230 [00:21<00:00, 25547.76ex/s, loss=6] \n",
      "train loss: 100%|██████████| 544230/544230 [00:21<00:00, 25502.29ex/s, loss=8]\n",
      "train loss: 100%|██████████| 544230/544230 [00:21<00:00, 25683.06ex/s, loss=6]\n",
      "train loss: 100%|██████████| 544230/544230 [00:21<00:00, 25492.14ex/s, loss=7]\n",
      "train loss:   1%|          | 3000/544230 [00:00<00:26, 20106.28ex/s, loss=5]"
     ]
    },
    {
     "name": "stdout",
     "output_type": "stream",
     "text": [
      "\t TRAIN:  {'MRR': 0.8843180537223816, 'hits@[1,3,10]': tensor([0.8317, 0.9273, 0.9686])}\n",
      "\t VALID :  {'MRR': 0.33695974946022034, 'hits@[1,3,10]': tensor([0.2474, 0.3686, 0.5161])}\n"
     ]
    },
    {
     "name": "stderr",
     "output_type": "stream",
     "text": [
      "train loss: 100%|██████████| 544230/544230 [00:21<00:00, 25597.98ex/s, loss=6]\n",
      "train loss: 100%|██████████| 544230/544230 [00:21<00:00, 25520.47ex/s, loss=6]\n",
      "train loss: 100%|██████████| 544230/544230 [00:21<00:00, 25671.95ex/s, loss=5]\n",
      "train loss: 100%|██████████| 544230/544230 [00:21<00:00, 25724.18ex/s, loss=6]\n",
      "train loss: 100%|██████████| 544230/544230 [00:21<00:00, 25653.43ex/s, loss=5]\n",
      "train loss:   1%|          | 3000/544230 [00:00<00:25, 21030.48ex/s, loss=6]"
     ]
    },
    {
     "name": "stdout",
     "output_type": "stream",
     "text": [
      "\t TRAIN:  {'MRR': 0.9480585753917694, 'hits@[1,3,10]': tensor([0.9212, 0.9700, 0.9909])}\n",
      "\t VALID :  {'MRR': 0.34419672936201096, 'hits@[1,3,10]': tensor([0.2544, 0.3745, 0.5266])}\n"
     ]
    },
    {
     "name": "stderr",
     "output_type": "stream",
     "text": [
      "train loss: 100%|██████████| 544230/544230 [00:21<00:00, 25008.73ex/s, loss=6]\n",
      "train loss: 100%|██████████| 544230/544230 [00:21<00:00, 25261.97ex/s, loss=5]\n",
      "train loss: 100%|██████████| 544230/544230 [00:21<00:00, 25546.62ex/s, loss=6]\n",
      "train loss: 100%|██████████| 544230/544230 [00:21<00:00, 25494.29ex/s, loss=5]\n",
      "train loss: 100%|██████████| 544230/544230 [00:21<00:00, 25565.82ex/s, loss=5]\n",
      "train loss:   1%|          | 4000/544230 [00:00<00:24, 22389.24ex/s, loss=5]"
     ]
    },
    {
     "name": "stdout",
     "output_type": "stream",
     "text": [
      "\t TRAIN:  {'MRR': 0.9641216397285461, 'hits@[1,3,10]': tensor([0.9437, 0.9828, 0.9950])}\n",
      "\t VALID :  {'MRR': 0.34786906093358994, 'hits@[1,3,10]': tensor([0.2577, 0.3815, 0.5286])}\n"
     ]
    },
    {
     "name": "stderr",
     "output_type": "stream",
     "text": [
      "train loss: 100%|██████████| 544230/544230 [00:21<00:00, 25699.90ex/s, loss=5]\n",
      "train loss: 100%|██████████| 544230/544230 [00:21<00:00, 25727.77ex/s, loss=5]\n",
      "train loss: 100%|██████████| 544230/544230 [00:21<00:00, 25620.65ex/s, loss=5]\n",
      "train loss: 100%|██████████| 544230/544230 [00:21<00:00, 25662.65ex/s, loss=5]\n",
      "train loss: 100%|██████████| 544230/544230 [00:21<00:00, 25773.84ex/s, loss=5]\n",
      "train loss:   1%|          | 3000/544230 [00:00<00:27, 19430.49ex/s, loss=5]"
     ]
    },
    {
     "name": "stdout",
     "output_type": "stream",
     "text": [
      "\t TRAIN:  {'MRR': 0.9730795621871948, 'hits@[1,3,10]': tensor([0.9579, 0.9868, 0.9968])}\n",
      "\t VALID :  {'MRR': 0.34883633255958557, 'hits@[1,3,10]': tensor([0.2590, 0.3814, 0.5288])}\n"
     ]
    },
    {
     "name": "stderr",
     "output_type": "stream",
     "text": [
      "train loss: 100%|██████████| 544230/544230 [00:21<00:00, 25434.86ex/s, loss=5]\n",
      "train loss: 100%|██████████| 544230/544230 [00:21<00:00, 25562.55ex/s, loss=5]\n",
      "train loss: 100%|██████████| 544230/544230 [00:21<00:00, 25517.04ex/s, loss=5]\n",
      "train loss: 100%|██████████| 544230/544230 [00:21<00:00, 25684.25ex/s, loss=4]\n",
      "train loss: 100%|██████████| 544230/544230 [00:21<00:00, 25732.02ex/s, loss=5]\n",
      "train loss:   1%|          | 4000/544230 [00:00<00:21, 24814.16ex/s, loss=5]"
     ]
    },
    {
     "name": "stdout",
     "output_type": "stream",
     "text": [
      "\t TRAIN:  {'MRR': 0.9763143062591553, 'hits@[1,3,10]': tensor([0.9631, 0.9879, 0.9973])}\n",
      "\t VALID :  {'MRR': 0.3498397246003151, 'hits@[1,3,10]': tensor([0.2601, 0.3821, 0.5302])}\n"
     ]
    },
    {
     "name": "stderr",
     "output_type": "stream",
     "text": [
      "train loss: 100%|██████████| 544230/544230 [00:21<00:00, 25480.34ex/s, loss=4]\n",
      "train loss: 100%|██████████| 544230/544230 [00:21<00:00, 25312.48ex/s, loss=5]\n",
      "train loss: 100%|██████████| 544230/544230 [00:21<00:00, 25692.94ex/s, loss=4]\n",
      "train loss: 100%|██████████| 544230/544230 [00:21<00:00, 25574.90ex/s, loss=5]\n",
      "train loss: 100%|██████████| 544230/544230 [00:21<00:00, 25556.53ex/s, loss=4]\n",
      "train loss:   1%|          | 4000/544230 [00:00<00:24, 22002.48ex/s, loss=4]"
     ]
    },
    {
     "name": "stdout",
     "output_type": "stream",
     "text": [
      "\t TRAIN:  {'MRR': 0.979660153388977, 'hits@[1,3,10]': tensor([0.9679, 0.9900, 0.9978])}\n",
      "\t VALID :  {'MRR': 0.34968408942222595, 'hits@[1,3,10]': tensor([0.2589, 0.3831, 0.5323])}\n"
     ]
    },
    {
     "name": "stderr",
     "output_type": "stream",
     "text": [
      "train loss: 100%|██████████| 544230/544230 [00:21<00:00, 25406.79ex/s, loss=5]\n",
      "train loss: 100%|██████████| 544230/544230 [00:21<00:00, 25543.91ex/s, loss=4]\n",
      "train loss: 100%|██████████| 544230/544230 [00:21<00:00, 25338.89ex/s, loss=5]\n",
      "train loss: 100%|██████████| 544230/544230 [00:21<00:00, 25505.21ex/s, loss=4]\n",
      "train loss: 100%|██████████| 544230/544230 [00:21<00:00, 25681.56ex/s, loss=5]\n",
      "train loss:   1%|          | 3000/544230 [00:00<00:26, 20169.77ex/s, loss=4]"
     ]
    },
    {
     "name": "stdout",
     "output_type": "stream",
     "text": [
      "\t TRAIN:  {'MRR': 0.9807825088500977, 'hits@[1,3,10]': tensor([0.9696, 0.9907, 0.9978])}\n",
      "\t VALID :  {'MRR': 0.3492673337459564, 'hits@[1,3,10]': tensor([0.2580, 0.3829, 0.5334])}\n"
     ]
    },
    {
     "name": "stderr",
     "output_type": "stream",
     "text": [
      "train loss: 100%|██████████| 544230/544230 [00:21<00:00, 25329.02ex/s, loss=4]\n",
      "train loss: 100%|██████████| 544230/544230 [00:24<00:00, 22378.32ex/s, loss=4]\n",
      "train loss: 100%|██████████| 544230/544230 [00:22<00:00, 24160.34ex/s, loss=5]\n",
      "train loss: 100%|██████████| 544230/544230 [00:21<00:00, 25517.09ex/s, loss=5]\n",
      "train loss: 100%|██████████| 544230/544230 [00:21<00:00, 25443.97ex/s, loss=4]\n",
      "train loss:   1%|          | 4000/544230 [00:00<00:24, 22104.52ex/s, loss=4]"
     ]
    },
    {
     "name": "stdout",
     "output_type": "stream",
     "text": [
      "\t TRAIN:  {'MRR': 0.9825676679611206, 'hits@[1,3,10]': tensor([0.9729, 0.9912, 0.9981])}\n",
      "\t VALID :  {'MRR': 0.35099831223487854, 'hits@[1,3,10]': tensor([0.2606, 0.3861, 0.5323])}\n"
     ]
    },
    {
     "name": "stderr",
     "output_type": "stream",
     "text": [
      "train loss: 100%|██████████| 544230/544230 [00:21<00:00, 25310.96ex/s, loss=5]\n",
      "train loss: 100%|██████████| 544230/544230 [00:21<00:00, 25418.09ex/s, loss=4]\n",
      "train loss: 100%|██████████| 544230/544230 [00:21<00:00, 25039.93ex/s, loss=4]\n",
      "train loss: 100%|██████████| 544230/544230 [00:21<00:00, 25031.78ex/s, loss=4]\n",
      "train loss: 100%|██████████| 544230/544230 [00:21<00:00, 25451.34ex/s, loss=5]\n",
      "train loss:   1%|          | 3000/544230 [00:00<00:27, 19676.60ex/s, loss=4]"
     ]
    },
    {
     "name": "stdout",
     "output_type": "stream",
     "text": [
      "\t TRAIN:  {'MRR': 0.9833742082118988, 'hits@[1,3,10]': tensor([0.9737, 0.9919, 0.9983])}\n",
      "\t VALID :  {'MRR': 0.35159555077552795, 'hits@[1,3,10]': tensor([0.2608, 0.3854, 0.5345])}\n"
     ]
    },
    {
     "name": "stderr",
     "output_type": "stream",
     "text": [
      "train loss: 100%|██████████| 544230/544230 [00:21<00:00, 25342.45ex/s, loss=4]\n",
      "train loss: 100%|██████████| 544230/544230 [00:21<00:00, 25606.82ex/s, loss=4]\n",
      "train loss: 100%|██████████| 544230/544230 [00:21<00:00, 25375.22ex/s, loss=4]\n",
      "train loss: 100%|██████████| 544230/544230 [00:21<00:00, 25640.14ex/s, loss=4]\n",
      "train loss: 100%|██████████| 544230/544230 [00:21<00:00, 25710.01ex/s, loss=4]\n",
      "train loss:   1%|          | 3000/544230 [00:00<00:27, 19645.18ex/s, loss=4]"
     ]
    },
    {
     "name": "stdout",
     "output_type": "stream",
     "text": [
      "\t TRAIN:  {'MRR': 0.9843563139438629, 'hits@[1,3,10]': tensor([0.9753, 0.9929, 0.9986])}\n",
      "\t VALID :  {'MRR': 0.3516540080308914, 'hits@[1,3,10]': tensor([0.2611, 0.3847, 0.5342])}\n"
     ]
    },
    {
     "name": "stderr",
     "output_type": "stream",
     "text": [
      "train loss: 100%|██████████| 544230/544230 [00:21<00:00, 25548.11ex/s, loss=4]\n",
      "train loss: 100%|██████████| 544230/544230 [00:21<00:00, 25328.21ex/s, loss=4]\n",
      "train loss: 100%|██████████| 544230/544230 [00:21<00:00, 25519.91ex/s, loss=4]\n",
      "train loss: 100%|██████████| 544230/544230 [00:21<00:00, 25629.30ex/s, loss=4]\n",
      "train loss: 100%|██████████| 544230/544230 [00:21<00:00, 25436.87ex/s, loss=4]\n",
      "train loss:   1%|          | 4000/544230 [00:00<00:22, 23888.01ex/s, loss=4]"
     ]
    },
    {
     "name": "stdout",
     "output_type": "stream",
     "text": [
      "\t TRAIN:  {'MRR': 0.9843223094940186, 'hits@[1,3,10]': tensor([0.9752, 0.9925, 0.9985])}\n",
      "\t VALID :  {'MRR': 0.35116438567638397, 'hits@[1,3,10]': tensor([0.2603, 0.3855, 0.5344])}\n"
     ]
    },
    {
     "name": "stderr",
     "output_type": "stream",
     "text": [
      "train loss: 100%|██████████| 544230/544230 [00:21<00:00, 25802.31ex/s, loss=4]\n",
      "train loss: 100%|██████████| 544230/544230 [00:21<00:00, 25767.77ex/s, loss=4]\n",
      "train loss: 100%|██████████| 544230/544230 [00:21<00:00, 25319.09ex/s, loss=4]\n",
      "train loss: 100%|██████████| 544230/544230 [00:21<00:00, 25765.79ex/s, loss=4]\n",
      "train loss: 100%|██████████| 544230/544230 [00:21<00:00, 25555.71ex/s, loss=4]\n",
      "train loss:   1%|          | 4000/544230 [00:00<00:24, 22020.93ex/s, loss=4]"
     ]
    },
    {
     "name": "stdout",
     "output_type": "stream",
     "text": [
      "\t TRAIN:  {'MRR': 0.9855736494064331, 'hits@[1,3,10]': tensor([0.9773, 0.9929, 0.9988])}\n",
      "\t VALID :  {'MRR': 0.3518131226301193, 'hits@[1,3,10]': tensor([0.2614, 0.3856, 0.5351])}\n"
     ]
    },
    {
     "name": "stderr",
     "output_type": "stream",
     "text": [
      "train loss: 100%|██████████| 544230/544230 [00:21<00:00, 25563.67ex/s, loss=4]\n",
      "train loss: 100%|██████████| 544230/544230 [00:21<00:00, 25431.46ex/s, loss=4]\n",
      "train loss: 100%|██████████| 544230/544230 [00:21<00:00, 25604.53ex/s, loss=4]\n",
      "train loss: 100%|██████████| 544230/544230 [00:21<00:00, 25613.36ex/s, loss=4]\n",
      "train loss: 100%|██████████| 544230/544230 [00:21<00:00, 25415.12ex/s, loss=5]\n",
      "train loss:   1%|          | 4000/544230 [00:00<00:23, 22686.59ex/s, loss=4]"
     ]
    },
    {
     "name": "stdout",
     "output_type": "stream",
     "text": [
      "\t TRAIN:  {'MRR': 0.9855570197105408, 'hits@[1,3,10]': tensor([0.9771, 0.9931, 0.9989])}\n",
      "\t VALID :  {'MRR': 0.3513893336057663, 'hits@[1,3,10]': tensor([0.2604, 0.3851, 0.5344])}\n"
     ]
    },
    {
     "name": "stderr",
     "output_type": "stream",
     "text": [
      "train loss: 100%|██████████| 544230/544230 [00:21<00:00, 25630.93ex/s, loss=4]\n",
      "train loss: 100%|██████████| 544230/544230 [00:21<00:00, 25648.98ex/s, loss=4]\n",
      "train loss: 100%|██████████| 544230/544230 [00:21<00:00, 25451.63ex/s, loss=4]\n",
      "train loss: 100%|██████████| 544230/544230 [00:21<00:00, 25397.58ex/s, loss=4]\n",
      "train loss: 100%|██████████| 544230/544230 [00:21<00:00, 25575.40ex/s, loss=4]\n",
      "train loss:   1%|          | 3000/544230 [00:00<00:25, 21219.47ex/s, loss=5]"
     ]
    },
    {
     "name": "stdout",
     "output_type": "stream",
     "text": [
      "\t TRAIN:  {'MRR': 0.9861931502819061, 'hits@[1,3,10]': tensor([0.9784, 0.9930, 0.9991])}\n",
      "\t VALID :  {'MRR': 0.35235100984573364, 'hits@[1,3,10]': tensor([0.2617, 0.3868, 0.5353])}\n"
     ]
    },
    {
     "name": "stderr",
     "output_type": "stream",
     "text": [
      "train loss: 100%|██████████| 544230/544230 [00:21<00:00, 25528.95ex/s, loss=5]\n",
      "train loss: 100%|██████████| 544230/544230 [00:21<00:00, 25678.00ex/s, loss=6]\n",
      "train loss: 100%|██████████| 544230/544230 [00:21<00:00, 25603.69ex/s, loss=5]\n",
      "train loss: 100%|██████████| 544230/544230 [00:21<00:00, 25640.08ex/s, loss=7]\n",
      "train loss: 100%|██████████| 544230/544230 [00:21<00:00, 25707.29ex/s, loss=5]\n",
      "train loss:   1%|          | 3000/544230 [00:00<00:31, 17429.53ex/s, loss=6]"
     ]
    },
    {
     "name": "stdout",
     "output_type": "stream",
     "text": [
      "\t TRAIN:  {'MRR': 0.9853577315807343, 'hits@[1,3,10]': tensor([0.9766, 0.9932, 0.9991])}\n",
      "\t VALID :  {'MRR': 0.35216282308101654, 'hits@[1,3,10]': tensor([0.2609, 0.3869, 0.5360])}\n"
     ]
    },
    {
     "name": "stderr",
     "output_type": "stream",
     "text": [
      "train loss: 100%|██████████| 544230/544230 [00:21<00:00, 25333.28ex/s, loss=6]\n",
      "train loss: 100%|██████████| 544230/544230 [00:21<00:00, 25841.01ex/s, loss=5]\n",
      "train loss: 100%|██████████| 544230/544230 [00:21<00:00, 25698.34ex/s, loss=6]\n",
      "train loss: 100%|██████████| 544230/544230 [00:21<00:00, 25412.34ex/s, loss=5]\n",
      "train loss: 100%|██████████| 544230/544230 [00:21<00:00, 25695.74ex/s, loss=6]\n",
      "train loss:   1%|          | 4000/544230 [00:00<00:24, 22108.45ex/s, loss=6]"
     ]
    },
    {
     "name": "stdout",
     "output_type": "stream",
     "text": [
      "\t TRAIN:  {'MRR': 0.9860895276069641, 'hits@[1,3,10]': tensor([0.9778, 0.9933, 0.9992])}\n",
      "\t VALID :  {'MRR': 0.3525484502315521, 'hits@[1,3,10]': tensor([0.2617, 0.3875, 0.5355])}\n"
     ]
    },
    {
     "name": "stderr",
     "output_type": "stream",
     "text": [
      "train loss: 100%|██████████| 544230/544230 [00:21<00:00, 25476.67ex/s, loss=5]\n",
      "train loss: 100%|██████████| 544230/544230 [00:21<00:00, 25590.36ex/s, loss=6]\n",
      "train loss: 100%|██████████| 544230/544230 [00:21<00:00, 25640.83ex/s, loss=5]\n",
      "train loss: 100%|██████████| 544230/544230 [00:21<00:00, 25584.18ex/s, loss=6]\n",
      "train loss: 100%|██████████| 544230/544230 [00:21<00:00, 25865.63ex/s, loss=5]\n",
      "train loss:   1%|          | 4000/544230 [00:00<00:21, 24954.36ex/s, loss=5]"
     ]
    },
    {
     "name": "stdout",
     "output_type": "stream",
     "text": [
      "\t TRAIN:  {'MRR': 0.986548125743866, 'hits@[1,3,10]': tensor([0.9786, 0.9933, 0.9992])}\n",
      "\t VALID :  {'MRR': 0.3529854267835617, 'hits@[1,3,10]': tensor([0.2622, 0.3873, 0.5362])}\n"
     ]
    },
    {
     "name": "stderr",
     "output_type": "stream",
     "text": [
      "train loss: 100%|██████████| 544230/544230 [00:21<00:00, 25564.39ex/s, loss=6]\n",
      "train loss: 100%|██████████| 544230/544230 [00:21<00:00, 25612.37ex/s, loss=5]\n",
      "train loss: 100%|██████████| 544230/544230 [00:21<00:00, 25623.44ex/s, loss=5]\n",
      "train loss: 100%|██████████| 544230/544230 [00:21<00:00, 25375.45ex/s, loss=5]\n",
      "train loss: 100%|██████████| 544230/544230 [00:21<00:00, 25491.79ex/s, loss=6]\n",
      "train loss:   1%|          | 3000/544230 [00:00<00:27, 19880.39ex/s, loss=5]"
     ]
    },
    {
     "name": "stdout",
     "output_type": "stream",
     "text": [
      "\t TRAIN:  {'MRR': 0.9871318936347961, 'hits@[1,3,10]': tensor([0.9796, 0.9938, 0.9993])}\n",
      "\t VALID :  {'MRR': 0.3526889234781265, 'hits@[1,3,10]': tensor([0.2618, 0.3866, 0.5357])}\n"
     ]
    },
    {
     "name": "stderr",
     "output_type": "stream",
     "text": [
      "train loss: 100%|██████████| 544230/544230 [00:21<00:00, 25421.22ex/s, loss=5]\n",
      "train loss: 100%|██████████| 544230/544230 [00:21<00:00, 25826.35ex/s, loss=5]\n",
      "train loss: 100%|██████████| 544230/544230 [00:21<00:00, 25320.09ex/s, loss=4]\n",
      "train loss: 100%|██████████| 544230/544230 [00:21<00:00, 25565.57ex/s, loss=5]\n",
      "train loss: 100%|██████████| 544230/544230 [00:21<00:00, 24878.35ex/s, loss=5]\n",
      "train loss:   1%|          | 3000/544230 [00:00<00:26, 20151.81ex/s, loss=5]"
     ]
    },
    {
     "name": "stdout",
     "output_type": "stream",
     "text": [
      "\t TRAIN:  {'MRR': 0.9869482219219208, 'hits@[1,3,10]': tensor([0.9793, 0.9935, 0.9994])}\n",
      "\t VALID :  {'MRR': 0.35319972038269043, 'hits@[1,3,10]': tensor([0.2623, 0.3872, 0.5370])}\n"
     ]
    },
    {
     "name": "stderr",
     "output_type": "stream",
     "text": [
      "train loss: 100%|██████████| 544230/544230 [00:21<00:00, 25651.78ex/s, loss=6]\n",
      "train loss: 100%|██████████| 544230/544230 [00:21<00:00, 25455.53ex/s, loss=5]\n",
      "train loss: 100%|██████████| 544230/544230 [00:21<00:00, 25336.20ex/s, loss=5]\n",
      "train loss: 100%|██████████| 544230/544230 [00:21<00:00, 25643.54ex/s, loss=5]\n",
      "train loss: 100%|██████████| 544230/544230 [00:21<00:00, 25667.88ex/s, loss=5]\n",
      "train loss:   1%|          | 3000/544230 [00:00<00:32, 16703.12ex/s, loss=5]"
     ]
    },
    {
     "name": "stdout",
     "output_type": "stream",
     "text": [
      "\t TRAIN:  {'MRR': 0.9868387579917908, 'hits@[1,3,10]': tensor([0.9791, 0.9935, 0.9994])}\n",
      "\t VALID :  {'MRR': 0.35226158797740936, 'hits@[1,3,10]': tensor([0.2610, 0.3863, 0.5371])}\n"
     ]
    },
    {
     "name": "stderr",
     "output_type": "stream",
     "text": [
      "train loss: 100%|██████████| 544230/544230 [00:21<00:00, 25177.71ex/s, loss=5]\n",
      "train loss: 100%|██████████| 544230/544230 [00:21<00:00, 25638.59ex/s, loss=5]\n",
      "train loss: 100%|██████████| 544230/544230 [00:21<00:00, 25624.45ex/s, loss=5]\n",
      "train loss: 100%|██████████| 544230/544230 [00:21<00:00, 25407.56ex/s, loss=5]\n",
      "train loss: 100%|██████████| 544230/544230 [00:21<00:00, 25241.85ex/s, loss=5]\n",
      "train loss:   1%|          | 3000/544230 [00:00<00:22, 23772.92ex/s, loss=5]"
     ]
    },
    {
     "name": "stdout",
     "output_type": "stream",
     "text": [
      "\t TRAIN:  {'MRR': 0.9871686100959778, 'hits@[1,3,10]': tensor([0.9795, 0.9941, 0.9994])}\n",
      "\t VALID :  {'MRR': 0.3533012866973877, 'hits@[1,3,10]': tensor([0.2623, 0.3864, 0.5370])}\n"
     ]
    },
    {
     "name": "stderr",
     "output_type": "stream",
     "text": [
      "train loss: 100%|██████████| 544230/544230 [00:21<00:00, 25851.09ex/s, loss=5]\n",
      "train loss: 100%|██████████| 544230/544230 [00:21<00:00, 25647.61ex/s, loss=5]\n",
      "train loss: 100%|██████████| 544230/544230 [00:21<00:00, 25728.31ex/s, loss=5]\n",
      "train loss: 100%|██████████| 544230/544230 [00:21<00:00, 25508.17ex/s, loss=5]\n",
      "train loss: 100%|██████████| 544230/544230 [00:21<00:00, 25731.50ex/s, loss=5]\n",
      "train loss:   1%|          | 3000/544230 [00:00<00:28, 19020.67ex/s, loss=4]"
     ]
    },
    {
     "name": "stdout",
     "output_type": "stream",
     "text": [
      "\t TRAIN:  {'MRR': 0.9875183999538422, 'hits@[1,3,10]': tensor([0.9799, 0.9944, 0.9993])}\n",
      "\t VALID :  {'MRR': 0.35302191972732544, 'hits@[1,3,10]': tensor([0.2617, 0.3866, 0.5374])}\n"
     ]
    },
    {
     "name": "stderr",
     "output_type": "stream",
     "text": [
      "train loss: 100%|██████████| 544230/544230 [00:21<00:00, 25688.52ex/s, loss=5]\n",
      "train loss: 100%|██████████| 544230/544230 [00:21<00:00, 25427.37ex/s, loss=5]\n",
      "train loss: 100%|██████████| 544230/544230 [00:21<00:00, 25352.70ex/s, loss=5]\n",
      "train loss: 100%|██████████| 544230/544230 [00:21<00:00, 25678.94ex/s, loss=5]\n",
      "train loss: 100%|██████████| 544230/544230 [00:21<00:00, 25661.78ex/s, loss=5]\n",
      "train loss:   1%|          | 4000/544230 [00:00<00:24, 22160.74ex/s, loss=5]"
     ]
    },
    {
     "name": "stdout",
     "output_type": "stream",
     "text": [
      "\t TRAIN:  {'MRR': 0.9881881475448608, 'hits@[1,3,10]': tensor([0.9811, 0.9945, 0.9995])}\n",
      "\t VALID :  {'MRR': 0.35326191782951355, 'hits@[1,3,10]': tensor([0.2620, 0.3866, 0.5369])}\n"
     ]
    },
    {
     "name": "stderr",
     "output_type": "stream",
     "text": [
      "train loss: 100%|██████████| 544230/544230 [00:21<00:00, 25717.53ex/s, loss=5]\n",
      "train loss: 100%|██████████| 544230/544230 [00:21<00:00, 25633.18ex/s, loss=5]\n",
      "train loss: 100%|██████████| 544230/544230 [00:21<00:00, 25259.86ex/s, loss=5]\n",
      "train loss: 100%|██████████| 544230/544230 [00:21<00:00, 25662.51ex/s, loss=5]\n",
      "train loss: 100%|██████████| 544230/544230 [00:21<00:00, 25896.36ex/s, loss=5]\n",
      "train loss:   1%|          | 4000/544230 [00:00<00:24, 22497.13ex/s, loss=5]"
     ]
    },
    {
     "name": "stdout",
     "output_type": "stream",
     "text": [
      "\t TRAIN:  {'MRR': 0.9879691302776337, 'hits@[1,3,10]': tensor([0.9808, 0.9944, 0.9995])}\n",
      "\t VALID :  {'MRR': 0.35376329720020294, 'hits@[1,3,10]': tensor([0.2628, 0.3875, 0.5374])}\n"
     ]
    },
    {
     "name": "stderr",
     "output_type": "stream",
     "text": [
      "train loss: 100%|██████████| 544230/544230 [00:21<00:00, 25349.84ex/s, loss=5]\n",
      "train loss: 100%|██████████| 544230/544230 [00:21<00:00, 25619.52ex/s, loss=5]\n",
      "train loss: 100%|██████████| 544230/544230 [00:21<00:00, 25478.68ex/s, loss=5]\n",
      "train loss: 100%|██████████| 544230/544230 [00:21<00:00, 25686.16ex/s, loss=5]\n",
      "train loss: 100%|██████████| 544230/544230 [00:21<00:00, 25737.71ex/s, loss=5]\n",
      "train loss:   1%|          | 4000/544230 [00:00<00:22, 23956.36ex/s, loss=5]"
     ]
    },
    {
     "name": "stdout",
     "output_type": "stream",
     "text": [
      "\t TRAIN:  {'MRR': 0.9878778159618378, 'hits@[1,3,10]': tensor([0.9808, 0.9940, 0.9994])}\n",
      "\t VALID :  {'MRR': 0.35289183259010315, 'hits@[1,3,10]': tensor([0.2612, 0.3867, 0.5375])}\n"
     ]
    },
    {
     "name": "stderr",
     "output_type": "stream",
     "text": [
      "train loss: 100%|██████████| 544230/544230 [00:21<00:00, 25608.30ex/s, loss=5]\n",
      "train loss: 100%|██████████| 544230/544230 [00:21<00:00, 25742.34ex/s, loss=5]\n",
      "train loss: 100%|██████████| 544230/544230 [00:21<00:00, 25738.13ex/s, loss=5]\n",
      "train loss: 100%|██████████| 544230/544230 [00:21<00:00, 25656.64ex/s, loss=5]\n",
      "train loss: 100%|██████████| 544230/544230 [00:21<00:00, 25289.97ex/s, loss=5]\n",
      "train loss:   1%|          | 4000/544230 [00:00<00:23, 23463.94ex/s, loss=5]"
     ]
    },
    {
     "name": "stdout",
     "output_type": "stream",
     "text": [
      "\t TRAIN:  {'MRR': 0.9886305034160614, 'hits@[1,3,10]': tensor([0.9820, 0.9945, 0.9995])}\n",
      "\t VALID :  {'MRR': 0.35321126878261566, 'hits@[1,3,10]': tensor([0.2622, 0.3857, 0.5377])}\n"
     ]
    },
    {
     "name": "stderr",
     "output_type": "stream",
     "text": [
      "train loss: 100%|██████████| 544230/544230 [00:21<00:00, 25773.26ex/s, loss=5]\n",
      "train loss: 100%|██████████| 544230/544230 [00:21<00:00, 25657.11ex/s, loss=5]\n",
      "train loss: 100%|██████████| 544230/544230 [00:21<00:00, 25282.13ex/s, loss=5]\n",
      "train loss: 100%|██████████| 544230/544230 [00:21<00:00, 25343.88ex/s, loss=5]\n",
      "train loss: 100%|██████████| 544230/544230 [00:21<00:00, 25400.12ex/s, loss=5]\n",
      "train loss:   1%|          | 4000/544230 [00:00<00:23, 23012.25ex/s, loss=5]"
     ]
    },
    {
     "name": "stdout",
     "output_type": "stream",
     "text": [
      "\t TRAIN:  {'MRR': 0.988323301076889, 'hits@[1,3,10]': tensor([0.9815, 0.9944, 0.9995])}\n",
      "\t VALID :  {'MRR': 0.35343101620674133, 'hits@[1,3,10]': tensor([0.2622, 0.3872, 0.5374])}\n"
     ]
    },
    {
     "name": "stderr",
     "output_type": "stream",
     "text": [
      "train loss: 100%|██████████| 544230/544230 [00:21<00:00, 25579.83ex/s, loss=5]\n",
      "train loss: 100%|██████████| 544230/544230 [00:21<00:00, 25571.72ex/s, loss=4]\n",
      "train loss: 100%|██████████| 544230/544230 [00:21<00:00, 25656.96ex/s, loss=5]\n",
      "train loss: 100%|██████████| 544230/544230 [00:21<00:00, 25393.04ex/s, loss=4]\n",
      "train loss: 100%|██████████| 544230/544230 [00:21<00:00, 25436.63ex/s, loss=5]\n",
      "train loss:   1%|          | 3000/544230 [00:00<00:27, 19391.05ex/s, loss=4]"
     ]
    },
    {
     "name": "stdout",
     "output_type": "stream",
     "text": [
      "\t TRAIN:  {'MRR': 0.9880676567554474, 'hits@[1,3,10]': tensor([0.9812, 0.9941, 0.9994])}\n",
      "\t VALID :  {'MRR': 0.35413646697998047, 'hits@[1,3,10]': tensor([0.2632, 0.3867, 0.5368])}\n"
     ]
    },
    {
     "name": "stderr",
     "output_type": "stream",
     "text": [
      "train loss: 100%|██████████| 544230/544230 [00:21<00:00, 25628.26ex/s, loss=4]\n",
      "train loss: 100%|██████████| 544230/544230 [00:21<00:00, 25549.73ex/s, loss=4]\n",
      "train loss: 100%|██████████| 544230/544230 [00:21<00:00, 25488.56ex/s, loss=5]\n",
      "train loss: 100%|██████████| 544230/544230 [00:24<00:00, 21870.19ex/s, loss=5]\n",
      "train loss: 100%|██████████| 544230/544230 [00:21<00:00, 25376.73ex/s, loss=5]\n",
      "train loss:   1%|          | 3000/544230 [00:00<00:27, 19364.91ex/s, loss=4]"
     ]
    },
    {
     "name": "stdout",
     "output_type": "stream",
     "text": [
      "\t TRAIN:  {'MRR': 0.9882676303386688, 'hits@[1,3,10]': tensor([0.9814, 0.9943, 0.9994])}\n",
      "\t VALID :  {'MRR': 0.35419414937496185, 'hits@[1,3,10]': tensor([0.2631, 0.3880, 0.5368])}\n"
     ]
    },
    {
     "name": "stderr",
     "output_type": "stream",
     "text": [
      "train loss: 100%|██████████| 544230/544230 [00:21<00:00, 25609.69ex/s, loss=5]\n",
      "train loss: 100%|██████████| 544230/544230 [00:21<00:00, 25790.91ex/s, loss=5]\n",
      "train loss: 100%|██████████| 544230/544230 [00:21<00:00, 25612.37ex/s, loss=5]\n",
      "train loss: 100%|██████████| 544230/544230 [00:21<00:00, 25401.28ex/s, loss=4]\n",
      "train loss: 100%|██████████| 544230/544230 [00:21<00:00, 25665.83ex/s, loss=4]\n"
     ]
    },
    {
     "name": "stdout",
     "output_type": "stream",
     "text": [
      "\t TRAIN:  {'MRR': 0.9886432886123657, 'hits@[1,3,10]': tensor([0.9820, 0.9945, 0.9995])}\n",
      "\t VALID :  {'MRR': 0.3537232279777527, 'hits@[1,3,10]': tensor([0.2625, 0.3867, 0.5383])}\n",
      "\n",
      "\n",
      "TEST :  ({'rhs': 0.4438616931438446, 'lhs': 0.25086915493011475}, {'rhs': tensor([0.3466, 0.4883, 0.6363]), 'lhs': tensor([0.1631, 0.2757, 0.4283])})\n"
     ]
    }
   ],
   "source": [
    "%run kbc/learn.py --dataset FB237 --model ComplEx_NNE --rank 500 --optimizer Adagrad --learning_rate 1e-1 --batch_size 1000 --regularizer N3 --reg 1e-2 --max_epochs 150 --valid 5\n"
   ]
  },
  {
   "cell_type": "code",
   "execution_count": 2,
   "id": "smooth-lloyd",
   "metadata": {},
   "outputs": [
    {
     "name": "stdout",
     "output_type": "stream",
     "text": [
      "> \u001b[0;32m/home/ComplEx-Inject/kbc/learn.py\u001b[0m(169)\u001b[0;36m<module>\u001b[0;34m()\u001b[0m\n",
      "\u001b[0;32m    167 \u001b[0;31m\u001b[0;32mfor\u001b[0m \u001b[0me\u001b[0m \u001b[0;32min\u001b[0m \u001b[0mrange\u001b[0m\u001b[0;34m(\u001b[0m\u001b[0margs\u001b[0m\u001b[0;34m.\u001b[0m\u001b[0mmax_epochs\u001b[0m\u001b[0;34m)\u001b[0m\u001b[0;34m:\u001b[0m\u001b[0;34m\u001b[0m\u001b[0;34m\u001b[0m\u001b[0m\n",
      "\u001b[0m\u001b[0;32m    168 \u001b[0;31m    \u001b[0mcur_loss\u001b[0m \u001b[0;34m=\u001b[0m \u001b[0moptimizer\u001b[0m\u001b[0;34m.\u001b[0m\u001b[0mepoch\u001b[0m\u001b[0;34m(\u001b[0m\u001b[0mexamples\u001b[0m\u001b[0;34m)\u001b[0m\u001b[0;34m\u001b[0m\u001b[0;34m\u001b[0m\u001b[0m\n",
      "\u001b[0m\u001b[0;32m--> 169 \u001b[0;31m    \u001b[0;32mraise\u001b[0m\u001b[0;34m\u001b[0m\u001b[0;34m\u001b[0m\u001b[0m\n",
      "\u001b[0m\u001b[0;32m    170 \u001b[0;31m    \u001b[0;32mif\u001b[0m \u001b[0;34m(\u001b[0m\u001b[0me\u001b[0m \u001b[0;34m+\u001b[0m \u001b[0;36m1\u001b[0m\u001b[0;34m)\u001b[0m \u001b[0;34m%\u001b[0m \u001b[0margs\u001b[0m\u001b[0;34m.\u001b[0m\u001b[0mvalid\u001b[0m \u001b[0;34m==\u001b[0m \u001b[0;36m0\u001b[0m\u001b[0;34m:\u001b[0m\u001b[0;34m\u001b[0m\u001b[0;34m\u001b[0m\u001b[0m\n",
      "\u001b[0m\u001b[0;32m    171 \u001b[0;31m        valid, test, train = [\n",
      "\u001b[0m\n"
     ]
    },
    {
     "name": "stdin",
     "output_type": "stream",
     "text": [
      "ipdb>  model\n"
     ]
    },
    {
     "name": "stdout",
     "output_type": "stream",
     "text": [
      "ComplEx_NNE(\n",
      "  (embeddings): ModuleList(\n",
      "    (0): Embedding(14541, 1000, sparse=True)\n",
      "    (1): Embedding(474, 1000, sparse=True)\n",
      "  )\n",
      ")\n"
     ]
    },
    {
     "name": "stdin",
     "output_type": "stream",
     "text": [
      "ipdb>  model.mu\n"
     ]
    },
    {
     "name": "stdout",
     "output_type": "stream",
     "text": [
      "100\n"
     ]
    },
    {
     "name": "stdin",
     "output_type": "stream",
     "text": [
      "ipdb>  model.mu = 2 * model.mu\n",
      "ipdb>  model.mu\n"
     ]
    },
    {
     "name": "stdout",
     "output_type": "stream",
     "text": [
      "200\n"
     ]
    },
    {
     "name": "stdin",
     "output_type": "stream",
     "text": [
      "ipdb>  q\n"
     ]
    }
   ],
   "source": [
    "%debug"
   ]
  },
  {
   "cell_type": "code",
   "execution_count": 7,
   "id": "terminal-appraisal",
   "metadata": {},
   "outputs": [],
   "source": [
    "l_1 = []\n",
    "l_2 = []\n",
    "with open(\"loss_values_mu_1e-1.txt\", \"r\") as myfile:\n",
    "    for line in myfile:\n",
    "        l_1.append(float(line.strip().split(',')[0][1:]))\n",
    "        l_2.append(float(line.strip().split(',')[1][:-1]))"
   ]
  },
  {
   "cell_type": "code",
   "execution_count": 8,
   "id": "modified-explanation",
   "metadata": {},
   "outputs": [
    {
     "data": {
      "text/plain": [
       "(468550, 468550)"
      ]
     },
     "execution_count": 8,
     "metadata": {},
     "output_type": "execute_result"
    }
   ],
   "source": [
    "len(l_1) , len(l_2)"
   ]
  },
  {
   "cell_type": "code",
   "execution_count": 9,
   "id": "conscious-folder",
   "metadata": {},
   "outputs": [
    {
     "data": {
      "text/plain": [
       "[<matplotlib.lines.Line2D at 0x7fedb59b53d0>]"
      ]
     },
     "execution_count": 9,
     "metadata": {},
     "output_type": "execute_result"
    },
    {
     "data": {
      "image/png": "[encoded data removed]",
      "text/plain": [
       "<Figure size 432x288 with 1 Axes>"
      ]
     },
     "metadata": {
      "needs_background": "light"
     },
     "output_type": "display_data"
    }
   ],
   "source": [
    "import matplotlib.pyplot as plt\n",
    "import numpy as np\n",
    "\n",
    "l_1 = np.array(l_1)\n",
    "l_2 = np.array(l_2)\n",
    "\n",
    "\n",
    "plt.plot(l_1/l_2)"
   ]
  },
  {
   "cell_type": "code",
   "execution_count": 2,
   "id": "weighted-scene",
   "metadata": {},
   "outputs": [
    {
     "data": {
      "text/plain": [
       "[<matplotlib.lines.Line2D at 0x7fdde741a150>]"
      ]
     },
     "execution_count": 2,
     "metadata": {},
     "output_type": "execute_result"
    },
    {
     "data": {
      "image/png": "[encoded data removed]",
      "text/plain": [
       "<Figure size 432x288 with 1 Axes>"
      ]
     },
     "metadata": {
      "needs_background": "light"
     },
     "output_type": "display_data"
    }
   ],
   "source": [
    "import matplotlib.pyplot as plt\n",
    "import numpy as np\n",
    "\n",
    "l_1 = []\n",
    "l_2 = []\n",
    "with open(\"loss_values.txt\", \"r\") as myfile:\n",
    "    for line in myfile:\n",
    "        l_1.append(float(line.strip().split(',')[0][1:]))\n",
    "        l_2.append(float(line.strip().split(',')[1][:-1]))\n",
    "\n",
    "l_1 = np.array(l_1)\n",
    "l_2 = np.array(l_2)\n",
    "\n",
    "\n",
    "plt.plot(l_1/l_2)"
   ]
  },
  {
   "cell_type": "code",
   "execution_count": 10,
   "id": "characteristic-legend",
   "metadata": {},
   "outputs": [
    {
     "ename": "ModuleNotFoundError",
     "evalue": "No module named 'models'",
     "output_type": "error",
     "traceback": [
      "\u001b[0;31m---------------------------------------------------------------------------\u001b[0m",
      "\u001b[0;31mModuleNotFoundError\u001b[0m                       Traceback (most recent call last)",
      "\u001b[0;32m<ipython-input-10-48804be97315>\u001b[0m in \u001b[0;36m<module>\u001b[0;34m\u001b[0m\n\u001b[0;32m----> 1\u001b[0;31m \u001b[0;34m(\u001b[0m\u001b[0mm\u001b[0m\u001b[0;34m,\u001b[0m\u001b[0md\u001b[0m\u001b[0;34m)\u001b[0m \u001b[0;34m=\u001b[0m \u001b[0mtorch\u001b[0m\u001b[0;34m.\u001b[0m\u001b[0mload\u001b[0m\u001b[0;34m(\u001b[0m\u001b[0;34m'saved_models/model_2021-03-25 19-55-19.pkl'\u001b[0m\u001b[0;34m)\u001b[0m\u001b[0;34m\u001b[0m\u001b[0;34m\u001b[0m\u001b[0m\n\u001b[0m",
      "\u001b[0;32m/opt/conda/lib/python3.7/site-packages/torch/serialization.py\u001b[0m in \u001b[0;36mload\u001b[0;34m(f, map_location, pickle_module, **pickle_load_args)\u001b[0m\n\u001b[1;32m    591\u001b[0m                     \u001b[0;32mreturn\u001b[0m \u001b[0mtorch\u001b[0m\u001b[0;34m.\u001b[0m\u001b[0mjit\u001b[0m\u001b[0;34m.\u001b[0m\u001b[0mload\u001b[0m\u001b[0;34m(\u001b[0m\u001b[0mf\u001b[0m\u001b[0;34m)\u001b[0m\u001b[0;34m\u001b[0m\u001b[0;34m\u001b[0m\u001b[0m\n\u001b[1;32m    592\u001b[0m                 \u001b[0;32mreturn\u001b[0m \u001b[0m_load\u001b[0m\u001b[0;34m(\u001b[0m\u001b[0mopened_zipfile\u001b[0m\u001b[0;34m,\u001b[0m \u001b[0mmap_location\u001b[0m\u001b[0;34m,\u001b[0m \u001b[0mpickle_module\u001b[0m\u001b[0;34m,\u001b[0m \u001b[0;34m**\u001b[0m\u001b[0mpickle_load_args\u001b[0m\u001b[0;34m)\u001b[0m\u001b[0;34m\u001b[0m\u001b[0;34m\u001b[0m\u001b[0m\n\u001b[0;32m--> 593\u001b[0;31m         \u001b[0;32mreturn\u001b[0m \u001b[0m_legacy_load\u001b[0m\u001b[0;34m(\u001b[0m\u001b[0mopened_file\u001b[0m\u001b[0;34m,\u001b[0m \u001b[0mmap_location\u001b[0m\u001b[0;34m,\u001b[0m \u001b[0mpickle_module\u001b[0m\u001b[0;34m,\u001b[0m \u001b[0;34m**\u001b[0m\u001b[0mpickle_load_args\u001b[0m\u001b[0;34m)\u001b[0m\u001b[0;34m\u001b[0m\u001b[0;34m\u001b[0m\u001b[0m\n\u001b[0m\u001b[1;32m    594\u001b[0m \u001b[0;34m\u001b[0m\u001b[0m\n\u001b[1;32m    595\u001b[0m \u001b[0;34m\u001b[0m\u001b[0m\n",
      "\u001b[0;32m/opt/conda/lib/python3.7/site-packages/torch/serialization.py\u001b[0m in \u001b[0;36m_legacy_load\u001b[0;34m(f, map_location, pickle_module, **pickle_load_args)\u001b[0m\n\u001b[1;32m    771\u001b[0m     \u001b[0munpickler\u001b[0m \u001b[0;34m=\u001b[0m \u001b[0mpickle_module\u001b[0m\u001b[0;34m.\u001b[0m\u001b[0mUnpickler\u001b[0m\u001b[0;34m(\u001b[0m\u001b[0mf\u001b[0m\u001b[0;34m,\u001b[0m \u001b[0;34m**\u001b[0m\u001b[0mpickle_load_args\u001b[0m\u001b[0;34m)\u001b[0m\u001b[0;34m\u001b[0m\u001b[0;34m\u001b[0m\u001b[0m\n\u001b[1;32m    772\u001b[0m     \u001b[0munpickler\u001b[0m\u001b[0;34m.\u001b[0m\u001b[0mpersistent_load\u001b[0m \u001b[0;34m=\u001b[0m \u001b[0mpersistent_load\u001b[0m\u001b[0;34m\u001b[0m\u001b[0;34m\u001b[0m\u001b[0m\n\u001b[0;32m--> 773\u001b[0;31m     \u001b[0mresult\u001b[0m \u001b[0;34m=\u001b[0m \u001b[0munpickler\u001b[0m\u001b[0;34m.\u001b[0m\u001b[0mload\u001b[0m\u001b[0;34m(\u001b[0m\u001b[0;34m)\u001b[0m\u001b[0;34m\u001b[0m\u001b[0;34m\u001b[0m\u001b[0m\n\u001b[0m\u001b[1;32m    774\u001b[0m \u001b[0;34m\u001b[0m\u001b[0m\n\u001b[1;32m    775\u001b[0m     \u001b[0mdeserialized_storage_keys\u001b[0m \u001b[0;34m=\u001b[0m \u001b[0mpickle_module\u001b[0m\u001b[0;34m.\u001b[0m\u001b[0mload\u001b[0m\u001b[0;34m(\u001b[0m\u001b[0mf\u001b[0m\u001b[0;34m,\u001b[0m \u001b[0;34m**\u001b[0m\u001b[0mpickle_load_args\u001b[0m\u001b[0;34m)\u001b[0m\u001b[0;34m\u001b[0m\u001b[0;34m\u001b[0m\u001b[0m\n",
      "\u001b[0;31mModuleNotFoundError\u001b[0m: No module named 'models'"
     ]
    }
   ],
   "source": [
    "(m,d) = torch.load('saved_models/model_2021-03-25 19-55-19.pkl')"
   ]
  },
  {
   "cell_type": "code",
   "execution_count": 2,
   "id": "future-julian",
   "metadata": {},
   "outputs": [
    {
     "name": "stdout",
     "output_type": "stream",
     "text": [
      "(10.4345,17.34545) \n",
      "\n"
     ]
    }
   ],
   "source": [
    "x,y = 10.4345,17.34545\n",
    "\n",
    "print(f'({x},{y}) \\n')"
   ]
  },
  {
   "cell_type": "code",
   "execution_count": 8,
   "id": "wireless-rainbow",
   "metadata": {},
   "outputs": [
    {
     "data": {
      "text/plain": [
       "({'rhs': 0.8182445168495178, 'lhs': 0.7715147733688354},\n",
       " {'rhs': tensor([0.7552, 0.8656, 0.9218]),\n",
       "  'lhs': tensor([0.7092, 0.8159, 0.8731])})"
      ]
     },
     "execution_count": 8,
     "metadata": {},
     "output_type": "execute_result"
    }
   ],
   "source": [
    "d.eval(m, 'test', -1)\n"
   ]
  },
  {
   "cell_type": "code",
   "execution_count": 32,
   "id": "inner-relay",
   "metadata": {},
   "outputs": [
    {
     "data": {
      "text/plain": [
       "'a 2021-03-25 19:03:41.df'"
      ]
     },
     "execution_count": 32,
     "metadata": {},
     "output_type": "execute_result"
    }
   ],
   "source": [
    "f'a {txt}.df'"
   ]
  },
  {
   "cell_type": "code",
   "execution_count": 25,
   "id": "random-power",
   "metadata": {},
   "outputs": [],
   "source": [
    "from datetime import datetime\n",
    "\n",
    "now = datetime.now()\n",
    "txt = str(now)[:19].replace(':','-')\n"
   ]
  },
  {
   "cell_type": "code",
   "execution_count": 33,
   "id": "detected-refund",
   "metadata": {},
   "outputs": [
    {
     "data": {
      "text/plain": [
       "'2021-03-25 19-03-41'"
      ]
     },
     "execution_count": 33,
     "metadata": {},
     "output_type": "execute_result"
    }
   ],
   "source": [
    "str(now)[:19].replace(':','-')"
   ]
  },
  {
   "cell_type": "code",
   "execution_count": 11,
   "id": "working-comfort",
   "metadata": {},
   "outputs": [
    {
     "name": "stdout",
     "output_type": "stream",
     "text": [
      "total 741M\n",
      "drwxr-xr-x  3 root root 4.0K May 19 18:27  \u001b[0m\u001b[01;34m.\u001b[0m/\n",
      "drwxrwxr-x 11 1004 1004 4.0K May 19 18:32  \u001b[01;34m..\u001b[0m/\n",
      "drwxr-xr-x  2 root root 4.0K Mar 25 19:21  \u001b[01;34m.ipynb_checkpoints\u001b[0m/\n",
      "-rw-r--r--  1 root root 116M May 19 10:23  2021-05-19_10-23-09_ComplEx_NNE_FB237_mu_10.pkl\n",
      "-rw-r--r--  1 root root 116M May 19 15:20  2021-05-19_15-20-11_FB237_ComplEx.pkl\n",
      "-rw-r--r--  1 root root 160M May 19 18:28  2021-05-19_18-27-59_FB15K_ComplEx.pkl\n",
      "-rw-r--r--  1 root root 116M May 17 20:48  ComplEx_NNE_FB237_2021-05-17_20-48-10.pkl\n",
      "-rw-r--r--  1 root root 169M Mar 25 19:55 'model_2021-03-25 19-55-19.pkl'\n",
      "-rw-r--r--  1 root root  68M Mar 25 17:18  model_data.pkl\n"
     ]
    }
   ],
   "source": [
    "ls -ahl saved_models/"
   ]
  },
  {
   "cell_type": "code",
   "execution_count": null,
   "id": "intellectual-stretch",
   "metadata": {},
   "outputs": [],
   "source": []
  },
  {
   "cell_type": "code",
   "execution_count": null,
   "id": "c696058c-cf81-40aa-bc27-aee5abe360af",
   "metadata": {},
   "outputs": [],
   "source": []
  },
  {
   "cell_type": "code",
   "execution_count": null,
   "id": "50f865a2-88ce-4cf9-9311-5608d93b8b0f",
   "metadata": {},
   "outputs": [],
   "source": []
  },
  {
   "cell_type": "markdown",
   "id": "7432c1a0-e87d-4068-a751-dacc0da5ec04",
   "metadata": {},
   "source": [
    "# May 10"
   ]
  },
  {
   "cell_type": "code",
   "execution_count": null,
   "id": "6921e281-6b86-4b6a-9202-7632ca180ac1",
   "metadata": {},
   "outputs": [],
   "source": []
  },
  {
   "cell_type": "code",
   "execution_count": 3,
   "id": "a952cd06-0943-4299-bf52-acdb50023ea1",
   "metadata": {},
   "outputs": [
    {
     "name": "stdout",
     "output_type": "stream",
     "text": [
      "\n",
      "=====> Parameter settings: Namespace(batch_size=1000, dataset='FB237', decay1=0.9, decay2=0.999, init=0.001, learning_rate=0.1, max_epochs=120, model='ComplEx_NNE', optimizer='Adagrad', rank=500, reg=0.01, regularizer='N3', valid=5.0)\n",
      "\n",
      "=====> Rule set path: /home/ComplEx-Inject/kbc/src_data/FB237/kbc_id_cons.txt\n",
      "474\n",
      "(14541, 474, 14541)\n",
      "======> mu value: 100\n"
     ]
    },
    {
     "name": "stderr",
     "output_type": "stream",
     "text": [
      "train loss:   0%|          | 0/544230 [00:00<?, ?ex/s]"
     ]
    },
    {
     "name": "stdout",
     "output_type": "stream",
     "text": [
      "check model type\n"
     ]
    },
    {
     "name": "stderr",
     "output_type": "stream",
     "text": [
      "train loss: 100%|██████████| 544230/544230 [00:28<00:00, 18924.49ex/s, loss=13]\n",
      "train loss: 100%|██████████| 544230/544230 [00:21<00:00, 25091.59ex/s, loss=7] \n",
      "train loss: 100%|██████████| 544230/544230 [00:26<00:00, 20548.08ex/s, loss=9]\n",
      "train loss: 100%|██████████| 544230/544230 [00:23<00:00, 23220.78ex/s, loss=6]\n",
      "train loss: 100%|██████████| 544230/544230 [00:31<00:00, 17153.82ex/s, loss=7]\n",
      "train loss:   1%|          | 4000/544230 [00:00<00:23, 23459.08ex/s, loss=7]"
     ]
    },
    {
     "name": "stdout",
     "output_type": "stream",
     "text": [
      "\t TRAIN:  {'MRR': 0.9125830829143524, 'hits@[1,3,10]': tensor([0.8724, 0.9454, 0.9761])}\n",
      "\t VALID :  {'MRR': 0.3378174975514412, 'hits@[1,3,10]': tensor([0.2462, 0.3711, 0.5224])}\n"
     ]
    },
    {
     "name": "stderr",
     "output_type": "stream",
     "text": [
      "train loss: 100%|██████████| 544230/544230 [00:25<00:00, 21233.79ex/s, loss=6]\n",
      "train loss: 100%|██████████| 544230/544230 [00:28<00:00, 19309.63ex/s, loss=6]\n",
      "train loss: 100%|██████████| 544230/544230 [00:25<00:00, 21516.65ex/s, loss=6]\n",
      "train loss: 100%|██████████| 544230/544230 [00:30<00:00, 17967.48ex/s, loss=6]\n",
      "train loss: 100%|██████████| 544230/544230 [00:28<00:00, 19425.57ex/s, loss=6]\n",
      "train loss:   0%|          | 2000/544230 [00:00<00:31, 17185.90ex/s, loss=5]"
     ]
    },
    {
     "name": "stdout",
     "output_type": "stream",
     "text": [
      "\t TRAIN:  {'MRR': 0.9602514803409576, 'hits@[1,3,10]': tensor([0.9392, 0.9789, 0.9922])}\n",
      "\t VALID :  {'MRR': 0.34355488419532776, 'hits@[1,3,10]': tensor([0.2514, 0.3766, 0.5298])}\n"
     ]
    },
    {
     "name": "stderr",
     "output_type": "stream",
     "text": [
      "train loss: 100%|██████████| 544230/544230 [00:28<00:00, 18871.97ex/s, loss=6]\n",
      "train loss: 100%|██████████| 544230/544230 [00:29<00:00, 18175.57ex/s, loss=5]\n",
      "train loss: 100%|██████████| 544230/544230 [00:24<00:00, 22287.04ex/s, loss=6]\n",
      "train loss: 100%|██████████| 544230/544230 [00:28<00:00, 19307.49ex/s, loss=5]\n",
      "train loss: 100%|██████████| 544230/544230 [00:30<00:00, 18125.49ex/s, loss=5]\n",
      "train loss:   1%|          | 4000/544230 [00:00<00:24, 22471.77ex/s, loss=5]"
     ]
    },
    {
     "name": "stdout",
     "output_type": "stream",
     "text": [
      "\t TRAIN:  {'MRR': 0.9751888513565063, 'hits@[1,3,10]': tensor([0.9614, 0.9874, 0.9957])}\n",
      "\t VALID :  {'MRR': 0.3468359559774399, 'hits@[1,3,10]': tensor([0.2546, 0.3790, 0.5353])}\n"
     ]
    },
    {
     "name": "stderr",
     "output_type": "stream",
     "text": [
      "train loss: 100%|██████████| 544230/544230 [00:26<00:00, 20598.34ex/s, loss=5]\n",
      "train loss: 100%|██████████| 544230/544230 [00:32<00:00, 16550.61ex/s, loss=5]\n",
      "train loss: 100%|██████████| 544230/544230 [00:33<00:00, 16434.92ex/s, loss=5]\n",
      "train loss: 100%|██████████| 544230/544230 [00:33<00:00, 16462.50ex/s, loss=5]\n",
      "train loss: 100%|██████████| 544230/544230 [00:28<00:00, 19065.10ex/s, loss=5]\n",
      "train loss:   1%|          | 3000/544230 [00:00<00:31, 17366.46ex/s, loss=5]"
     ]
    },
    {
     "name": "stdout",
     "output_type": "stream",
     "text": [
      "\t TRAIN:  {'MRR': 0.9830747842788696, 'hits@[1,3,10]': tensor([0.9732, 0.9921, 0.9977])}\n",
      "\t VALID :  {'MRR': 0.3485139161348343, 'hits@[1,3,10]': tensor([0.2568, 0.3819, 0.5349])}\n"
     ]
    },
    {
     "name": "stderr",
     "output_type": "stream",
     "text": [
      "train loss: 100%|██████████| 544230/544230 [00:26<00:00, 20752.90ex/s, loss=5]\n",
      "train loss: 100%|██████████| 544230/544230 [00:28<00:00, 18774.50ex/s, loss=5]\n",
      "train loss: 100%|██████████| 544230/544230 [00:30<00:00, 17765.76ex/s, loss=5]\n",
      "train loss: 100%|██████████| 544230/544230 [00:28<00:00, 19342.17ex/s, loss=5]\n",
      "train loss: 100%|██████████| 544230/544230 [00:29<00:00, 18576.89ex/s, loss=5]\n",
      "train loss:   1%|          | 3000/544230 [00:00<00:27, 19972.83ex/s, loss=5]"
     ]
    },
    {
     "name": "stdout",
     "output_type": "stream",
     "text": [
      "\t TRAIN:  {'MRR': 0.9849869608879089, 'hits@[1,3,10]': tensor([0.9761, 0.9932, 0.9984])}\n",
      "\t VALID :  {'MRR': 0.3496285006403923, 'hits@[1,3,10]': tensor([0.2570, 0.3836, 0.5376])}\n"
     ]
    },
    {
     "name": "stderr",
     "output_type": "stream",
     "text": [
      "train loss: 100%|██████████| 544230/544230 [00:28<00:00, 19366.73ex/s, loss=5]\n",
      "train loss: 100%|██████████| 544230/544230 [00:29<00:00, 18350.82ex/s, loss=5]\n",
      "train loss: 100%|██████████| 544230/544230 [00:29<00:00, 18368.07ex/s, loss=5]\n",
      "train loss: 100%|██████████| 544230/544230 [00:26<00:00, 20762.80ex/s, loss=5]\n",
      "train loss: 100%|██████████| 544230/544230 [00:26<00:00, 20237.78ex/s, loss=5]\n",
      "train loss:   1%|          | 3000/544230 [00:00<00:26, 20634.96ex/s, loss=6] "
     ]
    },
    {
     "name": "stdout",
     "output_type": "stream",
     "text": [
      "\t TRAIN:  {'MRR': 0.9880184233188629, 'hits@[1,3,10]': tensor([0.9806, 0.9948, 0.9989])}\n",
      "\t VALID :  {'MRR': 0.35062047094106674, 'hits@[1,3,10]': tensor([0.2593, 0.3833, 0.5357])}\n"
     ]
    },
    {
     "name": "stderr",
     "output_type": "stream",
     "text": [
      "train loss: 100%|██████████| 544230/544230 [00:30<00:00, 18008.47ex/s, loss=7] \n",
      "train loss: 100%|██████████| 544230/544230 [00:28<00:00, 19313.14ex/s, loss=8]\n",
      "train loss: 100%|██████████| 544230/544230 [00:31<00:00, 17098.64ex/s, loss=6]\n",
      "train loss: 100%|██████████| 544230/544230 [00:28<00:00, 19276.73ex/s, loss=8]\n",
      "train loss: 100%|██████████| 544230/544230 [00:32<00:00, 16928.36ex/s, loss=6]\n",
      "train loss:   1%|          | 3000/544230 [00:00<00:29, 18146.99ex/s, loss=8]"
     ]
    },
    {
     "name": "stdout",
     "output_type": "stream",
     "text": [
      "\t TRAIN:  {'MRR': 0.989506721496582, 'hits@[1,3,10]': tensor([0.9831, 0.9952, 0.9991])}\n",
      "\t VALID :  {'MRR': 0.3503958582878113, 'hits@[1,3,10]': tensor([0.2588, 0.3830, 0.5380])}\n"
     ]
    },
    {
     "name": "stderr",
     "output_type": "stream",
     "text": [
      "train loss: 100%|██████████| 544230/544230 [00:23<00:00, 23239.24ex/s, loss=7]\n",
      "train loss: 100%|██████████| 544230/544230 [00:23<00:00, 23027.88ex/s, loss=6]\n",
      "train loss: 100%|██████████| 544230/544230 [00:30<00:00, 18079.95ex/s, loss=7]\n",
      "train loss: 100%|██████████| 544230/544230 [00:28<00:00, 19164.48ex/s, loss=5]\n",
      "train loss: 100%|██████████| 544230/544230 [00:30<00:00, 17880.80ex/s, loss=7]\n",
      "train loss:   1%|          | 3000/544230 [00:00<00:24, 22089.35ex/s, loss=6]"
     ]
    },
    {
     "name": "stdout",
     "output_type": "stream",
     "text": [
      "\t TRAIN:  {'MRR': 0.990334540605545, 'hits@[1,3,10]': tensor([0.9844, 0.9959, 0.9994])}\n",
      "\t VALID :  {'MRR': 0.3515690118074417, 'hits@[1,3,10]': tensor([0.2600, 0.3845, 0.5374])}\n"
     ]
    },
    {
     "name": "stderr",
     "output_type": "stream",
     "text": [
      "train loss: 100%|██████████| 544230/544230 [00:29<00:00, 18154.54ex/s, loss=6]\n",
      "train loss: 100%|██████████| 544230/544230 [00:24<00:00, 22207.95ex/s, loss=7]\n",
      "train loss: 100%|██████████| 544230/544230 [00:31<00:00, 17366.82ex/s, loss=6]\n",
      "train loss: 100%|██████████| 544230/544230 [00:23<00:00, 23120.02ex/s, loss=7]\n",
      "train loss: 100%|██████████| 544230/544230 [00:26<00:00, 20339.17ex/s, loss=6]\n",
      "train loss:   1%|          | 3000/544230 [00:00<00:27, 20003.52ex/s, loss=7]"
     ]
    },
    {
     "name": "stdout",
     "output_type": "stream",
     "text": [
      "\t TRAIN:  {'MRR': 0.9908869564533234, 'hits@[1,3,10]': tensor([0.9851, 0.9962, 0.9994])}\n",
      "\t VALID :  {'MRR': 0.35165564715862274, 'hits@[1,3,10]': tensor([0.2600, 0.3848, 0.5384])}\n"
     ]
    },
    {
     "name": "stderr",
     "output_type": "stream",
     "text": [
      "train loss: 100%|██████████| 544230/544230 [00:29<00:00, 18154.99ex/s, loss=7]\n",
      "train loss: 100%|██████████| 544230/544230 [00:28<00:00, 19149.02ex/s, loss=6]\n",
      "train loss: 100%|██████████| 544230/544230 [00:21<00:00, 25693.44ex/s, loss=7]\n",
      "train loss: 100%|██████████| 544230/544230 [00:27<00:00, 19666.92ex/s, loss=6]\n",
      "train loss: 100%|██████████| 544230/544230 [00:31<00:00, 17295.81ex/s, loss=7]\n",
      "train loss:   1%|          | 4000/544230 [00:00<00:24, 21848.79ex/s, loss=7]"
     ]
    },
    {
     "name": "stdout",
     "output_type": "stream",
     "text": [
      "\t TRAIN:  {'MRR': 0.9917183816432953, 'hits@[1,3,10]': tensor([0.9866, 0.9964, 0.9993])}\n",
      "\t VALID :  {'MRR': 0.35176508128643036, 'hits@[1,3,10]': tensor([0.2598, 0.3862, 0.5379])}\n"
     ]
    },
    {
     "name": "stderr",
     "output_type": "stream",
     "text": [
      "train loss: 100%|██████████| 544230/544230 [00:26<00:00, 20898.69ex/s, loss=6]\n",
      "train loss: 100%|██████████| 544230/544230 [00:29<00:00, 18535.77ex/s, loss=6]\n",
      "train loss: 100%|██████████| 544230/544230 [00:28<00:00, 18914.30ex/s, loss=6]\n",
      "train loss: 100%|██████████| 544230/544230 [00:31<00:00, 17044.14ex/s, loss=6]\n",
      "train loss: 100%|██████████| 544230/544230 [00:29<00:00, 18496.45ex/s, loss=5]\n",
      "train loss:   1%|          | 4000/544230 [00:00<00:20, 25818.20ex/s, loss=5]"
     ]
    },
    {
     "name": "stdout",
     "output_type": "stream",
     "text": [
      "\t TRAIN:  {'MRR': 0.9920012652873993, 'hits@[1,3,10]': tensor([0.9872, 0.9964, 0.9993])}\n",
      "\t VALID :  {'MRR': 0.3525082767009735, 'hits@[1,3,10]': tensor([0.2604, 0.3859, 0.5379])}\n"
     ]
    },
    {
     "name": "stderr",
     "output_type": "stream",
     "text": [
      "train loss: 100%|██████████| 544230/544230 [00:28<00:00, 19045.59ex/s, loss=6]\n",
      "train loss: 100%|██████████| 544230/544230 [00:30<00:00, 18003.86ex/s, loss=6]\n",
      "train loss: 100%|██████████| 544230/544230 [00:30<00:00, 18086.97ex/s, loss=6]\n",
      "train loss: 100%|██████████| 544230/544230 [00:28<00:00, 19203.63ex/s, loss=6]\n",
      "train loss: 100%|██████████| 544230/544230 [00:28<00:00, 19297.85ex/s, loss=6]\n",
      "train loss:   1%|          | 3000/544230 [00:00<00:28, 18849.87ex/s, loss=5]"
     ]
    },
    {
     "name": "stdout",
     "output_type": "stream",
     "text": [
      "\t TRAIN:  {'MRR': 0.9919262826442719, 'hits@[1,3,10]': tensor([0.9870, 0.9963, 0.9993])}\n",
      "\t VALID :  {'MRR': 0.3524368107318878, 'hits@[1,3,10]': tensor([0.2603, 0.3866, 0.5393])}\n"
     ]
    },
    {
     "name": "stderr",
     "output_type": "stream",
     "text": [
      "train loss: 100%|██████████| 544230/544230 [00:30<00:00, 18059.30ex/s, loss=6]\n",
      "train loss: 100%|██████████| 544230/544230 [00:26<00:00, 20624.05ex/s, loss=6]\n",
      "train loss: 100%|██████████| 544230/544230 [00:28<00:00, 19409.05ex/s, loss=5]\n",
      "train loss: 100%|██████████| 544230/544230 [00:30<00:00, 17598.14ex/s, loss=6]\n",
      "train loss: 100%|██████████| 544230/544230 [00:22<00:00, 23699.71ex/s, loss=5]\n",
      "train loss:   1%|          | 3000/544230 [00:00<00:26, 20262.93ex/s, loss=5]"
     ]
    },
    {
     "name": "stdout",
     "output_type": "stream",
     "text": [
      "\t TRAIN:  {'MRR': 0.9924542307853699, 'hits@[1,3,10]': tensor([0.9879, 0.9966, 0.9994])}\n",
      "\t VALID :  {'MRR': 0.35244986414909363, 'hits@[1,3,10]': tensor([0.2600, 0.3861, 0.5386])}\n"
     ]
    },
    {
     "name": "stderr",
     "output_type": "stream",
     "text": [
      "train loss: 100%|██████████| 544230/544230 [00:31<00:00, 17113.77ex/s, loss=6]\n",
      "train loss: 100%|██████████| 544230/544230 [00:28<00:00, 19422.21ex/s, loss=5]\n",
      "train loss: 100%|██████████| 544230/544230 [00:29<00:00, 18564.51ex/s, loss=5]\n",
      "train loss: 100%|██████████| 544230/544230 [00:25<00:00, 20973.26ex/s, loss=5]\n",
      "train loss: 100%|██████████| 544230/544230 [00:25<00:00, 20953.24ex/s, loss=5]\n",
      "train loss:   1%|          | 4000/544230 [00:00<00:22, 24476.28ex/s, loss=15]"
     ]
    },
    {
     "name": "stdout",
     "output_type": "stream",
     "text": [
      "\t TRAIN:  {'MRR': 0.9925876557826996, 'hits@[1,3,10]': tensor([0.9881, 0.9968, 0.9996])}\n",
      "\t VALID :  {'MRR': 0.35276496410369873, 'hits@[1,3,10]': tensor([0.2604, 0.3872, 0.5394])}\n"
     ]
    },
    {
     "name": "stderr",
     "output_type": "stream",
     "text": [
      "train loss: 100%|██████████| 544230/544230 [00:24<00:00, 22448.69ex/s, loss=8] \n",
      "train loss: 100%|██████████| 544230/544230 [00:29<00:00, 18525.15ex/s, loss=13]\n",
      "train loss: 100%|██████████| 544230/544230 [00:28<00:00, 19164.36ex/s, loss=8] \n",
      "train loss: 100%|██████████| 544230/544230 [00:31<00:00, 17174.39ex/s, loss=12]\n",
      "train loss: 100%|██████████| 544230/544230 [00:27<00:00, 19589.36ex/s, loss=7] \n",
      "train loss:   1%|          | 3000/544230 [00:00<00:26, 20455.80ex/s, loss=12]"
     ]
    },
    {
     "name": "stdout",
     "output_type": "stream",
     "text": [
      "\t TRAIN:  {'MRR': 0.9929518699645996, 'hits@[1,3,10]': tensor([0.9887, 0.9968, 0.9993])}\n",
      "\t VALID :  {'MRR': 0.35327617824077606, 'hits@[1,3,10]': tensor([0.2614, 0.3877, 0.5392])}\n"
     ]
    },
    {
     "name": "stderr",
     "output_type": "stream",
     "text": [
      "train loss: 100%|██████████| 544230/544230 [00:26<00:00, 20379.29ex/s, loss=11]\n",
      "train loss: 100%|██████████| 544230/544230 [00:29<00:00, 18558.52ex/s, loss=7] \n",
      "train loss: 100%|██████████| 544230/544230 [00:30<00:00, 17881.83ex/s, loss=10]\n",
      "train loss: 100%|██████████| 544230/544230 [00:29<00:00, 18646.81ex/s, loss=6] \n",
      "train loss: 100%|██████████| 544230/544230 [00:26<00:00, 20651.94ex/s, loss=10]\n",
      "train loss:   1%|          | 3000/544230 [00:00<00:26, 20480.60ex/s, loss=8] "
     ]
    },
    {
     "name": "stdout",
     "output_type": "stream",
     "text": [
      "\t TRAIN:  {'MRR': 0.992319643497467, 'hits@[1,3,10]': tensor([0.9877, 0.9964, 0.9993])}\n",
      "\t VALID :  {'MRR': 0.3528488576412201, 'hits@[1,3,10]': tensor([0.2605, 0.3876, 0.5386])}\n"
     ]
    },
    {
     "name": "stderr",
     "output_type": "stream",
     "text": [
      "train loss: 100%|██████████| 544230/544230 [00:27<00:00, 19487.98ex/s, loss=7] \n",
      "train loss: 100%|██████████| 544230/544230 [00:29<00:00, 18685.56ex/s, loss=10]\n",
      "train loss: 100%|██████████| 544230/544230 [00:27<00:00, 19969.77ex/s, loss=7] \n",
      "train loss: 100%|██████████| 544230/544230 [00:28<00:00, 19228.11ex/s, loss=10]\n",
      "train loss: 100%|██████████| 544230/544230 [00:26<00:00, 20865.87ex/s, loss=8] \n",
      "train loss:   1%|          | 3000/544230 [00:00<00:26, 20489.54ex/s, loss=9]"
     ]
    },
    {
     "name": "stdout",
     "output_type": "stream",
     "text": [
      "\t TRAIN:  {'MRR': 0.9931322932243347, 'hits@[1,3,10]': tensor([0.9891, 0.9969, 0.9994])}\n",
      "\t VALID :  {'MRR': 0.35271045565605164, 'hits@[1,3,10]': tensor([0.2606, 0.3869, 0.5391])}\n"
     ]
    },
    {
     "name": "stderr",
     "output_type": "stream",
     "text": [
      "train loss: 100%|██████████| 544230/544230 [00:27<00:00, 19612.95ex/s, loss=9] \n",
      "train loss: 100%|██████████| 544230/544230 [00:30<00:00, 18024.00ex/s, loss=7] \n",
      "train loss: 100%|██████████| 544230/544230 [00:32<00:00, 16901.99ex/s, loss=9] \n",
      "train loss: 100%|██████████| 544230/544230 [00:24<00:00, 22138.56ex/s, loss=8] \n",
      "train loss: 100%|██████████| 544230/544230 [00:28<00:00, 19377.25ex/s, loss=9]\n",
      "train loss:   1%|          | 3000/544230 [00:00<00:26, 20633.78ex/s, loss=7]"
     ]
    },
    {
     "name": "stdout",
     "output_type": "stream",
     "text": [
      "\t TRAIN:  {'MRR': 0.9929659366607666, 'hits@[1,3,10]': tensor([0.9887, 0.9968, 0.9995])}\n",
      "\t VALID :  {'MRR': 0.35259638726711273, 'hits@[1,3,10]': tensor([0.2604, 0.3871, 0.5393])}\n"
     ]
    },
    {
     "name": "stderr",
     "output_type": "stream",
     "text": [
      "train loss: 100%|██████████| 544230/544230 [00:30<00:00, 17659.61ex/s, loss=7]\n",
      "train loss: 100%|██████████| 544230/544230 [00:23<00:00, 22889.15ex/s, loss=9]\n",
      "train loss: 100%|██████████| 544230/544230 [00:28<00:00, 19393.32ex/s, loss=7]\n",
      "train loss: 100%|██████████| 544230/544230 [00:29<00:00, 18746.36ex/s, loss=8]\n",
      "train loss: 100%|██████████| 544230/544230 [00:31<00:00, 17454.30ex/s, loss=7]\n",
      "train loss:   1%|          | 4000/544230 [00:00<00:22, 24348.92ex/s, loss=7]"
     ]
    },
    {
     "name": "stdout",
     "output_type": "stream",
     "text": [
      "\t TRAIN:  {'MRR': 0.9937754273414612, 'hits@[1,3,10]': tensor([0.9901, 0.9971, 0.9995])}\n",
      "\t VALID :  {'MRR': 0.3530895411968231, 'hits@[1,3,10]': tensor([0.2612, 0.3863, 0.5383])}\n"
     ]
    },
    {
     "name": "stderr",
     "output_type": "stream",
     "text": [
      "train loss: 100%|██████████| 544230/544230 [00:24<00:00, 21821.67ex/s, loss=8]\n",
      "train loss: 100%|██████████| 544230/544230 [00:29<00:00, 18492.61ex/s, loss=7]\n",
      "train loss: 100%|██████████| 544230/544230 [00:30<00:00, 17772.51ex/s, loss=8]\n",
      "train loss: 100%|██████████| 544230/544230 [00:27<00:00, 20025.47ex/s, loss=7]\n",
      "train loss: 100%|██████████| 544230/544230 [00:27<00:00, 20074.49ex/s, loss=8]\n",
      "train loss:   1%|          | 4000/544230 [00:00<00:21, 24834.92ex/s, loss=8]"
     ]
    },
    {
     "name": "stdout",
     "output_type": "stream",
     "text": [
      "\t TRAIN:  {'MRR': 0.992963045835495, 'hits@[1,3,10]': tensor([0.9887, 0.9969, 0.9995])}\n",
      "\t VALID :  {'MRR': 0.3530605584383011, 'hits@[1,3,10]': tensor([0.2605, 0.3872, 0.5396])}\n"
     ]
    },
    {
     "name": "stderr",
     "output_type": "stream",
     "text": [
      "train loss: 100%|██████████| 544230/544230 [00:22<00:00, 23731.97ex/s, loss=7]\n",
      "train loss: 100%|██████████| 544230/544230 [00:28<00:00, 19050.17ex/s, loss=8]\n",
      "train loss: 100%|██████████| 544230/544230 [00:28<00:00, 19402.19ex/s, loss=7]\n",
      "train loss: 100%|██████████| 544230/544230 [00:24<00:00, 22058.62ex/s, loss=8]\n",
      "train loss: 100%|██████████| 544230/544230 [00:25<00:00, 21406.94ex/s, loss=7]\n",
      "train loss:   1%|          | 3000/544230 [00:00<00:29, 18117.87ex/s, loss=7]"
     ]
    },
    {
     "name": "stdout",
     "output_type": "stream",
     "text": [
      "\t TRAIN:  {'MRR': 0.9933064579963684, 'hits@[1,3,10]': tensor([0.9892, 0.9970, 0.9996])}\n",
      "\t VALID :  {'MRR': 0.35312730073928833, 'hits@[1,3,10]': tensor([0.2610, 0.3873, 0.5390])}\n"
     ]
    },
    {
     "name": "stderr",
     "output_type": "stream",
     "text": [
      "train loss: 100%|██████████| 544230/544230 [00:28<00:00, 18783.91ex/s, loss=7]\n",
      "train loss: 100%|██████████| 544230/544230 [00:30<00:00, 18003.93ex/s, loss=7]\n",
      "train loss: 100%|██████████| 544230/544230 [00:32<00:00, 16871.45ex/s, loss=7]\n",
      "train loss: 100%|██████████| 544230/544230 [00:26<00:00, 20873.94ex/s, loss=7]\n",
      "train loss: 100%|██████████| 544230/544230 [00:23<00:00, 23624.74ex/s, loss=7]\n",
      "train loss:   1%|          | 4000/544230 [00:00<00:22, 23553.85ex/s, loss=7]"
     ]
    },
    {
     "name": "stdout",
     "output_type": "stream",
     "text": [
      "\t TRAIN:  {'MRR': 0.9930683672428131, 'hits@[1,3,10]': tensor([0.9889, 0.9967, 0.9994])}\n",
      "\t VALID :  {'MRR': 0.35367351770401, 'hits@[1,3,10]': tensor([0.2615, 0.3874, 0.5405])}\n"
     ]
    },
    {
     "name": "stderr",
     "output_type": "stream",
     "text": [
      "train loss: 100%|██████████| 544230/544230 [00:28<00:00, 18939.21ex/s, loss=7]\n",
      "train loss: 100%|██████████| 544230/544230 [00:25<00:00, 21531.75ex/s, loss=7]\n",
      "train loss: 100%|██████████| 544230/544230 [00:31<00:00, 17184.58ex/s, loss=7]\n",
      "train loss: 100%|██████████| 544230/544230 [00:31<00:00, 17387.57ex/s, loss=7]\n",
      "train loss: 100%|██████████| 544230/544230 [00:31<00:00, 17480.37ex/s, loss=7]\n",
      "train loss:   1%|          | 4000/544230 [00:00<00:23, 23458.60ex/s, loss=7]"
     ]
    },
    {
     "name": "stdout",
     "output_type": "stream",
     "text": [
      "\t TRAIN:  {'MRR': 0.9932871758937836, 'hits@[1,3,10]': tensor([0.9892, 0.9970, 0.9994])}\n",
      "\t VALID :  {'MRR': 0.35314784944057465, 'hits@[1,3,10]': tensor([0.2611, 0.3870, 0.5397])}\n"
     ]
    },
    {
     "name": "stderr",
     "output_type": "stream",
     "text": [
      "train loss: 100%|██████████| 544230/544230 [00:27<00:00, 19840.53ex/s, loss=7]\n",
      "train loss: 100%|██████████| 544230/544230 [00:28<00:00, 19239.95ex/s, loss=6]\n",
      "train loss: 100%|██████████| 544230/544230 [00:30<00:00, 17706.36ex/s, loss=7]\n",
      "train loss: 100%|██████████| 544230/544230 [00:30<00:00, 18088.82ex/s, loss=7]\n",
      "train loss: 100%|██████████| 544230/544230 [00:24<00:00, 22183.52ex/s, loss=7]\n"
     ]
    },
    {
     "name": "stdout",
     "output_type": "stream",
     "text": [
      "\t TRAIN:  {'MRR': 0.9936621189117432, 'hits@[1,3,10]': tensor([0.9899, 0.9972, 0.9995])}\n",
      "\t VALID :  {'MRR': 0.3534121513366699, 'hits@[1,3,10]': tensor([0.2611, 0.3874, 0.5403])}\n",
      "\n",
      "\n",
      "TEST :  ({'rhs': 0.4451044201850891, 'lhs': 0.24951453506946564}, {'rhs': tensor([0.3483, 0.4881, 0.6378]), 'lhs': tensor([0.1628, 0.2727, 0.4277])})\n"
     ]
    }
   ],
   "source": [
    "%run kbc/learn.py --dataset FB237 --model ComplEx_NNE --rank 500 --optimizer Adagrad --learning_rate 1e-1 --batch_size 1000 --regularizer N3 --reg 1e-2 --max_epochs 120 --valid 5\n"
   ]
  },
  {
   "cell_type": "code",
   "execution_count": null,
   "id": "abed97bd-d5e6-4a72-9367-c1dcdb01b8c7",
   "metadata": {},
   "outputs": [],
   "source": [
    "# FB237 - ComplEx\n",
    "# TEST :  ({'rhs': 0.43725693225860596, 'lhs': 0.24350158870220184}, {'rhs': tensor([0.3430, 0.4798, 0.6232]), 'lhs': tensor([0.1607, 0.2649, 0.4099])})\n",
    "#"
   ]
  },
  {
   "cell_type": "code",
   "execution_count": null,
   "id": "9fbdabce-f233-44f4-aa88-ff3c1f7f2e13",
   "metadata": {},
   "outputs": [],
   "source": []
  },
  {
   "cell_type": "code",
   "execution_count": 2,
   "id": "49ee7da9-7533-4c16-987e-4182afed8b17",
   "metadata": {},
   "outputs": [
    {
     "name": "stdout",
     "output_type": "stream",
     "text": [
      "(544300, 544300)\n"
     ]
    },
    {
     "data": {
      "text/plain": [
       "[<matplotlib.lines.Line2D at 0x7fb15f228750>]"
      ]
     },
     "execution_count": 2,
     "metadata": {},
     "output_type": "execute_result"
    },
    {
     "data": {
      "image/png": "[encoded data removed]",
      "text/plain": [
       "<Figure size 432x288 with 1 Axes>"
      ]
     },
     "metadata": {
      "needs_background": "light"
     },
     "output_type": "display_data"
    }
   ],
   "source": [
    "l_1 = []\n",
    "l_2 = []\n",
    "with open(\"loss_values_mu_100_neg_cong.txt\", \"r\") as myfile:\n",
    "    for line in myfile:\n",
    "        l_1.append(float(line.strip().split(',')[0][1:]))\n",
    "        l_2.append(float(line.strip().split(',')[1][:-1]))\n",
    "        \n",
    "        \n",
    "        \n",
    "print((len(l_1) , len(l_2)))\n",
    "\n",
    "\n",
    "import matplotlib.pyplot as plt\n",
    "import numpy as np\n",
    "\n",
    "l_1 = np.array(l_1)\n",
    "l_2 = np.array(l_2)\n",
    "\n",
    "\n",
    "plt.plot(l_1/l_2)"
   ]
  },
  {
   "cell_type": "code",
   "execution_count": 6,
   "id": "c438f59e-5227-4a46-b734-11372532d062",
   "metadata": {},
   "outputs": [
    {
     "name": "stdout",
     "output_type": "stream",
     "text": [
      "(65400, 65400)\n"
     ]
    },
    {
     "data": {
      "text/plain": [
       "[<matplotlib.lines.Line2D at 0x7fb1880e5750>]"
      ]
     },
     "execution_count": 6,
     "metadata": {},
     "output_type": "execute_result"
    },
    {
     "data": {
      "image/png": "[encoded data removed]",
      "text/plain": [
       "<Figure size 432x288 with 1 Axes>"
      ]
     },
     "metadata": {
      "needs_background": "light"
     },
     "output_type": "display_data"
    }
   ],
   "source": [
    "l_1 = []\n",
    "l_2 = []\n",
    "with open(\"Mehrdad_loss_values_mu_10_neg_cong.txt\", \"r\") as myfile:\n",
    "    for line in myfile:\n",
    "        l_1.append(float(line.strip().split(',')[0][1:]))\n",
    "        l_2.append(float(line.strip().split(',')[1][:-1]))\n",
    "        \n",
    "        \n",
    "        \n",
    "print((len(l_1) , len(l_2)))\n",
    "\n",
    "\n",
    "import matplotlib.pyplot as plt\n",
    "import numpy as np\n",
    "\n",
    "l_1 = np.array(l_1)\n",
    "l_2 = np.array(l_2)\n",
    "\n",
    "\n",
    "plt.plot(l_1/l_2)"
   ]
  },
  {
   "cell_type": "markdown",
   "id": "1123f969-74c8-4117-8d28-4b6cf29ba6b1",
   "metadata": {},
   "source": [
    "## Try ignoring the conjugate rules:"
   ]
  },
  {
   "cell_type": "code",
   "execution_count": 1,
   "id": "8d479b2c-1855-496e-b629-db7f6bb2d62e",
   "metadata": {},
   "outputs": [
    {
     "name": "stdout",
     "output_type": "stream",
     "text": [
      "\n",
      "=====> Parameter settings: Namespace(batch_size=1000, dataset='FB237', decay1=0.9, decay2=0.999, init=0.001, learning_rate=0.1, max_epochs=120, model='ComplEx_NNE', optimizer='Adagrad', rank=500, reg=0.01, regularizer='N3', valid=5.0)\n",
      "\n",
      "=====> Rule set path: /home/ComplEx-Inject/kbc/src_data/FB237/kbc_id_cons.txt\n",
      "474\n",
      "[-1, -1, -1, 1, 1, -1, -1, 1, -1, -1, -1, -1, -1, -1, 1, 1, 1, -1, -1, 1, -1, 1, -1, -1, 1, -1, -1, -1, -1, -1, -1, 1, 1, 1, 1, 1, 1, -1, -1, -1, 1, 1, -1, 1, 1, -1, -1, -1, 1, 1, 1, 1, 1, 1, 1, -1, -1, -1, 1, 1, -1, -1, -1, 1, 1, 1, 1, 1, 1, 1, 1, 1, -1, -1, 1, -1]\n",
      "(14541, 474, 14541)\n",
      "======> mu value: 100\n"
     ]
    },
    {
     "name": "stderr",
     "output_type": "stream",
     "text": [
      "train loss:   0%|          | 0/544230 [00:00<?, ?ex/s]"
     ]
    },
    {
     "name": "stdout",
     "output_type": "stream",
     "text": [
      "check model type\n"
     ]
    },
    {
     "name": "stderr",
     "output_type": "stream",
     "text": [
      "train loss: 100%|██████████| 544230/544230 [00:24<00:00, 21975.09ex/s, loss=13]\n",
      "train loss: 100%|██████████| 544230/544230 [00:23<00:00, 22934.24ex/s, loss=8] \n",
      "train loss: 100%|██████████| 544230/544230 [00:24<00:00, 22500.02ex/s, loss=9]\n",
      "train loss: 100%|██████████| 544230/544230 [00:19<00:00, 28267.82ex/s, loss=7]\n",
      "train loss: 100%|██████████| 544230/544230 [00:22<00:00, 23969.87ex/s, loss=7]\n",
      "train loss:   1%|          | 3000/544230 [00:00<00:25, 21501.86ex/s, loss=6]"
     ]
    },
    {
     "name": "stdout",
     "output_type": "stream",
     "text": [
      "\t TRAIN:  {'MRR': 0.9129205644130707, 'hits@[1,3,10]': tensor([0.8744, 0.9444, 0.9746])}\n",
      "\t VALID :  {'MRR': 0.3364519625902176, 'hits@[1,3,10]': tensor([0.2445, 0.3700, 0.5235])}\n"
     ]
    },
    {
     "name": "stderr",
     "output_type": "stream",
     "text": [
      "train loss: 100%|██████████| 544230/544230 [00:31<00:00, 17466.31ex/s, loss=6]\n",
      "train loss: 100%|██████████| 544230/544230 [00:26<00:00, 20465.72ex/s, loss=7]\n",
      "train loss: 100%|██████████| 544230/544230 [00:22<00:00, 24575.70ex/s, loss=6]\n",
      "train loss: 100%|██████████| 544230/544230 [00:27<00:00, 19872.53ex/s, loss=6]\n",
      "train loss: 100%|██████████| 544230/544230 [00:28<00:00, 19212.46ex/s, loss=6]\n",
      "train loss:   1%|          | 3000/544230 [00:00<00:24, 21759.20ex/s, loss=6]"
     ]
    },
    {
     "name": "stdout",
     "output_type": "stream",
     "text": [
      "\t TRAIN:  {'MRR': 0.9670659303665161, 'hits@[1,3,10]': tensor([0.9503, 0.9816, 0.9917])}\n",
      "\t VALID :  {'MRR': 0.3425396904349327, 'hits@[1,3,10]': tensor([0.2507, 0.3763, 0.5294])}\n"
     ]
    },
    {
     "name": "stderr",
     "output_type": "stream",
     "text": [
      "train loss: 100%|██████████| 544230/544230 [00:26<00:00, 20417.89ex/s, loss=6]\n",
      "train loss: 100%|██████████| 544230/544230 [00:26<00:00, 20338.41ex/s, loss=5]\n",
      "train loss: 100%|██████████| 544230/544230 [00:24<00:00, 21907.23ex/s, loss=6]\n",
      "train loss: 100%|██████████| 544230/544230 [00:28<00:00, 18786.11ex/s, loss=5]\n",
      "train loss: 100%|██████████| 544230/544230 [00:24<00:00, 22243.37ex/s, loss=5]\n",
      "train loss:   1%|          | 3000/544230 [00:00<00:27, 19850.14ex/s, loss=5]"
     ]
    },
    {
     "name": "stdout",
     "output_type": "stream",
     "text": [
      "\t TRAIN:  {'MRR': 0.982257604598999, 'hits@[1,3,10]': tensor([0.9733, 0.9902, 0.9947])}\n",
      "\t VALID :  {'MRR': 0.3454718589782715, 'hits@[1,3,10]': tensor([0.2538, 0.3790, 0.5311])}\n"
     ]
    },
    {
     "name": "stderr",
     "output_type": "stream",
     "text": [
      "train loss: 100%|██████████| 544230/544230 [00:27<00:00, 20097.17ex/s, loss=5]\n",
      "train loss: 100%|██████████| 544230/544230 [00:26<00:00, 20287.11ex/s, loss=5]\n",
      "train loss: 100%|██████████| 544230/544230 [00:25<00:00, 21228.80ex/s, loss=5]\n",
      "train loss: 100%|██████████| 544230/544230 [00:25<00:00, 21718.16ex/s, loss=5]\n",
      "train loss: 100%|██████████| 544230/544230 [00:29<00:00, 18553.77ex/s, loss=5]\n",
      "train loss:   1%|          | 5000/544230 [00:00<00:20, 26548.41ex/s, loss=5]"
     ]
    },
    {
     "name": "stdout",
     "output_type": "stream",
     "text": [
      "\t TRAIN:  {'MRR': 0.9890399277210236, 'hits@[1,3,10]': tensor([0.9837, 0.9938, 0.9967])}\n",
      "\t VALID :  {'MRR': 0.3470173701643944, 'hits@[1,3,10]': tensor([0.2544, 0.3823, 0.5330])}\n"
     ]
    },
    {
     "name": "stderr",
     "output_type": "stream",
     "text": [
      "train loss: 100%|██████████| 544230/544230 [00:29<00:00, 18465.96ex/s, loss=5]\n",
      "train loss: 100%|██████████| 544230/544230 [00:23<00:00, 22694.12ex/s, loss=5]\n",
      "train loss: 100%|██████████| 544230/544230 [00:27<00:00, 20003.64ex/s, loss=5]\n",
      "train loss: 100%|██████████| 544230/544230 [00:26<00:00, 20201.63ex/s, loss=5]\n",
      "train loss: 100%|██████████| 544230/544230 [00:23<00:00, 22757.07ex/s, loss=5]\n",
      "train loss:   1%|          | 3000/544230 [00:00<00:23, 22716.20ex/s, loss=5]"
     ]
    },
    {
     "name": "stdout",
     "output_type": "stream",
     "text": [
      "\t TRAIN:  {'MRR': 0.9932662844657898, 'hits@[1,3,10]': tensor([0.9903, 0.9959, 0.9972])}\n",
      "\t VALID :  {'MRR': 0.3485999330878258, 'hits@[1,3,10]': tensor([0.2569, 0.3839, 0.5342])}\n"
     ]
    },
    {
     "name": "stderr",
     "output_type": "stream",
     "text": [
      "train loss: 100%|██████████| 544230/544230 [00:22<00:00, 24645.70ex/s, loss=5]\n",
      "train loss: 100%|██████████| 544230/544230 [00:25<00:00, 21071.52ex/s, loss=5]\n",
      "train loss: 100%|██████████| 544230/544230 [00:26<00:00, 20502.00ex/s, loss=5]\n",
      "train loss: 100%|██████████| 544230/544230 [00:21<00:00, 25040.45ex/s, loss=5]\n",
      "train loss: 100%|██████████| 544230/544230 [00:20<00:00, 26227.01ex/s, loss=5]\n",
      "train loss:   1%|          | 3000/544230 [00:00<00:28, 18867.34ex/s, loss=6] "
     ]
    },
    {
     "name": "stdout",
     "output_type": "stream",
     "text": [
      "\t TRAIN:  {'MRR': 0.994577169418335, 'hits@[1,3,10]': tensor([0.9921, 0.9970, 0.9976])}\n",
      "\t VALID :  {'MRR': 0.3498126268386841, 'hits@[1,3,10]': tensor([0.2588, 0.3827, 0.5329])}\n"
     ]
    },
    {
     "name": "stderr",
     "output_type": "stream",
     "text": [
      "train loss: 100%|██████████| 544230/544230 [00:28<00:00, 19119.00ex/s, loss=7] \n",
      "train loss: 100%|██████████| 544230/544230 [00:20<00:00, 27103.14ex/s, loss=9]\n",
      "train loss: 100%|██████████| 544230/544230 [00:27<00:00, 19566.51ex/s, loss=6]\n",
      "train loss: 100%|██████████| 544230/544230 [00:25<00:00, 21669.79ex/s, loss=8]\n",
      "train loss: 100%|██████████| 544230/544230 [00:20<00:00, 26306.12ex/s, loss=6]\n",
      "train loss:   1%|          | 5000/544230 [00:00<00:19, 28284.66ex/s, loss=8]"
     ]
    },
    {
     "name": "stdout",
     "output_type": "stream",
     "text": [
      "\t TRAIN:  {'MRR': 0.9954831302165985, 'hits@[1,3,10]': tensor([0.9939, 0.9970, 0.9975])}\n",
      "\t VALID :  {'MRR': 0.35055458545684814, 'hits@[1,3,10]': tensor([0.2600, 0.3835, 0.5359])}\n"
     ]
    },
    {
     "name": "stderr",
     "output_type": "stream",
     "text": [
      "train loss: 100%|██████████| 544230/544230 [00:22<00:00, 24125.50ex/s, loss=7]\n",
      "train loss: 100%|██████████| 544230/544230 [00:27<00:00, 19980.55ex/s, loss=6]\n",
      "train loss: 100%|██████████| 544230/544230 [00:22<00:00, 24382.32ex/s, loss=8]\n",
      "train loss: 100%|██████████| 544230/544230 [00:26<00:00, 20531.37ex/s, loss=6]\n",
      "train loss: 100%|██████████| 544230/544230 [00:24<00:00, 22123.81ex/s, loss=7]\n",
      "train loss:   1%|          | 4000/544230 [00:00<00:18, 29095.39ex/s, loss=7]"
     ]
    },
    {
     "name": "stdout",
     "output_type": "stream",
     "text": [
      "\t TRAIN:  {'MRR': 0.995417445898056, 'hits@[1,3,10]': tensor([0.9936, 0.9972, 0.9975])}\n",
      "\t VALID :  {'MRR': 0.35051092505455017, 'hits@[1,3,10]': tensor([0.2600, 0.3826, 0.5354])}\n"
     ]
    },
    {
     "name": "stderr",
     "output_type": "stream",
     "text": [
      "train loss: 100%|██████████| 544230/544230 [00:23<00:00, 23569.80ex/s, loss=6]\n",
      "train loss: 100%|██████████| 544230/544230 [00:24<00:00, 21917.92ex/s, loss=7]\n",
      "train loss: 100%|██████████| 544230/544230 [00:21<00:00, 25114.16ex/s, loss=6]\n",
      "train loss: 100%|██████████| 544230/544230 [00:20<00:00, 26673.88ex/s, loss=7]\n",
      "train loss: 100%|██████████| 544230/544230 [00:25<00:00, 21514.58ex/s, loss=6]\n",
      "train loss:   1%|          | 3000/544230 [00:00<00:28, 19164.21ex/s, loss=7]"
     ]
    },
    {
     "name": "stdout",
     "output_type": "stream",
     "text": [
      "\t TRAIN:  {'MRR': 0.9958880543708801, 'hits@[1,3,10]': tensor([0.9946, 0.9972, 0.9973])}\n",
      "\t VALID :  {'MRR': 0.35041671991348267, 'hits@[1,3,10]': tensor([0.2595, 0.3839, 0.5343])}\n"
     ]
    },
    {
     "name": "stderr",
     "output_type": "stream",
     "text": [
      "train loss: 100%|██████████| 544230/544230 [00:21<00:00, 25579.42ex/s, loss=7]\n",
      "train loss: 100%|██████████| 544230/544230 [00:25<00:00, 21151.47ex/s, loss=6]\n",
      "train loss: 100%|██████████| 544230/544230 [00:27<00:00, 19462.24ex/s, loss=7]\n",
      "train loss: 100%|██████████| 544230/544230 [00:28<00:00, 19247.09ex/s, loss=6]\n",
      "train loss: 100%|██████████| 544230/544230 [00:23<00:00, 23170.38ex/s, loss=7]\n",
      "train loss:   1%|          | 4000/544230 [00:00<00:21, 24614.89ex/s, loss=7]"
     ]
    },
    {
     "name": "stdout",
     "output_type": "stream",
     "text": [
      "\t TRAIN:  {'MRR': 0.9963432252407074, 'hits@[1,3,10]': tensor([0.9951, 0.9976, 0.9977])}\n",
      "\t VALID :  {'MRR': 0.3508633077144623, 'hits@[1,3,10]': tensor([0.2589, 0.3836, 0.5362])}\n"
     ]
    },
    {
     "name": "stderr",
     "output_type": "stream",
     "text": [
      "train loss: 100%|██████████| 544230/544230 [00:28<00:00, 19021.58ex/s, loss=5]\n",
      "train loss: 100%|██████████| 544230/544230 [00:24<00:00, 21813.08ex/s, loss=6]\n",
      "train loss: 100%|██████████| 544230/544230 [00:29<00:00, 18187.53ex/s, loss=6]\n",
      "train loss: 100%|██████████| 544230/544230 [00:27<00:00, 20154.86ex/s, loss=6]\n",
      "train loss: 100%|██████████| 544230/544230 [00:29<00:00, 18541.58ex/s, loss=5]\n",
      "train loss:   1%|          | 4000/544230 [00:00<00:21, 25397.19ex/s, loss=5]"
     ]
    },
    {
     "name": "stdout",
     "output_type": "stream",
     "text": [
      "\t TRAIN:  {'MRR': 0.9964300692081451, 'hits@[1,3,10]': tensor([0.9953, 0.9976, 0.9977])}\n",
      "\t VALID :  {'MRR': 0.3505433052778244, 'hits@[1,3,10]': tensor([0.2589, 0.3838, 0.5352])}\n"
     ]
    },
    {
     "name": "stderr",
     "output_type": "stream",
     "text": [
      "train loss: 100%|██████████| 544230/544230 [00:25<00:00, 21648.22ex/s, loss=6]\n",
      "train loss: 100%|██████████| 544230/544230 [00:24<00:00, 22250.22ex/s, loss=6]\n",
      "train loss: 100%|██████████| 544230/544230 [00:22<00:00, 24468.30ex/s, loss=6]\n",
      "train loss: 100%|██████████| 544230/544230 [00:22<00:00, 23797.02ex/s, loss=5]\n",
      "train loss: 100%|██████████| 544230/544230 [00:22<00:00, 24199.74ex/s, loss=6]\n",
      "train loss:   1%|          | 5000/544230 [00:00<00:18, 29601.14ex/s, loss=6]"
     ]
    },
    {
     "name": "stdout",
     "output_type": "stream",
     "text": [
      "\t TRAIN:  {'MRR': 0.9962246417999268, 'hits@[1,3,10]': tensor([0.9952, 0.9973, 0.9973])}\n",
      "\t VALID :  {'MRR': 0.3510235548019409, 'hits@[1,3,10]': tensor([0.2597, 0.3844, 0.5362])}\n"
     ]
    },
    {
     "name": "stderr",
     "output_type": "stream",
     "text": [
      "train loss: 100%|██████████| 544230/544230 [00:23<00:00, 22837.23ex/s, loss=6]\n",
      "train loss: 100%|██████████| 544230/544230 [00:27<00:00, 19773.08ex/s, loss=6]\n",
      "train loss: 100%|██████████| 544230/544230 [00:24<00:00, 22550.37ex/s, loss=5]\n",
      "train loss: 100%|██████████| 544230/544230 [00:30<00:00, 17830.31ex/s, loss=6]\n",
      "train loss: 100%|██████████| 544230/544230 [00:26<00:00, 20769.09ex/s, loss=5]\n",
      "train loss:   1%|          | 4000/544230 [00:00<00:19, 27460.66ex/s, loss=5]"
     ]
    },
    {
     "name": "stdout",
     "output_type": "stream",
     "text": [
      "\t TRAIN:  {'MRR': 0.9966447055339813, 'hits@[1,3,10]': tensor([0.9956, 0.9977, 0.9978])}\n",
      "\t VALID :  {'MRR': 0.3523949980735779, 'hits@[1,3,10]': tensor([0.2614, 0.3850, 0.5371])}\n"
     ]
    },
    {
     "name": "stderr",
     "output_type": "stream",
     "text": [
      "train loss: 100%|██████████| 544230/544230 [00:24<00:00, 22287.43ex/s, loss=6]\n",
      "train loss: 100%|██████████| 544230/544230 [00:23<00:00, 23397.44ex/s, loss=5]\n",
      "train loss: 100%|██████████| 544230/544230 [00:21<00:00, 25518.59ex/s, loss=5]\n",
      "train loss: 100%|██████████| 544230/544230 [00:18<00:00, 30066.50ex/s, loss=5]\n",
      "train loss: 100%|██████████| 544230/544230 [00:28<00:00, 18973.85ex/s, loss=5]\n",
      "train loss:   1%|          | 4000/544230 [00:00<00:20, 26292.13ex/s, loss=15]"
     ]
    },
    {
     "name": "stdout",
     "output_type": "stream",
     "text": [
      "\t TRAIN:  {'MRR': 0.996753066778183, 'hits@[1,3,10]': tensor([0.9958, 0.9977, 0.9978])}\n",
      "\t VALID :  {'MRR': 0.35171881318092346, 'hits@[1,3,10]': tensor([0.2605, 0.3850, 0.5365])}\n"
     ]
    },
    {
     "name": "stderr",
     "output_type": "stream",
     "text": [
      "train loss: 100%|██████████| 544230/544230 [00:25<00:00, 21086.72ex/s, loss=8] \n",
      "train loss: 100%|██████████| 544230/544230 [00:26<00:00, 20486.55ex/s, loss=12]\n",
      "train loss: 100%|██████████| 544230/544230 [00:24<00:00, 21979.95ex/s, loss=8] \n",
      "train loss: 100%|██████████| 544230/544230 [00:30<00:00, 17671.62ex/s, loss=12]\n",
      "train loss: 100%|██████████| 544230/544230 [00:26<00:00, 20700.66ex/s, loss=6] \n",
      "train loss:   1%|          | 3000/544230 [00:00<00:25, 21301.44ex/s, loss=12]"
     ]
    },
    {
     "name": "stdout",
     "output_type": "stream",
     "text": [
      "\t TRAIN:  {'MRR': 0.9964220523834229, 'hits@[1,3,10]': tensor([0.9954, 0.9974, 0.9975])}\n",
      "\t VALID :  {'MRR': 0.3519798517227173, 'hits@[1,3,10]': tensor([0.2606, 0.3843, 0.5371])}\n"
     ]
    },
    {
     "name": "stderr",
     "output_type": "stream",
     "text": [
      "train loss: 100%|██████████| 544230/544230 [00:24<00:00, 22341.75ex/s, loss=11]\n",
      "train loss: 100%|██████████| 544230/544230 [00:23<00:00, 23382.16ex/s, loss=8] \n",
      "train loss: 100%|██████████| 544230/544230 [00:26<00:00, 20403.79ex/s, loss=11]\n",
      "train loss: 100%|██████████| 544230/544230 [00:30<00:00, 17890.62ex/s, loss=6] \n",
      "train loss: 100%|██████████| 544230/544230 [00:23<00:00, 22917.60ex/s, loss=10]\n",
      "train loss:   1%|          | 4000/544230 [00:00<00:21, 25163.56ex/s, loss=10]"
     ]
    },
    {
     "name": "stdout",
     "output_type": "stream",
     "text": [
      "\t TRAIN:  {'MRR': 0.9965845346450806, 'hits@[1,3,10]': tensor([0.9957, 0.9975, 0.9975])}\n",
      "\t VALID :  {'MRR': 0.3517819792032242, 'hits@[1,3,10]': tensor([0.2608, 0.3838, 0.5374])}\n"
     ]
    },
    {
     "name": "stderr",
     "output_type": "stream",
     "text": [
      "train loss: 100%|██████████| 544230/544230 [00:26<00:00, 20158.12ex/s, loss=7] \n",
      "train loss: 100%|██████████| 544230/544230 [00:30<00:00, 18116.13ex/s, loss=10]\n",
      "train loss: 100%|██████████| 544230/544230 [00:21<00:00, 25374.08ex/s, loss=7] \n",
      "train loss: 100%|██████████| 544230/544230 [00:19<00:00, 27441.20ex/s, loss=10]\n",
      "train loss: 100%|██████████| 544230/544230 [00:21<00:00, 25535.09ex/s, loss=8] \n",
      "train loss:   1%|          | 4000/544230 [00:00<00:23, 22877.44ex/s, loss=7]"
     ]
    },
    {
     "name": "stdout",
     "output_type": "stream",
     "text": [
      "\t TRAIN:  {'MRR': 0.996517688035965, 'hits@[1,3,10]': tensor([0.9956, 0.9974, 0.9975])}\n",
      "\t VALID :  {'MRR': 0.35214680433273315, 'hits@[1,3,10]': tensor([0.2608, 0.3850, 0.5373])}\n"
     ]
    },
    {
     "name": "stderr",
     "output_type": "stream",
     "text": [
      "train loss: 100%|██████████| 544230/544230 [00:26<00:00, 20379.44ex/s, loss=9] \n",
      "train loss: 100%|██████████| 544230/544230 [00:23<00:00, 23628.33ex/s, loss=7]\n",
      "train loss: 100%|██████████| 544230/544230 [00:26<00:00, 20761.29ex/s, loss=9] \n",
      "train loss: 100%|██████████| 544230/544230 [00:27<00:00, 19814.89ex/s, loss=8]\n",
      "train loss: 100%|██████████| 544230/544230 [00:28<00:00, 19222.66ex/s, loss=8]\n",
      "train loss:   1%|          | 3000/544230 [00:00<00:25, 21266.09ex/s, loss=7]"
     ]
    },
    {
     "name": "stdout",
     "output_type": "stream",
     "text": [
      "\t TRAIN:  {'MRR': 0.9971041679382324, 'hits@[1,3,10]': tensor([0.9965, 0.9977, 0.9978])}\n",
      "\t VALID :  {'MRR': 0.35187871754169464, 'hits@[1,3,10]': tensor([0.2604, 0.3849, 0.5368])}\n"
     ]
    },
    {
     "name": "stderr",
     "output_type": "stream",
     "text": [
      "train loss: 100%|██████████| 544230/544230 [00:27<00:00, 20024.56ex/s, loss=7]\n",
      "train loss: 100%|██████████| 544230/544230 [00:27<00:00, 19694.59ex/s, loss=8]\n",
      "train loss: 100%|██████████| 544230/544230 [00:30<00:00, 17920.17ex/s, loss=8]\n",
      "train loss: 100%|██████████| 544230/544230 [00:28<00:00, 19430.64ex/s, loss=8]\n",
      "train loss: 100%|██████████| 544230/544230 [00:19<00:00, 27406.97ex/s, loss=7]\n",
      "train loss:   1%|          | 3000/544230 [00:00<00:24, 22129.48ex/s, loss=8]"
     ]
    },
    {
     "name": "stdout",
     "output_type": "stream",
     "text": [
      "\t TRAIN:  {'MRR': 0.9968701601028442, 'hits@[1,3,10]': tensor([0.9962, 0.9975, 0.9975])}\n",
      "\t VALID :  {'MRR': 0.35281266272068024, 'hits@[1,3,10]': tensor([0.2615, 0.3859, 0.5367])}\n"
     ]
    },
    {
     "name": "stderr",
     "output_type": "stream",
     "text": [
      "train loss: 100%|██████████| 544230/544230 [00:24<00:00, 22011.95ex/s, loss=8]\n",
      "train loss: 100%|██████████| 544230/544230 [00:22<00:00, 24237.33ex/s, loss=7]\n",
      "train loss: 100%|██████████| 544230/544230 [00:29<00:00, 18678.08ex/s, loss=8]\n",
      "train loss: 100%|██████████| 544230/544230 [00:24<00:00, 22465.23ex/s, loss=7]\n",
      "train loss: 100%|██████████| 544230/544230 [00:23<00:00, 23046.53ex/s, loss=8]\n",
      "train loss:   1%|          | 4000/544230 [00:00<00:24, 21841.66ex/s, loss=8]"
     ]
    },
    {
     "name": "stdout",
     "output_type": "stream",
     "text": [
      "\t TRAIN:  {'MRR': 0.9972283244132996, 'hits@[1,3,10]': tensor([0.9966, 0.9978, 0.9979])}\n",
      "\t VALID :  {'MRR': 0.35282444953918457, 'hits@[1,3,10]': tensor([0.2615, 0.3857, 0.5370])}\n"
     ]
    },
    {
     "name": "stderr",
     "output_type": "stream",
     "text": [
      "train loss: 100%|██████████| 544230/544230 [00:27<00:00, 19641.30ex/s, loss=7]\n",
      "train loss: 100%|██████████| 544230/544230 [00:25<00:00, 21521.30ex/s, loss=8]\n",
      "train loss: 100%|██████████| 544230/544230 [00:25<00:00, 21584.06ex/s, loss=7]\n",
      "train loss: 100%|██████████| 544230/544230 [00:27<00:00, 19707.94ex/s, loss=8]\n",
      "train loss: 100%|██████████| 544230/544230 [00:28<00:00, 18841.76ex/s, loss=7]\n",
      "train loss:   1%|          | 4000/544230 [00:00<00:23, 22821.09ex/s, loss=7]"
     ]
    },
    {
     "name": "stdout",
     "output_type": "stream",
     "text": [
      "\t TRAIN:  {'MRR': 0.9967546164989471, 'hits@[1,3,10]': tensor([0.9958, 0.9976, 0.9977])}\n",
      "\t VALID :  {'MRR': 0.3532731831073761, 'hits@[1,3,10]': tensor([0.2624, 0.3852, 0.5372])}\n"
     ]
    },
    {
     "name": "stderr",
     "output_type": "stream",
     "text": [
      "train loss: 100%|██████████| 544230/544230 [00:28<00:00, 19423.89ex/s, loss=7]\n",
      "train loss: 100%|██████████| 544230/544230 [00:29<00:00, 18398.92ex/s, loss=7]\n",
      "train loss: 100%|██████████| 544230/544230 [00:30<00:00, 17734.14ex/s, loss=8]\n",
      "train loss: 100%|██████████| 544230/544230 [00:23<00:00, 23416.69ex/s, loss=7]\n",
      "train loss: 100%|██████████| 544230/544230 [00:27<00:00, 19922.87ex/s, loss=7]\n",
      "train loss:   1%|          | 3000/544230 [00:00<00:29, 18473.20ex/s, loss=7]"
     ]
    },
    {
     "name": "stdout",
     "output_type": "stream",
     "text": [
      "\t TRAIN:  {'MRR': 0.9969435334205627, 'hits@[1,3,10]': tensor([0.9962, 0.9977, 0.9977])}\n",
      "\t VALID :  {'MRR': 0.35318590700626373, 'hits@[1,3,10]': tensor([0.2622, 0.3851, 0.5376])}\n"
     ]
    },
    {
     "name": "stderr",
     "output_type": "stream",
     "text": [
      "train loss: 100%|██████████| 544230/544230 [00:31<00:00, 17503.84ex/s, loss=7]\n",
      "train loss: 100%|██████████| 544230/544230 [00:28<00:00, 18832.86ex/s, loss=7]\n",
      "train loss: 100%|██████████| 544230/544230 [00:29<00:00, 18709.84ex/s, loss=7]\n",
      "train loss: 100%|██████████| 544230/544230 [00:25<00:00, 20980.46ex/s, loss=7]\n",
      "train loss: 100%|██████████| 544230/544230 [00:30<00:00, 17655.12ex/s, loss=7]\n",
      "train loss:   1%|          | 3000/544230 [00:00<00:24, 22341.74ex/s, loss=7]"
     ]
    },
    {
     "name": "stdout",
     "output_type": "stream",
     "text": [
      "\t TRAIN:  {'MRR': 0.9967684745788574, 'hits@[1,3,10]': tensor([0.9960, 0.9975, 0.9975])}\n",
      "\t VALID :  {'MRR': 0.3531293720006943, 'hits@[1,3,10]': tensor([0.2622, 0.3854, 0.5374])}\n"
     ]
    },
    {
     "name": "stderr",
     "output_type": "stream",
     "text": [
      "train loss: 100%|██████████| 544230/544230 [00:26<00:00, 20920.36ex/s, loss=7]\n",
      "train loss: 100%|██████████| 544230/544230 [00:25<00:00, 21050.78ex/s, loss=7]\n",
      "train loss: 100%|██████████| 544230/544230 [00:29<00:00, 18147.34ex/s, loss=6]\n",
      "train loss: 100%|██████████| 544230/544230 [00:29<00:00, 18689.36ex/s, loss=7]\n",
      "train loss: 100%|██████████| 544230/544230 [00:28<00:00, 19120.13ex/s, loss=7]\n"
     ]
    },
    {
     "name": "stdout",
     "output_type": "stream",
     "text": [
      "\t TRAIN:  {'MRR': 0.9967761635780334, 'hits@[1,3,10]': tensor([0.9961, 0.9974, 0.9975])}\n",
      "\t VALID :  {'MRR': 0.35340043902397156, 'hits@[1,3,10]': tensor([0.2622, 0.3849, 0.5378])}\n",
      "\n",
      "\n",
      "TEST :  ({'rhs': 0.44387710094451904, 'lhs': 0.24980111420154572}, {'rhs': tensor([0.3465, 0.4904, 0.6368]), 'lhs': tensor([0.1631, 0.2733, 0.4278])})\n"
     ]
    }
   ],
   "source": [
    "%run kbc/learn.py --dataset FB237 --model ComplEx_NNE --rank 500 --optimizer Adagrad --learning_rate 1e-1 --batch_size 1000 --regularizer N3 --reg 1e-2 --max_epochs 120 --valid 5\n"
   ]
  },
  {
   "cell_type": "code",
   "execution_count": 71,
   "id": "8d53a52c-ff71-4eb8-8b59-3d31511da845",
   "metadata": {},
   "outputs": [],
   "source": [
    "# TEST :  ({'rhs': 0.4451044201850891, 'lhs': 0.24951453506946564}, {'rhs': tensor([0.3483, 0.4881, 0.6378]), 'lhs': tensor([0.1628, 0.2727, 0.4277])})"
   ]
  },
  {
   "cell_type": "markdown",
   "id": "53d953c2",
   "metadata": {},
   "source": [
    "## Checking rules\n"
   ]
  },
  {
   "cell_type": "code",
   "execution_count": 95,
   "id": "4a421a03-a970-4e79-9220-1d2a2f98ff37",
   "metadata": {},
   "outputs": [],
   "source": [
    "#\n",
    "#\n",
    "# for loop over the rules set/ relations in the rule set\n",
    "#"
   ]
  },
  {
   "cell_type": "code",
   "execution_count": 96,
   "id": "4e876380-b594-46ac-83ff-ee27cbad76c5",
   "metadata": {},
   "outputs": [
    {
     "name": "stdout",
     "output_type": "stream",
     "text": [
      "2021-05-19_10-23-09_FB237_img_compare_ComplEx_NNE_mu_10.txt\n",
      "2021-05-19_10-23-09_FB237_real_compare_ComplEx_NNE_mu_10.txt\n",
      "2021-05-19_15-20-11_FB237_ComplEx_img_compare.txt\n",
      "2021-05-19_15-20-11_FB237_ComplEx_real_compare.txt\n",
      "2021-05-19_20-15-33_FB237_ComplEx_img_compare.txt\n",
      "2021-05-19_20-15-33_FB237_ComplEx_real_compare.txt\n",
      "2021-05-26_10-28-42_FB237_ComplEx_NNE_mu_10_img_compare.txt\n",
      "2021-05-26_10-28-42_FB237_ComplEx_NNE_mu_10_real_compare.txt\n",
      "237_conjugate_loss_values_mu_10.txt\n",
      "237_ignore_loss_values_mu_100.txt\n",
      "CODE_OF_CONDUCT.md\n",
      "CONTRIBUTING.md\n",
      "ComplEx_NNE_FB237_baseline_mu_0.01.txt\n",
      "FB237img_compare_2021-05-17_20-48-10.txt\n",
      "FB237real_compare_2021-05-17_20-48-10.txt\n",
      "LICENSE\n",
      "Mehrdad_loss_values_mu_10_neg_cong.txt\n",
      "README.md\n",
      "Untitled.ipynb\n",
      "\u001b[0m\u001b[01;34mbuild\u001b[0m/\n",
      "\u001b[01;34mdist\u001b[0m/\n",
      "\u001b[01;34mkbc\u001b[0m/\n",
      "\u001b[01;34mkbc.egg-info\u001b[0m/\n",
      "loss_values_mu_100_neg_cong.txt\n",
      "loss_values_mu_10_neg_cong.txt\n",
      "loss_values_mu_1e-1.txt\n",
      "model_data.pkl\n",
      "negative_rule_ebd_fb237_mu_10.txt\n",
      "requirements.txt\n",
      "\u001b[01;34mresult\u001b[0m/\n",
      "\u001b[01;34msaved_models\u001b[0m/\n",
      "setup.py\n"
     ]
    }
   ],
   "source": [
    "ls ./"
   ]
  },
  {
   "cell_type": "code",
   "execution_count": 176,
   "id": "c23d794e-6531-4c30-8a16-89e0f5ec3901",
   "metadata": {},
   "outputs": [],
   "source": [
    "# import torch\n",
    "#from models import CP, ComplEx, ComplEx_NNE\n",
    "(m,d) = torch.load('saved_models/ComplEx_NNE_FB237_2021-05-17_20-48-10.pkl')\n",
    "# (m,d) = torch.load('saved_models/2021-05-19_15-20-11_FB237_ComplEx.pkl')"
   ]
  },
  {
   "cell_type": "code",
   "execution_count": 177,
   "id": "befefe93-9143-4472-b543-089793e58010",
   "metadata": {},
   "outputs": [
    {
     "data": {
      "text/plain": [
       "ComplEx_NNE(\n",
       "  (embeddings): ModuleList(\n",
       "    (0): Embedding(14541, 1000, sparse=True)\n",
       "    (1): Embedding(474, 1000, sparse=True)\n",
       "  )\n",
       ")"
      ]
     },
     "execution_count": 177,
     "metadata": {},
     "output_type": "execute_result"
    }
   ],
   "source": [
    "m"
   ]
  },
  {
   "cell_type": "code",
   "execution_count": 178,
   "id": "71a0cd09-7606-422e-8850-f1d63fbfea15",
   "metadata": {},
   "outputs": [
    {
     "name": "stdout",
     "output_type": "stream",
     "text": [
      "\n",
      "=====> Rule set path: kbc/src_data/FB237/kbc_id_cons_all.txt\n",
      "[[123, 57, 65, 200, 77, 20, 123, 114, 107, 114, 111, 24, 105, 33, 178, 177, 151, 166, 123, 111, 51, 110, 188, 194, 194, 25, 156, 12, 215, 122, 121, 121, 101, 22, 40, 41, 38, 163, 162, 181, 178, 175, 63, 197, 77, 2, 161, 31, 40, 39, 38, 115, 0, 175, 177, 195, 66, 180, 197, 200, 164, 123, 122, 122, 40, 41, 39, 197, 77, 39, 38, 41, 194, 188, 188, 25], [129, 57, 65, 197, 197, 20, 111, 111, 107, 123, 123, 24, 105, 33, 175, 175, 71, 166, 114, 114, 51, 115, 188, 188, 188, 45, 156, 12, 215, 122, 122, 122, 23, 23, 39, 39, 39, 163, 162, 181, 177, 177, 63, 199, 199, 2, 161, 31, 41, 41, 41, 110, 127, 178, 178, 195, 66, 180, 77, 77, 164, 128, 121, 121, 38, 38, 38, 200, 200, 40, 40, 40, 194, 194, 194, 113], [0.828571429, 0.855895197, 0.8173258, 1.0, 0.991017964, 0.860927152, 0.81919147, 0.8125, 0.944751381, 0.809924679, 0.816290394, 0.820800956, 0.939130435, 0.824987605, 1.0, 1.0, 0.834196891, 0.88, 0.812444444, 0.810703229, 0.832214765, 0.877669903, 1.0, 1.0, 1.0, 1.0, 0.833333333, 0.820638821, 0.850574713, 0.850393701, 0.843137255, 0.833333333, 1.0, 0.901960784, 1.0, 1.0, 0.992647059, 0.843122677, 0.891041162, 0.909090909, 1.0, 1.0, 0.810483871, 1.0, 0.96969697, 0.814149284, 0.893939394, 1.0, 1.0, 1.0, 1.0, 0.843283582, 0.820244328, 1.0, 1.0, 0.826979472, 0.808432148, 0.879310345, 0.991017964, 0.996441281, 0.830601093, 0.825842697, 0.811320755, 0.801886792, 1.0, 1.0, 0.992647059, 1.0, 0.996441281, 1.0, 1.0, 1.0, 1.0, 1.0, 1.0, 1.0], [-1, -1, -1, 1, 1, -1, -1, 1, -1, -1, -1, -1, -1, -1, 1, 1, 1, -1, -1, 1, -1, 1, -1, -1, 1, -1, -1, -1, -1, -1, -1, 1, 1, 1, 1, 1, 1, -1, -1, -1, 1, 1, -1, 1, 1, -1, -1, -1, 1, 1, 1, 1, 1, 1, 1, -1, -1, -1, 1, 1, -1, -1, -1, 1, 1, 1, 1, 1, 1, 1, 1, 1, -1, -1, 1, -1]]\n"
     ]
    }
   ],
   "source": [
    "rule_path = 'kbc/src_data/FB237/kbc_id_cons_all.txt'\n",
    "print(\"\\n=====> Rule set path: \" + str(rule_path))\n",
    "#### read in & convert rule ids and confidence\n",
    "# get number of predicates\n",
    "#r_num = dataset.get_shape()[1] // 2\n",
    "#print (r_num)\n",
    "# if args.model == 'ComplEx_NNE':\n",
    "kbc_id_conf_f = rule_path\n",
    "r_p_list = []\n",
    "r_q_list = []\n",
    "conf_list = []\n",
    "neg_list = []\n",
    "with open(kbc_id_conf_f, 'r') as f:\n",
    "    while True:\n",
    "        line = f.readline()\n",
    "        if line:\n",
    "            # two relations split by ',', confidence split by tab\n",
    "            line.replace('\\n', '')\n",
    "            r_p = int(line.split(',')[0])\n",
    "            if r_p < 0:\n",
    "                # print(\"ignore negative rules\")\n",
    "                neg_list.append(-1)\n",
    "                r_p = -r_p\n",
    "#                 if r_p >= r_num:\n",
    "#                     print(\"suspicious relation id: \" + str(r_p))\n",
    "            else:\n",
    "                neg_list.append(1)\n",
    "            r_q = int(line.split(',')[1].split('\\t')[0])\n",
    "            conf = float(line.split('\\t')[1])\n",
    "            # print(rel0, rel1, conf)\n",
    "            r_p_list.append(r_p)\n",
    "            r_q_list.append(r_q)\n",
    "            conf_list.append(conf)\n",
    "            # print(r_p, r_q, conf)\n",
    "        else:\n",
    "            break\n",
    "rule_list = [r_p_list, r_q_list, conf_list, neg_list]\n",
    "print(rule_list)"
   ]
  },
  {
   "cell_type": "code",
   "execution_count": 216,
   "id": "97d96182-adef-49bd-a3ee-42b2321f5106",
   "metadata": {},
   "outputs": [],
   "source": [
    "import numpy as np\n",
    "rel = m.embeddings[1]\n",
    "idx_p = torch.LongTensor(rule_list[0]).cuda()\n",
    "idx_q = torch.LongTensor(rule_list[1]).cuda()\n",
    "#print(torch.max(idx_p))\n",
    "\n",
    "r_p_ebds = rel(idx_p)\n",
    "r_p_ebds = r_p_ebds[:, :m.rank], r_p_ebds[:, m.rank:]\n",
    "r_q_ebds = rel(idx_q)\n",
    "r_q_ebds = r_q_ebds[:, :m.rank], r_q_ebds[:, m.rank:]\n",
    "img_difference = []\n",
    "rel_difference = []\n",
    "\n",
    "p_lt_q_mat = np.zeros((76,500),dtype=np.float64)\n",
    "for i in range(len(rule_list[0])):\n",
    "    # for all rules, real(r_p) < real(r_q)\n",
    "    # ignore those that r_p == r_q\n",
    "    if rule_list[0][i] == rule_list[1][i]:\n",
    "        p_lt_q_mat[i,:] = np.ones(500)\n",
    "    else:\n",
    "        p_lt_q = torch.lt(r_p_ebds[0][i], r_q_ebds[0][i]).cpu().detach().numpy()\n",
    "        p_lt_q_mat[i,:]  = p_lt_q #= np.vstack((p_lt_q,p_lt_q))\n",
    "    \n",
    "    #real_file.write(', '.join(map(str, p_lt_q)) + '\\n')\n",
    "    #rel_difference.append(torch.sum(torch.abs(r_p_ebds[0][i] - r_p_ebds[0][i])).item())\n",
    "    # for negative entailment rules, img(r_p) == -img(r_q), calculate the difference\n",
    "#     if rule_list[3][i] < 0:\n",
    "#         img_tensor = torch.square(r_p_ebds[1][i] + r_q_ebds[1][i])\n",
    "#         img_file.write(', '.join(map(str, img_tensor.tolist())) + '\\n')\n",
    "#         img_difference.append(torch.sum(img_tensor).item())\n",
    "#     # for entailment rules, img(r_p) == img(r_q), calculate the difference\n",
    "#     else:\n",
    "#         img_tensor = torch.square(r_p_ebds[1][i] - r_q_ebds[1][i])\n",
    "#         img_file.write(','.join(map(str, img_tensor.tolist())) + '\\n')\n",
    "#         img_difference.append(torch.sum(img_tensor).item())"
   ]
  },
  {
   "cell_type": "code",
   "execution_count": 217,
   "id": "2ecb63a1-1220-4bfc-be8a-6882168e38c6",
   "metadata": {},
   "outputs": [
    {
     "data": {
      "text/plain": [
       "array([[1., 1., 1., ..., 0., 1., 0.],\n",
       "       [0., 0., 0., ..., 1., 0., 1.],\n",
       "       [0., 0., 1., ..., 0., 1., 0.],\n",
       "       ...,\n",
       "       [0., 0., 0., ..., 0., 0., 0.],\n",
       "       [0., 0., 0., ..., 0., 0., 0.],\n",
       "       [0., 0., 0., ..., 0., 0., 0.]])"
      ]
     },
     "execution_count": 217,
     "metadata": {},
     "output_type": "execute_result"
    }
   ],
   "source": [
    "p_lt_q_mat.shape\n",
    "p_lt_q_mat\n",
    "#np.cumsum(p_lt_q_mat,axis=1)"
   ]
  },
  {
   "cell_type": "code",
   "execution_count": 182,
   "id": "a3b4c909-a5a9-40f8-87a2-1c47fe081158",
   "metadata": {},
   "outputs": [
    {
     "data": {
      "text/plain": [
       "2"
      ]
     },
     "execution_count": 182,
     "metadata": {},
     "output_type": "execute_result"
    }
   ],
   "source": [
    "s = np.sum(p_lt_q_mat,axis=1)\n",
    "\n",
    "sum(s < 200)"
   ]
  },
  {
   "cell_type": "code",
   "execution_count": 183,
   "id": "e6e3bd14-9c79-49a6-8a1d-90cd0e45994c",
   "metadata": {},
   "outputs": [
    {
     "data": {
      "text/plain": [
       "76"
      ]
     },
     "execution_count": 183,
     "metadata": {},
     "output_type": "execute_result"
    }
   ],
   "source": [
    "len(s)"
   ]
  },
  {
   "cell_type": "code",
   "execution_count": 186,
   "id": "fd9aafb5-8ac5-447a-a1a7-3b7813af884b",
   "metadata": {},
   "outputs": [],
   "source": [
    "ids = [(i,v) for (i,v) in enumerate(s) if (v < 200)]"
   ]
  },
  {
   "cell_type": "code",
   "execution_count": 187,
   "id": "3a447018-b53a-45f6-9010-88c3fd28d7ea",
   "metadata": {},
   "outputs": [
    {
     "name": "stdout",
     "output_type": "stream",
     "text": [
      "122 121 -1\n",
      "122 121 1\n"
     ]
    }
   ],
   "source": [
    "for x in ids:\n",
    "    print(rule_list[0][x[0]] , rule_list[1][x[0]], rule_list[3][x[0]])"
   ]
  },
  {
   "cell_type": "code",
   "execution_count": 130,
   "id": "4a47b53d-d81f-40b3-97dc-7fa5930c3397",
   "metadata": {},
   "outputs": [
    {
     "name": "stdout",
     "output_type": "stream",
     "text": [
      "122 121\n"
     ]
    }
   ],
   "source": [
    "print(rule_list[0][63] , rule_list[1][63])"
   ]
  },
  {
   "cell_type": "code",
   "execution_count": 127,
   "id": "d10f30b0-a49c-49a4-a710-e6ca7a6a1780",
   "metadata": {},
   "outputs": [
    {
     "name": "stdout",
     "output_type": "stream",
     "text": [
      "123 129\n",
      "57 57\n",
      "65 65\n",
      "200 197\n",
      "77 197\n",
      "20 20\n",
      "123 111\n",
      "114 111\n",
      "107 107\n",
      "114 123\n",
      "111 123\n",
      "24 24\n",
      "105 105\n",
      "33 33\n",
      "178 175\n",
      "177 175\n",
      "151 71\n",
      "166 166\n",
      "123 114\n",
      "111 114\n",
      "51 51\n",
      "110 115\n",
      "188 188\n",
      "194 188\n",
      "194 188\n",
      "25 45\n",
      "156 156\n",
      "12 12\n",
      "215 215\n",
      "122 122\n",
      "121 122\n",
      "121 122\n",
      "101 23\n",
      "22 23\n",
      "40 39\n",
      "41 39\n",
      "38 39\n",
      "163 163\n",
      "162 162\n",
      "181 181\n",
      "178 177\n",
      "175 177\n",
      "63 63\n",
      "197 199\n",
      "77 199\n",
      "2 2\n",
      "161 161\n",
      "31 31\n",
      "40 41\n",
      "39 41\n",
      "38 41\n",
      "115 110\n",
      "0 127\n",
      "175 178\n",
      "177 178\n",
      "195 195\n",
      "66 66\n",
      "180 180\n",
      "197 77\n",
      "200 77\n",
      "164 164\n",
      "123 128\n",
      "122 121\n",
      "122 121\n",
      "40 38\n",
      "41 38\n",
      "39 38\n",
      "197 200\n",
      "77 200\n",
      "39 40\n",
      "38 40\n",
      "41 40\n",
      "194 194\n",
      "188 194\n",
      "188 194\n",
      "25 113\n"
     ]
    }
   ],
   "source": [
    "for i in range(len(rule_list[0])):\n",
    "    print(rule_list[0][i] , rule_list[1][i])\n",
    "\n"
   ]
  },
  {
   "cell_type": "code",
   "execution_count": 66,
   "id": "d1febf5d-66b1-4935-8450-ba7adc617f6d",
   "metadata": {},
   "outputs": [
    {
     "data": {
      "text/plain": [
       "<matplotlib.image.AxesImage at 0x7f71f80bc710>"
      ]
     },
     "execution_count": 66,
     "metadata": {},
     "output_type": "execute_result"
    },
    {
     "data": {
      "image/png": "[encoded data removed]",
      "text/plain": [
       "<Figure size 432x288 with 1 Axes>"
      ]
     },
     "metadata": {
      "needs_background": "light"
     },
     "output_type": "display_data"
    }
   ],
   "source": [
    "import matplotlib.pyplot as plt\n",
    "\n",
    "plt.imshow(p_lt_q_mat)"
   ]
  },
  {
   "cell_type": "code",
   "execution_count": null,
   "id": "35cb1f2c-79da-458b-873b-6dbae27f1e15",
   "metadata": {},
   "outputs": [],
   "source": [
    "# look at the failed relations\n",
    "# look at their triplet in the train and test set\n",
    "\n",
    "# 5 of these difficult rules and try to inject them until the inequality is satidfied "
   ]
  },
  {
   "cell_type": "markdown",
   "id": "f591149a-1f72-41c0-9a0b-20962aa9c3b1",
   "metadata": {},
   "source": [
    "## Checking Entity Embedding and triple scores"
   ]
  },
  {
   "cell_type": "code",
   "execution_count": 77,
   "id": "cd3fb79b-4b1e-4d42-a569-1aff816464c4",
   "metadata": {},
   "outputs": [
    {
     "name": "stdout",
     "output_type": "stream",
     "text": [
      "\n",
      "======> Parameter settings: Namespace(batch_size=1000, dataset='FB237', decay1=0.9, decay2=0.999, init=0.001, learning_rate=0.1, max_epochs=1, model='ComplEx', optimizer='Adagrad', rank=500, reg=0.01, regularizer='N3', valid=5.0)\n",
      "original training number: 272115\n",
      "sample training number: 272115\n"
     ]
    },
    {
     "name": "stderr",
     "output_type": "stream",
     "text": [
      "train loss:   0%|          | 2000/544230 [00:00<00:09, 59632.82ex/s, loss=10]"
     ]
    },
    {
     "name": "stdout",
     "output_type": "stream",
     "text": [
      "\n",
      "======> Number of relations: 237\n",
      "(14541, 474, 14541)\n",
      "======> Checking model type\n"
     ]
    },
    {
     "name": "stderr",
     "output_type": "stream",
     "text": [
      "train loss: 100%|██████████| 544230/544230 [00:08<00:00, 65429.26ex/s, loss=5]\n"
     ]
    },
    {
     "name": "stdout",
     "output_type": "stream",
     "text": [
      "# of triples in ranking: 20466\n",
      "\n",
      "\n",
      "TEST :  ({'rhs': 0.40205106139183044, 'lhs': 0.20177946984767914}, {'rhs': tensor([0.3063, 0.4434, 0.5942]), 'lhs': tensor([0.1213, 0.2212, 0.3646])})\n"
     ]
    }
   ],
   "source": [
    "%run kbc/learn.py --dataset FB237 --model ComplEx --rank 500 --optimizer Adagrad --learning_rate 1e-1 --batch_size 1000 --regularizer N3 --reg 1e-2 --max_epochs 1 --valid 5"
   ]
  },
  {
   "cell_type": "code",
   "execution_count": 54,
   "id": "02fa22cd-dd36-47ce-a8e2-9e429f741fbf",
   "metadata": {},
   "outputs": [],
   "source": [
    "#### original training and test\n",
    "# (m_1,d_1) = torch.load('saved_models/2021-05-26_16-30-31_FB237_ComplEx_NNE_mu_10.pkl')\n",
    "# (m_2,d_2) = torch.load('saved_models/2021-05-19_15-20-11_FB237_ComplEx.pkl')\n",
    "#### original training, 1089 related test\n",
    "(m_1,d_1) = torch.load('saved_models/2021-06-23_00-56-59_FB237_ComplEx_NNE_mu_10.pkl')\n",
    "(m_2,d_2) = torch.load('saved_models/2021-06-22_15-49-33_FB237_ComplEx.pkl')\n",
    "#### original training, extracted enatilment test\n",
    "#### ComplEx_NNE vs ComplEx vs ComplEx_NNE_original\n",
    "# (m_1,d_1) = torch.load('saved_models/2021-06-29_18-54-09_FB237_ComplEx_NNE_mu_10.pkl')\n",
    "# (m_2,d_2) = torch.load('saved_models/2021-06-25_20-48-05_FB237_ComplEx.pkl')\n",
    "# (m_2,d_2) = torch.load('saved_models/2021-05-26_16-30-31_FB237_ComplEx_NNE_mu_10.pkl')\n",
    "#### ComplEx_NNE vs ComplEx, no inverse training\n",
    "# (m_1,d_1) = torch.load('saved_models/2021-06-29_23-07-54_FB237_ComplEx_NNE_mu_10.pkl')\n",
    "# (m_2,d_2) = torch.load('saved_models/2021-06-30_03-52-29_FB237_ComplEx.pkl')"
   ]
  },
  {
   "cell_type": "code",
   "execution_count": 55,
   "id": "53ac47ba-9868-4150-b780-c6b06a27ed33",
   "metadata": {},
   "outputs": [
    {
     "name": "stdout",
     "output_type": "stream",
     "text": [
      "{129: [123], 197: [200, 77], 111: [123], 175: [178, 177], 71: [151], 114: [123, 111], 115: [110], 45: [25], 122: [121], 23: [101, 22], 199: [197, 77], 41: [40, 39, 38], 127: [0], 178: [177], 77: [200], 128: [123], 38: [40], 40: [39], 194: [188], 113: [25]}\n"
     ]
    }
   ],
   "source": [
    "# rule_path = 'kbc/src_data/FB237/kbc_id_cons_all.txt'\n",
    "rule_path = 'kbc/src_data/FB237/kbc_id_cons.txt'\n",
    "#### read in & convert rule ids and confidence\n",
    "# get number of predicates\n",
    "#r_num = dataset.get_shape()[1] // 2\n",
    "#print (r_num)\n",
    "# if args.model == 'ComplEx_NNE':\n",
    "kbc_id_conf_f = rule_path\n",
    "r_p_list = []\n",
    "r_q_list = []\n",
    "conf_list = []\n",
    "neg_list = []\n",
    "rule_dict = dict()\n",
    "with open(kbc_id_conf_f, 'r') as f:\n",
    "    while True:\n",
    "        line = f.readline()\n",
    "        if line:\n",
    "            # two relations split by ',', confidence split by tab\n",
    "            line.replace('\\n', '')\n",
    "            r_p = int(line.split(',')[0])\n",
    "            if r_p < 0:\n",
    "                # print(\"ignore negative rules\")\n",
    "                neg_list.append(-1)\n",
    "                r_p = -r_p\n",
    "#                 if r_p >= r_num:\n",
    "#                     print(\"suspicious relation id: \" + str(r_p))\n",
    "            else:\n",
    "                neg_list.append(1)\n",
    "            r_q = int(line.split(',')[1].split('\\t')[0])\n",
    "            conf = float(line.split('\\t')[1])\n",
    "            # print(rel0, rel1, conf)\n",
    "            r_p_list.append(r_p)\n",
    "            r_q_list.append(r_q)\n",
    "            conf_list.append(conf)\n",
    "            if r_q not in rule_dict:\n",
    "                rule_dict[r_q] = [r_p]\n",
    "            else:\n",
    "                rule_dict[r_q].append(r_p)\n",
    "            # print(r_p, r_q, conf)\n",
    "        else:\n",
    "            break\n",
    "rule_list = [r_p_list, r_q_list, conf_list, neg_list]\n",
    "print(rule_dict)"
   ]
  },
  {
   "cell_type": "code",
   "execution_count": 46,
   "id": "38b84d9f-0805-435c-af82-5422c3854a12",
   "metadata": {},
   "outputs": [],
   "source": [
    "# rel_idx = set(rule_list[0]).union(set(rule_list[1]))\n",
    "rel_head_idx = set(rule_list[0])\n",
    "rel_tail_idx = set(rule_list[1])\n",
    "# len(rel_idx), len(set(rule_list[0])), len(set(rule_list[1]))\n",
    "# rel_head_idx, rel_tail_idx"
   ]
  },
  {
   "cell_type": "code",
   "execution_count": 56,
   "id": "50875139-0ebc-4775-ad91-19d7db754c23",
   "metadata": {},
   "outputs": [
    {
     "name": "stdout",
     "output_type": "stream",
     "text": [
      "1089\n"
     ]
    }
   ],
   "source": [
    "# read entity triple id from test set\n",
    "related_triples = []\n",
    "# test_f = 'kbc/src_data/FB237/test'\n",
    "# test_f = 'kbc/src_data/FB237/entailment_test2'\n",
    "test_f = 'kbc/src_data/FB237/related_test'\n",
    "# new_test_file = open('kbc/src_data/FB237/new_test', \"a\")\n",
    "\n",
    "with open(test_f, 'r') as f:\n",
    "    while True:\n",
    "        line = f.readline()\n",
    "        if line:\n",
    "            # two relations split by ',', confidence split by tab\n",
    "            line.replace('\\n', '')\n",
    "            lhs = int(line.split('\\t')[0])\n",
    "            rel = int(line.split('\\t')[1])\n",
    "            rhs = int(line.split('\\t')[2])\n",
    "#             if rel in rel_tail_idx:\n",
    "#                 print((lhs, rel, rhs))\n",
    "            related_triples.append((lhs, rel, rhs))\n",
    "#                 new_test_file.write(str(lhs) + '\\t' + str(rel) + '\\t' + str(rhs) + '\\n')\n",
    "        else:\n",
    "            break\n",
    "            \n",
    "# new_test_file.close()\n",
    "print(len(related_triples))"
   ]
  },
  {
   "cell_type": "code",
   "execution_count": 43,
   "id": "d1387058-ddbe-4434-aa67-e86b1efe0cbf",
   "metadata": {},
   "outputs": [
    {
     "name": "stdout",
     "output_type": "stream",
     "text": [
      "272115\n"
     ]
    }
   ],
   "source": [
    "#read triples from training set\n",
    "training_f = 'kbc/src_data/FB237/train'\n",
    "train_triples = []\n",
    "with open(training_f, 'r') as f:\n",
    "    while True:\n",
    "        line = f.readline()\n",
    "        if line:\n",
    "            # two relations split by ',', confidence split by tab\n",
    "            line.replace('\\n', '')\n",
    "            lhs = int(line.split('\\t')[0])\n",
    "            rel = int(line.split('\\t')[1])\n",
    "            rhs = int(line.split('\\t')[2])\n",
    "            \n",
    "#             if rel in rel_head_idx:\n",
    "            train_triples.append((lhs, rel, rhs))\n",
    "        else:\n",
    "            break\n",
    "\n",
    "print(len(train_triples))"
   ]
  },
  {
   "cell_type": "code",
   "execution_count": 57,
   "id": "98bc0902-15f0-4dab-b26f-a367526ae2ab",
   "metadata": {},
   "outputs": [
    {
     "name": "stdout",
     "output_type": "stream",
     "text": [
      "improve triples # vs decreased triples #: 700 389\n",
      "average improve score vs average decrease score: 1.3795641660690308 1.0317379236221313\n"
     ]
    }
   ],
   "source": [
    "# read the embeddings and compute scores in both models?\n",
    "\n",
    "import numpy as np\n",
    "\n",
    "# read in embeddings from ComplEx_NNE\n",
    "rel_1 = m_1.embeddings[1]\n",
    "ent_1 = m_1.embeddings[0]\n",
    "\n",
    "# read in embeddings from ComplEx_N3\n",
    "rel_2 = m_2.embeddings[1]\n",
    "ent_2 = m_2.embeddings[0]\n",
    "\n",
    "# input = torch.LongTensor([[1]]).cuda()\n",
    "# rel_2(input)\n",
    "\n",
    "improve_cnt = 0\n",
    "decrease_cnt = 0\n",
    "improve_score_set = set()\n",
    "improve_score = 0\n",
    "decrease_score = 0\n",
    "# compute loss function score of each triple in related triples\n",
    "for i, (e1, r, e2) in enumerate(related_triples):\n",
    "#     print(type(e1))\n",
    "    e1 = torch.LongTensor([e1]).cuda()\n",
    "    r = torch.LongTensor([r]).cuda()\n",
    "    e2 = torch.LongTensor([e2]).cuda()\n",
    "    \n",
    "    lhs_1 = ent_1(e1)\n",
    "    rel_ind_1 = rel_1(r)\n",
    "    rhs_1 = ent_1(e2)\n",
    "    rel_1\n",
    "    \n",
    "    lhs_1 = lhs_1[:, :m_1.rank], lhs_1[:, m_1.rank:]\n",
    "    rel_ind_1 = rel_ind_1[:, :m_1.rank], rel_ind_1[:, m_1.rank:]\n",
    "    rhs_1 = rhs_1[:, :m_1.rank], rhs_1[:, m_1.rank:]\n",
    "#     print(lhs)\n",
    "    score_1 = torch.sum(\n",
    "            (lhs_1[0] * rel_ind_1[0] - lhs_1[1] * rel_ind_1[1]) * rhs_1[0] +\n",
    "            (lhs_1[0] * rel_ind_1[1] + lhs_1[1] * rel_ind_1[0]) * rhs_1[1],\n",
    "            1, keepdim=True\n",
    "        )\n",
    "    \n",
    "    lhs_2 = ent_2(e1)\n",
    "    rel_ind_2 = rel_2(r)\n",
    "    rhs_2 = ent_2(e2)\n",
    "    \n",
    "    lhs_2 = lhs_2[:, :m_2.rank], lhs_2[:, m_2.rank:]\n",
    "    rel_ind_2 = rel_ind_2[:, :m_2.rank], rel_ind_2[:, m_2.rank:]\n",
    "    rhs_2 = rhs_2[:, :m_2.rank], rhs_2[:, m_2.rank:]\n",
    "#     print(lhs)\n",
    "    score_2 = torch.sum(\n",
    "            (lhs_2[0] * rel_ind_2[0] - lhs_2[1] * rel_ind_2[1]) * rhs_2[0] +\n",
    "            (lhs_2[0] * rel_ind_2[1] + lhs_2[1] * rel_ind_2[0]) * rhs_2[1],\n",
    "            1, keepdim=True\n",
    "        )\n",
    "    \n",
    "#     print (score_1, score_2)\n",
    "    if score_1 > score_2:\n",
    "        improve_cnt += 1\n",
    "        improve_score_set.add(i)\n",
    "        improve_score += (score_1 - score_2)\n",
    "#     print(int(e1), int(r), int(e2), float(score_1 - score_2))\n",
    "    elif score_1 < score_2:\n",
    "        decrease_cnt += 1\n",
    "        decrease_score += (score_2 - score_1)\n",
    "\n",
    "print(\"improve triples # vs decreased triples #: \" + str(improve_cnt) + \" \" + str(decrease_cnt))\n",
    "print(\"average improve score vs average decrease score: \" + str(float(improve_score/improve_cnt)) + \" \" + str(float(decrease_score/decrease_cnt)))"
   ]
  },
  {
   "cell_type": "code",
   "execution_count": 58,
   "id": "2226cebb-9f5b-4a8e-996c-745c6631ab16",
   "metadata": {},
   "outputs": [
    {
     "data": {
      "text/plain": [
       "1089"
      ]
     },
     "execution_count": 58,
     "metadata": {},
     "output_type": "execute_result"
    }
   ],
   "source": [
    "dataset = d_1\n",
    "len(dataset.get_examples('test'))"
   ]
  },
  {
   "cell_type": "code",
   "execution_count": 59,
   "id": "70443065-4ec0-4f7d-852c-52c8dedb3abe",
   "metadata": {},
   "outputs": [
    {
     "name": "stdout",
     "output_type": "stream",
     "text": [
      "1089 2\n",
      "# of triples in ranking: 1089\n",
      "# of triples in ranking: 1089\n",
      "({'rhs': 0.28577810525894165, 'lhs': 0.32138389348983765}, {'rhs': tensor([0.2158, 0.3030, 0.4288]), 'lhs': tensor([0.2213, 0.3517, 0.5253])}) ({'rhs': 0.2640222907066345, 'lhs': 0.27841365337371826}, {'rhs': tensor([0.1983, 0.2782, 0.4013]), 'lhs': tensor([0.1818, 0.3122, 0.4702])})\n"
     ]
    }
   ],
   "source": [
    "results_1 = dataset.rank_result(m_1, 'test', -1)\n",
    "results_2 = dataset.rank_result(m_2, 'test', -1)\n",
    "print(len(results_1[0]), len(results_2))\n",
    "accuracy_1 = dataset.eval(m_1, 'test', -1)\n",
    "accuracy_2 = dataset.eval(m_2, 'test', -1)\n",
    "print(accuracy_1, accuracy_2)"
   ]
  },
  {
   "cell_type": "code",
   "execution_count": 60,
   "id": "9dd2fc12-be61-4433-ad9f-be5af1d33a64",
   "metadata": {},
   "outputs": [
    {
     "name": "stdout",
     "output_type": "stream",
     "text": [
      "improve triples # vs decreased triples #: 516 361\n",
      "average improve rank vs average decrease rank: 384.00970458984375 436.1468200683594\n",
      "Better score but not better rank: 360\n",
      "Better rank but not better score: 176\n"
     ]
    }
   ],
   "source": [
    "# identify which test triples was failing but now successful completed\n",
    "improve_cnt_rhs = 0\n",
    "decrease_cnt_rhs = 0\n",
    "improve_rank = 0\n",
    "decrease_rank = 0\n",
    "improve_rank_rhs_set = set()\n",
    "for i, (t1, t2) in enumerate(zip(results_1[0], results_2[0])):\n",
    "    if t1 < t2:\n",
    "        improve_cnt_rhs += 1\n",
    "        improve_rank += (t2 - t1)\n",
    "        improve_rank_rhs_set.add(i)\n",
    "#         print(int(t1), int(t2))\n",
    "    elif t1 > t2:\n",
    "        decrease_cnt_rhs += 1\n",
    "        decrease_rank += (t1 - t2)\n",
    "\n",
    "print(\"improve triples # vs decreased triples #: \" + str(improve_cnt_rhs) + \" \" + str(decrease_cnt_rhs))\n",
    "print(\"average improve rank vs average decrease rank: \" + str(float(improve_rank/improve_cnt_rhs)) + \" \" + str(float(decrease_rank/decrease_cnt_rhs)))\n",
    "\n",
    "# check those have better score but not better rank\n",
    "not_improve_set = improve_score_set - improve_rank_rhs_set\n",
    "print(\"Better score but not better rank: \" + str(len(not_improve_set)))\n",
    "print(\"Better rank but not better score: \" + str(len(improve_rank_rhs_set - improve_score_set)))\n",
    "\n",
    "# # for a -> b, (e1, b, e2)\n",
    "# # check if (e1, a, e2) is in training set\n",
    "# for i, (e1, r, e2) in enumerate(related_triples):\n",
    "#     if i in improve_rank_rhs_set:\n",
    "#         for head in rule_dict[r]:\n",
    "#             if (e1, head, e2) in train_triples:\n",
    "#                 print(\"head training tripe found\")\n",
    "# #### found no such triples among improved triples\n",
    "\n",
    "# for i, (e1, r, e2) in enumerate(related_triples):\n",
    "# #     print(e1, r, e2)\n",
    "#     for head in rule_dict[r]:\n",
    "#         if (e1, head, e2) in train_triples:\n",
    "#             print(\"head training tripe found\")\n",
    "#### found no such triples in the whole test set\n",
    "\n",
    "#### create test set? \n",
    "#### for a -> b, training data (e1, a, e2)\n",
    "#### put (e1, b, e2) is in test set"
   ]
  },
  {
   "cell_type": "markdown",
   "id": "9d70c73c-7687-4a42-967a-d86cd00c0a9b",
   "metadata": {},
   "source": [
    "## FB237: create specific entailment training & test set"
   ]
  },
  {
   "cell_type": "code",
   "execution_count": null,
   "id": "ca9b2e09-a702-490a-9651-54c5b85aee9a",
   "metadata": {},
   "outputs": [],
   "source": [
    "# read in all training triples\n",
    "training_f = 'kbc/src_data/FB237/train'\n",
    "train_triples = []\n",
    "with open(training_f, 'r') as f:\n",
    "    while True:\n",
    "        line = f.readline()\n",
    "        if line:\n",
    "            # two relations split by ',', confidence split by tab\n",
    "            line.replace('\\n', '')\n",
    "            lhs = int(line.split('\\t')[0])\n",
    "            rel = int(line.split('\\t')[1])\n",
    "            rhs = int(line.split('\\t')[2])\n",
    "            \n",
    "#             if rel in rel_head_idx:\n",
    "            train_triples.append((lhs, rel, rhs))\n",
    "        else:\n",
    "            break\n",
    "\n",
    "print(len(train_triples))"
   ]
  },
  {
   "cell_type": "code",
   "execution_count": 61,
   "id": "89dc54eb-c596-4e0a-b483-48a0afa81e8d",
   "metadata": {},
   "outputs": [
    {
     "name": "stdout",
     "output_type": "stream",
     "text": [
      "{123: [129, 111, 114, 128], 200: [197, 77], 77: [197, 199], 178: [175], 177: [175, 178], 151: [71], 111: [114], 110: [115], 25: [45, 113], 121: [122], 101: [23], 22: [23], 197: [199], 40: [41, 38], 39: [41, 40], 38: [41], 0: [127], 188: [194]}\n"
     ]
    }
   ],
   "source": [
    "# read in all rules (using non-circular rules for now)\n",
    "rule_path = 'kbc/src_data/FB237/kbc_id_cons.txt'\n",
    "#### read in & convert rule ids and confidence\n",
    "kbc_id_conf_f = rule_path\n",
    "r_p_list = []\n",
    "r_q_list = []\n",
    "conf_list = []\n",
    "neg_list = []\n",
    "rule_dict = dict()\n",
    "with open(kbc_id_conf_f, 'r') as f:\n",
    "    while True:\n",
    "        line = f.readline()\n",
    "        if line:\n",
    "            # two relations split by ',', confidence split by tab\n",
    "            line.replace('\\n', '')\n",
    "            r_p = int(line.split(',')[0])\n",
    "            if r_p < 0:\n",
    "                # print(\"ignore negative rules\")\n",
    "                neg_list.append(-1)\n",
    "                r_p = -r_p\n",
    "#                 if r_p >= r_num:\n",
    "#                     print(\"suspicious relation id: \" + str(r_p))\n",
    "            else:\n",
    "                neg_list.append(1)\n",
    "            r_q = int(line.split(',')[1].split('\\t')[0])\n",
    "            conf = float(line.split('\\t')[1])\n",
    "            # print(rel0, rel1, conf)\n",
    "            r_p_list.append(r_p)\n",
    "            r_q_list.append(r_q)\n",
    "            conf_list.append(conf)\n",
    "            if r_p not in rule_dict:\n",
    "                rule_dict[r_p] = [r_q]\n",
    "            else:\n",
    "                rule_dict[r_p].append(r_q)\n",
    "            # print(r_p, r_q, conf)\n",
    "        else:\n",
    "            break\n",
    "rule_list = [r_p_list, r_q_list, conf_list, neg_list]\n",
    "print(rule_dict)"
   ]
  },
  {
   "cell_type": "code",
   "execution_count": 72,
   "id": "ce06e2c8-3337-4acf-932a-024dab5b6fd7",
   "metadata": {},
   "outputs": [
    {
     "name": "stdout",
     "output_type": "stream",
     "text": [
      "9005\n"
     ]
    }
   ],
   "source": [
    "#### create test set \n",
    "#### for a -> b, training data (e1, a, e2)\n",
    "#### put (e1, b, e2) is in test set\n",
    "#### remove duplicates like (e1, a, e2/e3/e4)\n",
    "new_test_file = open('kbc/src_data/FB237/new_test', \"a\")\n",
    "entailment_triples = dict()\n",
    "for e1, r, e2 in train_triples:\n",
    "    if r in rule_dict:\n",
    "        for tail in rule_dict[r]:\n",
    "            if (e1, tail, e2) not in train_triples:\n",
    "                if (e1, tail) not in entailment_triples:\n",
    "                    entailment_triples[(e1, tail)] = e2\n",
    "#                 new_test_file.write(str(e1) + '\\t' + str(tail) + '\\t' + str(e2) + '\\n')\n",
    "print(len(entailment_triples))\n",
    "\n",
    "for key in entailment_triples:\n",
    "    new_test_file.write(str(key[0]) + '\\t' + str(key[1]) + '\\t' + str(entailment_triples[key]) + '\\n')\n",
    "new_test_file.close()"
   ]
  },
  {
   "cell_type": "code",
   "execution_count": 70,
   "id": "4196815e-4c42-4d05-93d5-c5b486a40d61",
   "metadata": {},
   "outputs": [
    {
     "data": {
      "text/plain": [
       "[197, 199]"
      ]
     },
     "execution_count": 70,
     "metadata": {},
     "output_type": "execute_result"
    }
   ],
   "source": [
    "rule_dict[77]"
   ]
  },
  {
   "cell_type": "code",
   "execution_count": 64,
   "id": "0cf917c2-4204-453a-959e-bc44ecf6ab4a",
   "metadata": {},
   "outputs": [
    {
     "name": "stdout",
     "output_type": "stream",
     "text": [
      "272113\n"
     ]
    }
   ],
   "source": [
    "# create new training set without entailment info (only 2 triples, maybe not necessary)\n",
    "# new_train_file = open('kbc/src_data/FB237/new_train', \"a\")\n",
    "new_train_triples = train_triples.copy()\n",
    "for e1, r, e2 in train_triples:\n",
    "    if r in rule_dict:\n",
    "        for tail in rule_dict[r]:\n",
    "            if (e1, tail, e2) in train_triples:\n",
    "                new_train_triples.remove((e1, tail, e2))\n",
    "print(len(new_train_triples))"
   ]
  },
  {
   "cell_type": "markdown",
   "id": "6319c769-0e43-464c-8f7a-024bd9eb8a3b",
   "metadata": {},
   "source": [
    "## Test with Family dataset"
   ]
  },
  {
   "cell_type": "code",
   "execution_count": 5,
   "id": "9244c706-4dd7-4304-af32-b206ee7c0bbf",
   "metadata": {},
   "outputs": [
    {
     "name": "stderr",
     "output_type": "stream",
     "text": [
      "train loss:   0%|          | 0/45360 [00:00<?, ?ex/s]"
     ]
    },
    {
     "name": "stdout",
     "output_type": "stream",
     "text": [
      "\n",
      "======> Parameter settings: Namespace(batch_size=100, dataset='family', decay1=0.9, decay2=0.999, init=0.001, learning_rate=0.1, max_epochs=5, model='ComplEx', optimizer='Adagrad', rank=500, reg=0.001, regularizer='N3', valid=5.0)\n",
      "\n",
      "======> Number of training triples: torch.Size([45360, 3])\n",
      "\n",
      "======> Rule set path: /home/ComplEx-Inject/kbc/src_data/family/kbc_id_cons.txt\n",
      "\n",
      "======> Number of relations: 12\n",
      "(3007, 24, 3007)\n",
      "check model type\n"
     ]
    },
    {
     "name": "stderr",
     "output_type": "stream",
     "text": [
      "train loss: 100%|██████████| 45360/45360 [00:04<00:00, 10730.71ex/s, loss=2]\n",
      "train loss: 100%|██████████| 45360/45360 [00:04<00:00, 11336.38ex/s, loss=2]\n",
      "train loss: 100%|██████████| 45360/45360 [00:03<00:00, 11350.09ex/s, loss=2]\n",
      "train loss: 100%|██████████| 45360/45360 [00:04<00:00, 11290.60ex/s, loss=2]\n",
      "train loss: 100%|██████████| 45360/45360 [00:03<00:00, 11384.92ex/s, loss=2]\n"
     ]
    },
    {
     "name": "stdout",
     "output_type": "stream",
     "text": [
      "\t TRAIN:  {'MRR': 0.9999779462814331, 'hits@[1,3,10]': tensor([1.0000, 1.0000, 1.0000])}\n",
      "\t VALID :  {'MRR': 0.927371084690094, 'hits@[1,3,10]': tensor([0.9018, 0.9506, 0.9628])}\n",
      "\n",
      "\n",
      "TEST :  ({'rhs': 0.9471784830093384, 'lhs': 0.9470521807670593}, {'rhs': tensor([0.9243, 0.9683, 0.9761]), 'lhs': tensor([0.9250, 0.9680, 0.9761])})\n"
     ]
    }
   ],
   "source": [
    "# ComplEx\n",
    "%run kbc/learn.py --dataset family --model ComplEx --rank 500 --optimizer Adagrad --learning_rate 1e-1 --batch_size 100 --regularizer N3 --reg 1e-3 --max_epochs 5 --valid 5 "
   ]
  },
  {
   "cell_type": "code",
   "execution_count": 9,
   "id": "997497bd-e624-41bb-83aa-471ab90c6a72",
   "metadata": {},
   "outputs": [
    {
     "name": "stderr",
     "output_type": "stream",
     "text": [
      "train loss:   2%|▏         | 700/45360 [00:00<00:04, 10306.32ex/s, loss=8] "
     ]
    },
    {
     "name": "stdout",
     "output_type": "stream",
     "text": [
      "\n",
      "======> Parameter settings: Namespace(batch_size=100, dataset='family', decay1=0.9, decay2=0.999, init=0.001, learning_rate=0.1, max_epochs=5, model='ComplEx_NNE', optimizer='Adagrad', rank=500, reg=0.001, regularizer='N3', valid=5.0)\n",
      "\n",
      "======> Number of training triples: torch.Size([45360, 3])\n",
      "\n",
      "======> Rule set path: /home/ComplEx-Inject/kbc/src_data/family/kbc_id_cons.txt\n",
      "\n",
      "======> Number of relations: 12\n",
      "[[4], [11], [1.0], [-1]]\n",
      "(3007, 24, 3007)\n",
      "======> mu value: 10\n",
      "check model type\n",
      "model is complex-nne\n"
     ]
    },
    {
     "name": "stderr",
     "output_type": "stream",
     "text": [
      "train loss: 100%|██████████| 45360/45360 [00:05<00:00, 8447.05ex/s, loss=2]\n",
      "train loss: 100%|██████████| 45360/45360 [00:05<00:00, 8142.42ex/s, loss=2]\n",
      "train loss: 100%|██████████| 45360/45360 [00:05<00:00, 8405.87ex/s, loss=2]\n",
      "train loss: 100%|██████████| 45360/45360 [00:05<00:00, 8377.98ex/s, loss=2]\n",
      "train loss: 100%|██████████| 45360/45360 [00:05<00:00, 8343.68ex/s, loss=2]\n"
     ]
    },
    {
     "name": "stdout",
     "output_type": "stream",
     "text": [
      "\t TRAIN:  {'MRR': 1.0, 'hits@[1,3,10]': tensor([1., 1., 1.])}\n",
      "\t VALID :  {'MRR': 0.9206919074058533, 'hits@[1,3,10]': tensor([0.8922, 0.9444, 0.9598])}\n",
      "\n",
      "\n",
      "TEST :  ({'rhs': 0.9443932771682739, 'lhs': 0.9503147006034851}, {'rhs': tensor([0.9222, 0.9637, 0.9736]), 'lhs': tensor([0.9303, 0.9697, 0.9757])})\n"
     ]
    }
   ],
   "source": [
    "# ComplEx_NNE\n",
    "%run kbc/learn.py --dataset family --model ComplEx_NNE --rank 500 --optimizer Adagrad --learning_rate 1e-1 --batch_size 100 --regularizer N3 --reg 1e-3 --max_epochs 5 --valid 5 "
   ]
  },
  {
   "cell_type": "markdown",
   "id": "465a5b6e-458f-4d64-b73d-215f246034ed",
   "metadata": {},
   "source": [
    "## Different percentage of training data of FB237"
   ]
  },
  {
   "cell_type": "raw",
   "id": "7006e565-7164-4abb-8a45-272f05c019f2",
   "metadata": {},
   "source": [
    "ComplEx:\n",
    "    0.05: TEST :  ({'rhs': 0.057972151786088943, 'lhs': 0.03642116114497185}, {'rhs': tensor([0.0450, 0.0624, 0.0771]), 'lhs': tensor([0.0220, 0.0432, 0.0569])})\n",
    "    0.1: TEST :  ({'rhs': 0.09354925900697708, 'lhs': 0.07570818066596985}, {'rhs': tensor([0.0652, 0.0992, 0.1534]), 'lhs': tensor([0.0441, 0.0808, 0.1460])})\n",
    "    0.2: TEST :  ({'rhs': 0.16996216773986816, 'lhs': 0.14886029064655304}, {'rhs': tensor([0.1240, 0.1837, 0.2709]), 'lhs': tensor([0.1001, 0.1625, 0.2433])})\n",
    "ComplEx_NNE:\n",
    "    0.05: TEST :  ({'rhs': 0.05283276364207268, 'lhs': 0.03663347661495209}, {'rhs': tensor([0.0303, 0.0542, 0.1313]), 'lhs': tensor([0.0248, 0.0404, 0.0533])})\n",
    "    0.1: TEST :  ({'rhs': 0.10471437871456146, 'lhs': 0.08562222868204117}, {'rhs': tensor([0.0707, 0.1166, 0.1579]), 'lhs': tensor([0.0533, 0.0955, 0.1423])})\n",
    "    0.2: TEST :  ({'rhs': 0.16743531823158264, 'lhs': 0.14582720398902893}, {'rhs': tensor([0.1221, 0.1818, 0.2489]), 'lhs': tensor([0.0992, 0.1589, 0.2296])}); "
   ]
  },
  {
   "cell_type": "markdown",
   "id": "1e9b6e77-cec8-45e7-be0d-2ac0d987aa06",
   "metadata": {},
   "source": [
    "## Transductive experiments:\n",
    "### Keep only some triplets of all head relations:\n",
    "For rp → rq, if (e1, rp, e2), Remove: (e1, rq, _) and (_, rq, e2), (e2, rq, e1)"
   ]
  },
  {
   "cell_type": "code",
   "execution_count": 26,
   "id": "6047471c-2b17-4a2a-a841-b73f23174496",
   "metadata": {},
   "outputs": [
    {
     "name": "stdout",
     "output_type": "stream",
     "text": [
      "272115\n"
     ]
    }
   ],
   "source": [
    "#read triples from training set\n",
    "training_f = 'kbc/src_data/FB237/original/train'\n",
    "train_triples = []\n",
    "with open(training_f, 'r') as f:\n",
    "    while True:\n",
    "        line = f.readline()\n",
    "        if line:\n",
    "            # two relations split by ',', confidence split by tab\n",
    "            line.replace('\\n', '')\n",
    "            lhs = (line.split('\\t')[0])\n",
    "            rel = (line.split('\\t')[1])\n",
    "            rhs = (line.split('\\t')[2])\n",
    "            \n",
    "#             if rel in rel_head_idx:\n",
    "            train_triples.append((lhs, rel, rhs))\n",
    "        else:\n",
    "            break\n",
    "print(len(train_triples))"
   ]
  },
  {
   "cell_type": "code",
   "execution_count": 27,
   "id": "e55a3da1-28f6-4b25-b90e-03104a5ed864",
   "metadata": {},
   "outputs": [
    {
     "name": "stdout",
     "output_type": "stream",
     "text": [
      "28\n"
     ]
    }
   ],
   "source": [
    "# read in all rules (using non-circular rules for now)\n",
    "rule_path = 'kbc/src_data/FB237/original/_entailment_cons-clean.txt'\n",
    "#### read in & convert rule ids and confidence\n",
    "kbc_id_conf_f = rule_path\n",
    "r_p_list = []\n",
    "r_q_list = []\n",
    "conf_list = []\n",
    "neg_list = []\n",
    "with open(kbc_id_conf_f, 'r') as f:\n",
    "    while True:\n",
    "        line = f.readline()\n",
    "        if line:\n",
    "            # two relations split by ',', confidence split by tab\n",
    "            line.replace('\\n', '')\n",
    "            if '-' in line:\n",
    "                neg_list.append(-1)\n",
    "                line = line[1:]\n",
    "            else:\n",
    "                neg_list.append(1)\n",
    "            r_p = line.split(',')[0]\n",
    "            r_q = line.split(',')[1].split('\\t')[0]\n",
    "            conf = line.split('\\t')[1]\n",
    "            # print(rel0, rel1, conf)\n",
    "            r_p_list.append(r_p)\n",
    "            r_q_list.append(r_q)\n",
    "            conf_list.append(conf)\n",
    "        else:\n",
    "            break\n",
    "rule_list = [r_p_list, r_q_list, conf_list, neg_list]\n",
    "print(len(rule_list[0]))"
   ]
  },
  {
   "cell_type": "code",
   "execution_count": 28,
   "id": "5c7cea2f-55d9-4a34-9266-307a7add51bb",
   "metadata": {},
   "outputs": [
    {
     "name": "stdout",
     "output_type": "stream",
     "text": [
      "272115\n",
      "272115\n",
      "264964\n"
     ]
    }
   ],
   "source": [
    "tmp_triples = train_triples.copy()\n",
    "print(len(train_triples))\n",
    "print(len(tmp_triples))\n",
    "seen_dict = {}\n",
    "cnt = 0\n",
    "for e1, r, e2 in train_triples:\n",
    "    for (r_p, r_q) in zip(r_p_list, r_q_list):\n",
    "        if r == r_p and r_p != r_q:\n",
    "            if (e1, r) in seen_dict:\n",
    "                try:\n",
    "                    tmp_triples.remove((e1, r, e2))\n",
    "                    break\n",
    "                except: \n",
    "                    pass\n",
    "            else:\n",
    "                seen_dict[(e1, r)] = (e1, r, e2)\n",
    "                break\n",
    "print(len(tmp_triples))\n",
    "train_triples = tmp_triples"
   ]
  },
  {
   "cell_type": "code",
   "execution_count": 29,
   "id": "98a372b5-d2bb-4e84-8b62-616893f593cd",
   "metadata": {},
   "outputs": [],
   "source": [
    "len(train_triples)\n",
    "new_train_file = open('kbc/src_data/FB237/train_1004', \"w\")\n",
    "for e1, r, e2 in train_triples:\n",
    "    new_train_file.write(str(e1) + '\\t' + str(r) + '\\t' + str(e2))\n",
    "new_train_file.close()"
   ]
  },
  {
   "cell_type": "code",
   "execution_count": 30,
   "id": "4a289d0b-a38d-4cc5-8bbc-23cec0295904",
   "metadata": {},
   "outputs": [
    {
     "name": "stdout",
     "output_type": "stream",
     "text": [
      "0\n",
      "5000\n",
      "10000\n",
      "15000\n",
      "20000\n",
      "25000\n",
      "30000\n",
      "35000\n",
      "40000\n",
      "45000\n",
      "50000\n",
      "55000\n",
      "60000\n",
      "65000\n",
      "70000\n",
      "75000\n",
      "80000\n",
      "85000\n",
      "90000\n",
      "95000\n",
      "100000\n",
      "105000\n",
      "110000\n",
      "115000\n",
      "120000\n",
      "125000\n",
      "130000\n",
      "135000\n",
      "140000\n",
      "145000\n",
      "150000\n",
      "155000\n",
      "160000\n",
      "165000\n",
      "170000\n",
      "175000\n",
      "180000\n",
      "185000\n",
      "190000\n",
      "195000\n",
      "200000\n",
      "205000\n",
      "210000\n",
      "215000\n",
      "220000\n",
      "225000\n",
      "230000\n",
      "235000\n",
      "240000\n",
      "245000\n",
      "250000\n",
      "255000\n",
      "260000\n",
      "extraction done\n",
      "259131\n",
      "6935\n"
     ]
    }
   ],
   "source": [
    "# filter out some triples with head relations\n",
    "entailment_triples = []\n",
    "remove_triples = []\n",
    "test_triples = []\n",
    "cnt = 0\n",
    "for e1, r, e2 in train_triples:\n",
    "    if cnt % 5000 == 0:\n",
    "        print(cnt)\n",
    "    cnt += 1\n",
    "    for (r_p, r_q) in zip(r_p_list, r_q_list):\n",
    "        if r == r_p and r_p != r_q:\n",
    "            test_triples.append((e1, r_q, e2))\n",
    "#             print(e1, r, e2, r_p, r_q)\n",
    "            tmp = [i for i in train_triples if (i[0] == e1 and i[1] == r_q and i[2] != e2) or (i[0] != e1 and i[1] == r_q and i[2] == e2) or (i[0] == e2 and i[1] == r_q and i[2] != e1) or (i[0] != e2 and i[1] == r_q and i[2] == e1)]\n",
    "            if len(tmp): \n",
    "#                 print((tmp[0]))\n",
    "                remove_triples += tmp\n",
    "    \n",
    "remove_triples = list(set(remove_triples))\n",
    "print(\"extraction done\")\n",
    "entailment_triples = [i for i in train_triples if i not in remove_triples]\n",
    "print(len(entailment_triples))\n",
    "print(len(test_triples))"
   ]
  },
  {
   "cell_type": "code",
   "execution_count": 31,
   "id": "ce6b3c22-4225-478d-9454-5af383c48508",
   "metadata": {},
   "outputs": [
    {
     "data": {
      "text/plain": [
       "5717"
      ]
     },
     "execution_count": 31,
     "metadata": {},
     "output_type": "execute_result"
    }
   ],
   "source": [
    "len(remove_triples)\n",
    "test_triples = list(set(test_triples))\n",
    "len(test_triples)"
   ]
  },
  {
   "cell_type": "code",
   "execution_count": 32,
   "id": "37f42b55-9854-4671-a4cf-dcc8c2791c31",
   "metadata": {},
   "outputs": [],
   "source": [
    "# save triples to file\n",
    "new_train_file = open('kbc/src_data/FB237/train_1004', \"w\")\n",
    "for e1, r, e2 in entailment_triples:\n",
    "    new_train_file.write(str(e1) + '\\t' + str(r) + '\\t' + str(e2))\n",
    "new_train_file.close()\n",
    "\n",
    "new_test_file = open('kbc/src_data/FB237/test_1004', \"w\")\n",
    "for e1, r, e2 in test_triples:\n",
    "    new_test_file.write(str(e1) + '\\t' + str(r) + '\\t' + str(e2))\n",
    "new_test_file.close()"
   ]
  },
  {
   "cell_type": "code",
   "execution_count": 38,
   "id": "0230ea9a-4fcd-4273-818d-6f8ccd25493c",
   "metadata": {},
   "outputs": [
    {
     "name": "stdout",
     "output_type": "stream",
     "text": [
      "222106\n",
      "79494\n"
     ]
    }
   ],
   "source": [
    "# save to pickle files\n",
    "print(len(entailment_triples))\n",
    "print(len(test_triples))\n",
    "train_out = open('/home/ComplEx-Inject/kbc/data/FB237/train.pickle', 'wb')\n",
    "test_out = open('/home/ComplEx-Inject/kbc/data/FB237/test.pickle', 'wb')\n",
    "\n",
    "pickle.dump(np.array(entailment_triples).astype('uint64'), train_out)\n",
    "train_out.close()\n",
    "pickle.dump(np.array(test_triples).astype('uint64'), test_out)\n",
    "test_out.close()"
   ]
  },
  {
   "cell_type": "markdown",
   "id": "6efa9d17-68b4-4b31-821b-04a3e0c653b2",
   "metadata": {},
   "source": [
    "# LogicNN exps"
   ]
  },
  {
   "cell_type": "code",
   "execution_count": 61,
   "id": "1f28ec44-732d-4910-9043-f57afc4d6678",
   "metadata": {},
   "outputs": [
    {
     "name": "stdout",
     "output_type": "stream",
     "text": [
      "{123: [129, 111, 114, 128], 200: [197, 77], 77: [197, 199], 178: [175], 177: [175, 178], 151: [71], 111: [114], 110: [115], 25: [45, 113], 121: [122], 101: [23], 22: [23], 197: [199], 40: [41, 38], 39: [41, 40], 38: [41], 0: [127], 188: [194]}\n"
     ]
    }
   ],
   "source": [
    "# read in all rules (using non-circular rules for now)\n",
    "rule_path = 'kbc/src_data/FB237/kbc_id_cons.txt'\n",
    "#### read in & convert rule ids and confidence\n",
    "kbc_id_conf_f = rule_path\n",
    "r_p_list = []\n",
    "r_q_list = []\n",
    "conf_list = []\n",
    "neg_list = []\n",
    "rule_dict = dict()\n",
    "with open(kbc_id_conf_f, 'r') as f:\n",
    "    while True:\n",
    "        line = f.readline()\n",
    "        if line:\n",
    "            # two relations split by ',', confidence split by tab\n",
    "            line.replace('\\n', '')\n",
    "            r_p = int(line.split(',')[0])\n",
    "            if r_p < 0:\n",
    "                # print(\"ignore negative rules\")\n",
    "                neg_list.append(-1)\n",
    "                r_p = -r_p\n",
    "#                 if r_p >= r_num:\n",
    "#                     print(\"suspicious relation id: \" + str(r_p))\n",
    "            else:\n",
    "                neg_list.append(1)\n",
    "            r_q = int(line.split(',')[1].split('\\t')[0])\n",
    "            conf = float(line.split('\\t')[1])\n",
    "            # print(rel0, rel1, conf)\n",
    "            r_p_list.append(r_p)\n",
    "            r_q_list.append(r_q)\n",
    "            conf_list.append(conf)\n",
    "            if r_p not in rule_dict:\n",
    "                rule_dict[r_p] = [r_q]\n",
    "            else:\n",
    "                rule_dict[r_p].append(r_q)\n",
    "            # print(r_p, r_q, conf)\n",
    "        else:\n",
    "            break\n",
    "rule_list = [r_p_list, r_q_list, conf_list, neg_list]\n",
    "print(rule_dict)"
   ]
  },
  {
   "cell_type": "code",
   "execution_count": 62,
   "id": "93eaa678-d2ff-4d3d-8b53-8716f8f582f7",
   "metadata": {},
   "outputs": [
    {
     "name": "stdout",
     "output_type": "stream",
     "text": [
      "272115\n"
     ]
    }
   ],
   "source": [
    "#read triples from training set\n",
    "training_f = 'kbc/src_data/FB237/train'\n",
    "train_triples = []\n",
    "with open(training_f, 'r') as f:\n",
    "    while True:\n",
    "        line = f.readline()\n",
    "        if line:\n",
    "            # two relations split by ',', confidence split by tab\n",
    "            line.replace('\\n', '')\n",
    "            lhs = int(line.split('\\t')[0])\n",
    "            rel = int(line.split('\\t')[1])\n",
    "            rhs = int(line.split('\\t')[2])\n",
    "            \n",
    "#             if rel in rel_head_idx:\n",
    "            train_triples.append((lhs, rel, rhs))\n",
    "        else:\n",
    "            break\n",
    "\n",
    "print(len(train_triples))"
   ]
  },
  {
   "cell_type": "code",
   "execution_count": 69,
   "id": "36e43ad1-0a63-4308-b946-8a0ab7d58132",
   "metadata": {},
   "outputs": [
    {
     "name": "stdout",
     "output_type": "stream",
     "text": [
      "225 272115\n"
     ]
    }
   ],
   "source": [
    "# preprocess, extract features for each rule\n",
    "entailment_triples = []\n",
    "entailment_idx = []\n",
    "for (r_p, r_q) in zip(r_p_list, r_q_list):\n",
    "    rule_entailment_triples = set()\n",
    "    rule_entailment_idx = np.zeros(len(train_triples))\n",
    "    for i, (e1, r, e2) in enumerate(train_triples):\n",
    "        if r == r_p:\n",
    "            if ((e1, r, e2), (e1, r_q, e2)) not in rule_entailment_triples:\n",
    "                rule_entailment_triples.add(((e1, r, e2), (e1, r_q, e2)))\n",
    "                rule_entailment_idx[i] = 1\n",
    "    entailment_triples.append(rule_entailment_triples)\n",
    "    entailment_idx.append(rule_entailment_idx)\n",
    "print(len(entailment_triples[0]), len(entailment_idx[0]))"
   ]
  },
  {
   "cell_type": "code",
   "execution_count": 73,
   "id": "fd132a44-ce92-4927-8dba-005b683206d0",
   "metadata": {},
   "outputs": [],
   "source": [
    "# use corresponding feature for each batch\n",
    "input_batch = train_triples[:1000]\n",
    "for i, fea in enumerate(entailment_triples):\n",
    "    # select related triples in current batch\n",
    "    batch_fea = []\n",
    "    for ((e1, head, e2), (e1, tail, e2)) in fea:\n",
    "        if (e1, head, e2) in input_batch:\n",
    "            batch_fea.append(((e1, head, e2), (e1, tail, e2)))\n",
    "#     print(len(batch_fea))"
   ]
  },
  {
   "cell_type": "code",
   "execution_count": 1,
   "id": "f1e735d1-f2b1-4e08-bb1c-96025d5d1da0",
   "metadata": {},
   "outputs": [
    {
     "name": "stdout",
     "output_type": "stream",
     "text": [
      "\n",
      "======> Parameter settings: Namespace(batch_size=256, dataset='FB237', decay1=0.9, decay2=0.999, init=0.001, learning_rate=0.1, max_epochs=2, model='ComplEx_logicNN', optimizer='Adagrad', rank=500, reg=0.001, regularizer='N3', rule_type=4, valid=5.0)\n",
      "original training number: 272115\n",
      "sample training number: 272115\n",
      "\n",
      "======> Number of training triples: torch.Size([272115, 3])\n",
      "\n",
      "======> Rule set path: /home/ComplEx-Inject/kbc/src_data/FB237/kbc_id_cons.txt\n",
      "\n",
      "======> Number of entities and relations: 14541 237\n"
     ]
    },
    {
     "ename": "KeyboardInterrupt",
     "evalue": "",
     "output_type": "error",
     "traceback": [
      "\u001b[0;31m---------------------------------------------------------------------------\u001b[0m",
      "\u001b[0;31mKeyboardInterrupt\u001b[0m                         Traceback (most recent call last)",
      "\u001b[0;32m/home/ComplEx-Inject/kbc/learn_logicNN.py\u001b[0m in \u001b[0;36m<module>\u001b[0;34m\u001b[0m\n\u001b[1;32m    118\u001b[0m }[args.model]()\n\u001b[1;32m    119\u001b[0m \u001b[0;31m# load in a pretrained model (use the pre-trained embeddings)\u001b[0m\u001b[0;34m\u001b[0m\u001b[0;34m\u001b[0m\u001b[0;34m\u001b[0m\u001b[0m\n\u001b[0;32m--> 120\u001b[0;31m \u001b[0;34m(\u001b[0m\u001b[0mold_model\u001b[0m\u001b[0;34m,\u001b[0m \u001b[0mold_data\u001b[0m\u001b[0;34m)\u001b[0m \u001b[0;34m=\u001b[0m \u001b[0mtorch\u001b[0m\u001b[0;34m.\u001b[0m\u001b[0mload\u001b[0m\u001b[0;34m(\u001b[0m\u001b[0;34m'saved_models/2021-09-01_21-13-27_FB237_ComplEx.pkl'\u001b[0m\u001b[0;34m)\u001b[0m\u001b[0;34m\u001b[0m\u001b[0;34m\u001b[0m\u001b[0m\n\u001b[0m\u001b[1;32m    121\u001b[0m \u001b[0mmodel\u001b[0m\u001b[0;34m.\u001b[0m\u001b[0membeddings\u001b[0m \u001b[0;34m=\u001b[0m \u001b[0mold_model\u001b[0m\u001b[0;34m.\u001b[0m\u001b[0membeddings\u001b[0m\u001b[0;34m\u001b[0m\u001b[0;34m\u001b[0m\u001b[0m\n\u001b[1;32m    122\u001b[0m \u001b[0mprint\u001b[0m\u001b[0;34m(\u001b[0m\u001b[0;34m\"finish loading pre-trained embeddings\"\u001b[0m\u001b[0;34m)\u001b[0m\u001b[0;34m\u001b[0m\u001b[0;34m\u001b[0m\u001b[0m\n",
      "\u001b[0;32m/opt/conda/lib/python3.7/site-packages/torch/serialization.py\u001b[0m in \u001b[0;36mload\u001b[0;34m(f, map_location, pickle_module, **pickle_load_args)\u001b[0m\n\u001b[1;32m    591\u001b[0m                     \u001b[0;32mreturn\u001b[0m \u001b[0mtorch\u001b[0m\u001b[0;34m.\u001b[0m\u001b[0mjit\u001b[0m\u001b[0;34m.\u001b[0m\u001b[0mload\u001b[0m\u001b[0;34m(\u001b[0m\u001b[0mf\u001b[0m\u001b[0;34m)\u001b[0m\u001b[0;34m\u001b[0m\u001b[0;34m\u001b[0m\u001b[0m\n\u001b[1;32m    592\u001b[0m                 \u001b[0;32mreturn\u001b[0m \u001b[0m_load\u001b[0m\u001b[0;34m(\u001b[0m\u001b[0mopened_zipfile\u001b[0m\u001b[0;34m,\u001b[0m \u001b[0mmap_location\u001b[0m\u001b[0;34m,\u001b[0m \u001b[0mpickle_module\u001b[0m\u001b[0;34m,\u001b[0m \u001b[0;34m**\u001b[0m\u001b[0mpickle_load_args\u001b[0m\u001b[0;34m)\u001b[0m\u001b[0;34m\u001b[0m\u001b[0;34m\u001b[0m\u001b[0m\n\u001b[0;32m--> 593\u001b[0;31m         \u001b[0;32mreturn\u001b[0m \u001b[0m_legacy_load\u001b[0m\u001b[0;34m(\u001b[0m\u001b[0mopened_file\u001b[0m\u001b[0;34m,\u001b[0m \u001b[0mmap_location\u001b[0m\u001b[0;34m,\u001b[0m \u001b[0mpickle_module\u001b[0m\u001b[0;34m,\u001b[0m \u001b[0;34m**\u001b[0m\u001b[0mpickle_load_args\u001b[0m\u001b[0;34m)\u001b[0m\u001b[0;34m\u001b[0m\u001b[0;34m\u001b[0m\u001b[0m\n\u001b[0m\u001b[1;32m    594\u001b[0m \u001b[0;34m\u001b[0m\u001b[0m\n\u001b[1;32m    595\u001b[0m \u001b[0;34m\u001b[0m\u001b[0m\n",
      "\u001b[0;32m/opt/conda/lib/python3.7/site-packages/torch/serialization.py\u001b[0m in \u001b[0;36m_legacy_load\u001b[0;34m(f, map_location, pickle_module, **pickle_load_args)\u001b[0m\n\u001b[1;32m    771\u001b[0m     \u001b[0munpickler\u001b[0m \u001b[0;34m=\u001b[0m \u001b[0mpickle_module\u001b[0m\u001b[0;34m.\u001b[0m\u001b[0mUnpickler\u001b[0m\u001b[0;34m(\u001b[0m\u001b[0mf\u001b[0m\u001b[0;34m,\u001b[0m \u001b[0;34m**\u001b[0m\u001b[0mpickle_load_args\u001b[0m\u001b[0;34m)\u001b[0m\u001b[0;34m\u001b[0m\u001b[0;34m\u001b[0m\u001b[0m\n\u001b[1;32m    772\u001b[0m     \u001b[0munpickler\u001b[0m\u001b[0;34m.\u001b[0m\u001b[0mpersistent_load\u001b[0m \u001b[0;34m=\u001b[0m \u001b[0mpersistent_load\u001b[0m\u001b[0;34m\u001b[0m\u001b[0;34m\u001b[0m\u001b[0m\n\u001b[0;32m--> 773\u001b[0;31m     \u001b[0mresult\u001b[0m \u001b[0;34m=\u001b[0m \u001b[0munpickler\u001b[0m\u001b[0;34m.\u001b[0m\u001b[0mload\u001b[0m\u001b[0;34m(\u001b[0m\u001b[0;34m)\u001b[0m\u001b[0;34m\u001b[0m\u001b[0;34m\u001b[0m\u001b[0m\n\u001b[0m\u001b[1;32m    774\u001b[0m \u001b[0;34m\u001b[0m\u001b[0m\n\u001b[1;32m    775\u001b[0m     \u001b[0mdeserialized_storage_keys\u001b[0m \u001b[0;34m=\u001b[0m \u001b[0mpickle_module\u001b[0m\u001b[0;34m.\u001b[0m\u001b[0mload\u001b[0m\u001b[0;34m(\u001b[0m\u001b[0mf\u001b[0m\u001b[0;34m,\u001b[0m \u001b[0;34m**\u001b[0m\u001b[0mpickle_load_args\u001b[0m\u001b[0;34m)\u001b[0m\u001b[0;34m\u001b[0m\u001b[0;34m\u001b[0m\u001b[0m\n",
      "\u001b[0;31mKeyboardInterrupt\u001b[0m: "
     ]
    }
   ],
   "source": [
    "# sample run\n",
    "%run kbc/learn_logicNN.py --dataset FB237 --model ComplEx_logicNN --rank 500 --optimizer Adagrad --learning_rate 1e-1 --rule_type 4 --batch_size 256 --regularizer N3 --reg 1e-3 --max_epochs 2 --valid 5"
   ]
  },
  {
   "cell_type": "code",
   "execution_count": 2,
   "id": "25873824-0f12-42b0-b011-6cf95c5024f0",
   "metadata": {},
   "outputs": [
    {
     "name": "stderr",
     "output_type": "stream",
     "text": [
      "/opt/conda/lib/python3.7/site-packages/torch/serialization.py:657: SourceChangeWarning: source code of class 'models.ComplEx_logicNN' has changed. you can retrieve the original source code by accessing the object's source attribute or set `torch.nn.Module.dump_patches = True` and use the patch tool to revert the changes.\n",
      "  warnings.warn(msg, SourceChangeWarning)\n"
     ]
    },
    {
     "data": {
      "text/plain": [
       "tensor([[ 3818,   122,  8942],\n",
       "        [  819,   230,  9234],\n",
       "        [ 9791,   140,   756],\n",
       "        ...,\n",
       "        [11737,   198,  4042],\n",
       "        [12535,    13,  9678],\n",
       "        [ 3203,    11, 10433]])"
      ]
     },
     "execution_count": 2,
     "metadata": {},
     "output_type": "execute_result"
    }
   ],
   "source": [
    "(old_model, old_data) = torch.load('saved_models/2021-09-01_16-20-16_FB237_ComplEx_logicNN.pkl')\n",
    "example = torch.from_numpy(old_data.get_train().astype('int64'))\n",
    "example"
   ]
  },
  {
   "cell_type": "code",
   "execution_count": null,
   "id": "29e1fcef-cac4-43ce-945b-b45ba3354228",
   "metadata": {},
   "outputs": [],
   "source": [
    "old_model.fea_generator(4, example, 14541)"
   ]
  },
  {
   "cell_type": "code",
   "execution_count": 8,
   "id": "8afdfa16-cf6c-4a82-9124-793844ad2531",
   "metadata": {},
   "outputs": [
    {
     "data": {
      "text/plain": [
       "[[0, 1, 2], [1, 2, 3], [2, 3, 4]]"
      ]
     },
     "execution_count": 8,
     "metadata": {},
     "output_type": "execute_result"
    }
   ],
   "source": [
    "a = [[0, 1, 2]] + [[1, 2, 3], [2, 3, 4]]\n",
    "a"
   ]
  },
  {
   "cell_type": "code",
   "execution_count": 4,
   "id": "4f4ccd80-0dfa-4732-9fef-d23d373093ef",
   "metadata": {},
   "outputs": [
    {
     "name": "stdout",
     "output_type": "stream",
     "text": [
      "# of triples in ranking: 20466\n"
     ]
    },
    {
     "data": {
      "text/plain": [
       "({'rhs': 0.4418560266494751, 'lhs': 0.001217542914673686},\n",
       " {'rhs': tensor([0.3447, 0.4852, 0.6379]),\n",
       "  'lhs': tensor([0.0002, 0.0007, 0.0018])})"
      ]
     },
     "execution_count": 4,
     "metadata": {},
     "output_type": "execute_result"
    }
   ],
   "source": [
    "(old_model, old_data) = torch.load('saved_models/2021-09-01_21-13-27_FB237_ComplEx.pkl')\n",
    "accuracy = old_data.eval(old_model, 'test', -1)\n",
    "accuracy"
   ]
  },
  {
   "cell_type": "code",
   "execution_count": null,
   "id": "469ee516-4448-409a-ac84-11ae65c06a6b",
   "metadata": {},
   "outputs": [],
   "source": []
  }
 ],
 "metadata": {
  "kernelspec": {
   "display_name": "Python 3",
   "language": "python",
   "name": "python3"
  },
  "language_info": {
   "codemirror_mode": {
    "name": "ipython",
    "version": 3
   },
   "file_extension": ".py",
   "mimetype": "text/x-python",
   "name": "python",
   "nbconvert_exporter": "python",
   "pygments_lexer": "ipython3",
   "version": "3.7.7"
  },
  "toc-autonumbering": true,
  "toc-showcode": false,
  "toc-showtags": true
 },
 "nbformat": 4,
 "nbformat_minor": 5
}
